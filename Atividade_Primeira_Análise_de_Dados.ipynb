{
  "nbformat": 4,
  "nbformat_minor": 0,
  "metadata": {
    "colab": {
      "provenance": [],
      "include_colab_link": true
    },
    "kernelspec": {
      "name": "python3",
      "display_name": "Python 3"
    },
    "language_info": {
      "name": "python"
    }
  },
  "cells": [
    {
      "cell_type": "markdown",
      "metadata": {
        "id": "view-in-github",
        "colab_type": "text"
      },
      "source": [
        "<a href=\"https://colab.research.google.com/github/Mateuspv/Teste/blob/main/Atividade_Primeira_An%C3%A1lise_de_Dados.ipynb\" target=\"_parent\"><img src=\"https://colab.research.google.com/assets/colab-badge.svg\" alt=\"Open In Colab\"/></a>"
      ]
    },
    {
      "cell_type": "markdown",
      "source": [
        "# Prática 1 - Dados de uma rede de Supermercados \n"
      ],
      "metadata": {
        "id": "1bWTEgl8LF90"
      }
    },
    {
      "cell_type": "markdown",
      "source": [
        "#<font color='red'>Crie um texto sobre o contexto dessa base de dados, detalhando cada coluna:</font>\n",
        "### Contexto: Dados de vendas de três filiais com cerca de 1000 linhas, a coluna total significa o rendimento bruto....\n",
        "\n"
      ],
      "metadata": {
        "id": "_w8XzrmzA3w4"
      }
    },
    {
      "cell_type": "markdown",
      "source": [
        ">Dados de Vendas de três filiais com cerca de 1000 linhas de dados, e 15 colunas com dados para serem analisados, referente a 3 meses de dados, onde é visto a coluna total que representa o rendimento bruto do produto vendido em cada filial, os diferentes tipos de clientes que existem, e seu genero, as linhas de produtos que são mais vendidos, analisando o preço unitario e quantidade vendido de cada produto, alem dos tipos de pagamento mais utilizados, data com o mes que cada produto foi vendido, e a avalição mostrando o quanto os clientes acharam beneficos aqueles produtos, alem de serem descartadas as colunas porcentagem de margem bruta, renda bruta, ID da fatura, que vão ser utilizadas, alem da criação da coluna lucro sendo o Total - COGS"
      ],
      "metadata": {
        "id": "t03GVw7uZKqO"
      }
    },
    {
      "cell_type": "code",
      "execution_count": null,
      "metadata": {
        "id": "qHkxlLgEKqqy"
      },
      "outputs": [],
      "source": [
        "import gdown #gdown é a biblioteca para baixar arquivos do drive"
      ]
    },
    {
      "cell_type": "markdown",
      "source": [
        "### Os dados se encontram nesse link:"
      ],
      "metadata": {
        "id": "qdsBz9_iuPM9"
      }
    },
    {
      "cell_type": "markdown",
      "source": [
        "Dados: https://docs.google.com/spreadsheets/d/1exmP2er4MvJ4yyaop3_yGhCYYmGb7s6A/edit?usp=share_link&ouid=110731142320700311054&rtpof=true&sd=true"
      ],
      "metadata": {
        "id": "-tSRNWnNBdfl"
      }
    },
    {
      "cell_type": "markdown",
      "source": [
        "#<font color='red'>Por que se utiliza \"!\" antes do comando gdown, para baixar a base?</font>\n"
      ],
      "metadata": {
        "id": "mWNL2xSRDDr7"
      }
    },
    {
      "cell_type": "markdown",
      "source": [
        ">Pois não está fazendo um comando do python, mas sim para um comando do computador/VM\n"
      ],
      "metadata": {
        "id": "DzvIUGpqZRe1"
      }
    },
    {
      "cell_type": "code",
      "source": [
        "!gdown 1exmP2er4MvJ4yyaop3_yGhCYYmGb7s6A #Apenas o Hash do arquivo "
      ],
      "metadata": {
        "colab": {
          "base_uri": "https://localhost:8080/"
        },
        "id": "j7zmue3pK-sb",
        "outputId": "c420246e-7e20-4d09-b7f4-935bc75e89cb"
      },
      "execution_count": null,
      "outputs": [
        {
          "output_type": "stream",
          "name": "stdout",
          "text": [
            "Downloading...\n",
            "From: https://drive.google.com/uc?id=1exmP2er4MvJ4yyaop3_yGhCYYmGb7s6A\n",
            "To: /content/SuperMercados.xlsx\n",
            "\r  0% 0.00/97.5k [00:00<?, ?B/s]\r100% 97.5k/97.5k [00:00<00:00, 87.2MB/s]\n"
          ]
        }
      ]
    },
    {
      "cell_type": "markdown",
      "source": [
        "### Foi utilizado a biblioteca gdown para transferir do drive para a IDE Colab"
      ],
      "metadata": {
        "id": "bgCjZVuduVPX"
      }
    },
    {
      "cell_type": "markdown",
      "source": [
        "\n",
        "#<font color='red'>Por que precisamos de bibliotecas no python?</font>\n",
        "#<font color='red'>Coloque o link da documentação dessas bibliotecas para que serve (detalhadamente)</font>\n",
        "\n",
        "\n",
        "##### Exemplo:\n",
        "##### --> Numpy, é ...."
      ],
      "metadata": {
        "id": "mIdGZ9ZEueSC"
      }
    },
    {
      "cell_type": "markdown",
      "source": [
        "> Para facilitarmos e agilizarmos o processo de análise, emprestando métodos e funções já existentes.\n",
        "\n",
        "> Numpy, fornece suporte para arrays e matrizes multidimensionais, bem como funções matemáticas que operam nesses objetos. Documentação: https://numpy.org/doc/stable/.\n",
        "\n",
        "> Pandas, utilizada para manipulação, limpeza e análise de dados. O Pandas é  útil para trabalhar com dados em diversas áreas. Documentação: https://pandas.pydata.org/docs/.\n",
        "\n",
        ">Matplotlib, usada para criação de graficos e visualizações de dados em geral. Documentação: https://matplotlib.org/stable/\n",
        "\n",
        "> seaborn, usada para criar os mais variaves tipos de graficos, e analise exploratorio de dados. Documentação:https://seaborn.pydata.org/tutorial/introduction\n"
      ],
      "metadata": {
        "id": "7i-iPUM3Zz9n"
      }
    },
    {
      "cell_type": "code",
      "source": [
        "import numpy as np  #Biblioteca responsável por operações matemáticas \n",
        "import pandas as pd # Biblioteca responsável pela manipulação de dados\n",
        "import matplotlib.pyplot as plt # Biblioteca responsável pela visualização de dados\n",
        "import seaborn as sns # Biblioteca de visualização de dados em alto nível \n"
      ],
      "metadata": {
        "id": "5A2z_Cs3LeOj"
      },
      "execution_count": null,
      "outputs": []
    },
    {
      "cell_type": "code",
      "source": [
        "df = pd.read_excel('SuperMercados.xlsx') #Leitura dos dados para um dataframe (df)"
      ],
      "metadata": {
        "id": "gRyru4piL6-4"
      },
      "execution_count": null,
      "outputs": []
    },
    {
      "cell_type": "code",
      "source": [
        "df.head() #Mostra apenas as cinco primeiras linhas do dataframe"
      ],
      "metadata": {
        "colab": {
          "base_uri": "https://localhost:8080/",
          "height": 206
        },
        "id": "Mp72QueyMOL6",
        "outputId": "6a33913f-87e9-49fc-b7bb-71340dee972a"
      },
      "execution_count": null,
      "outputs": [
        {
          "output_type": "execute_result",
          "data": {
            "text/plain": [
              "   Unnamed: 0 ID da fatura Filial Tipo de Cliente Gênero  \\\n",
              "0           0  750-67-8428      A          Member      F   \n",
              "1           1  226-31-3081      C          Normal      F   \n",
              "2           2  631-41-3108      A          Normal      M   \n",
              "3           3  123-19-1176      A          Member      M   \n",
              "4           4  373-73-7910      A          Normal      M   \n",
              "\n",
              "         Linha de produto  Preço unitário  Quantidade    Total       Data  \\\n",
              "0          Saúde e beleza         1120.35           7  7842.45   1/5/2019   \n",
              "1  Acessórios eletrônicos          229.20           5  1146.00   3/8/2019   \n",
              "2   Casa e estilo de vida          694.95           7  4864.65   3/3/2019   \n",
              "3          Saúde e beleza          873.30           8  6986.40  1/27/2019   \n",
              "4      Esportes e viagens         1294.65           7  9062.55   2/8/2019   \n",
              "\n",
              "      Tempo          Pagamento       COGS  porcentagem de margem bruta  \\\n",
              "0  13:08:00                PIX  4705.4700                   4761904762   \n",
              "1  10:29:00           Dinheiro  1031.4000                   4761904762   \n",
              "2  13:23:00  Cartão de Crédito  3405.2550                   4761904762   \n",
              "3  20:33:00                PIX  4191.8400                   4761904762   \n",
              "4  10:37:00                PIX  6796.9125                   4761904762   \n",
              "\n",
              "   renda bruta  Avaliação  \n",
              "0       261415         91  \n",
              "1          382         96  \n",
              "2       162155         74  \n",
              "3        23288         84  \n",
              "4       302085         53  "
            ],
            "text/html": [
              "\n",
              "  <div id=\"df-bd6002e3-a3d0-4e63-b30e-bf7b2d3e0605\">\n",
              "    <div class=\"colab-df-container\">\n",
              "      <div>\n",
              "<style scoped>\n",
              "    .dataframe tbody tr th:only-of-type {\n",
              "        vertical-align: middle;\n",
              "    }\n",
              "\n",
              "    .dataframe tbody tr th {\n",
              "        vertical-align: top;\n",
              "    }\n",
              "\n",
              "    .dataframe thead th {\n",
              "        text-align: right;\n",
              "    }\n",
              "</style>\n",
              "<table border=\"1\" class=\"dataframe\">\n",
              "  <thead>\n",
              "    <tr style=\"text-align: right;\">\n",
              "      <th></th>\n",
              "      <th>Unnamed: 0</th>\n",
              "      <th>ID da fatura</th>\n",
              "      <th>Filial</th>\n",
              "      <th>Tipo de Cliente</th>\n",
              "      <th>Gênero</th>\n",
              "      <th>Linha de produto</th>\n",
              "      <th>Preço unitário</th>\n",
              "      <th>Quantidade</th>\n",
              "      <th>Total</th>\n",
              "      <th>Data</th>\n",
              "      <th>Tempo</th>\n",
              "      <th>Pagamento</th>\n",
              "      <th>COGS</th>\n",
              "      <th>porcentagem de margem bruta</th>\n",
              "      <th>renda bruta</th>\n",
              "      <th>Avaliação</th>\n",
              "    </tr>\n",
              "  </thead>\n",
              "  <tbody>\n",
              "    <tr>\n",
              "      <th>0</th>\n",
              "      <td>0</td>\n",
              "      <td>750-67-8428</td>\n",
              "      <td>A</td>\n",
              "      <td>Member</td>\n",
              "      <td>F</td>\n",
              "      <td>Saúde e beleza</td>\n",
              "      <td>1120.35</td>\n",
              "      <td>7</td>\n",
              "      <td>7842.45</td>\n",
              "      <td>1/5/2019</td>\n",
              "      <td>13:08:00</td>\n",
              "      <td>PIX</td>\n",
              "      <td>4705.4700</td>\n",
              "      <td>4761904762</td>\n",
              "      <td>261415</td>\n",
              "      <td>91</td>\n",
              "    </tr>\n",
              "    <tr>\n",
              "      <th>1</th>\n",
              "      <td>1</td>\n",
              "      <td>226-31-3081</td>\n",
              "      <td>C</td>\n",
              "      <td>Normal</td>\n",
              "      <td>F</td>\n",
              "      <td>Acessórios eletrônicos</td>\n",
              "      <td>229.20</td>\n",
              "      <td>5</td>\n",
              "      <td>1146.00</td>\n",
              "      <td>3/8/2019</td>\n",
              "      <td>10:29:00</td>\n",
              "      <td>Dinheiro</td>\n",
              "      <td>1031.4000</td>\n",
              "      <td>4761904762</td>\n",
              "      <td>382</td>\n",
              "      <td>96</td>\n",
              "    </tr>\n",
              "    <tr>\n",
              "      <th>2</th>\n",
              "      <td>2</td>\n",
              "      <td>631-41-3108</td>\n",
              "      <td>A</td>\n",
              "      <td>Normal</td>\n",
              "      <td>M</td>\n",
              "      <td>Casa e estilo de vida</td>\n",
              "      <td>694.95</td>\n",
              "      <td>7</td>\n",
              "      <td>4864.65</td>\n",
              "      <td>3/3/2019</td>\n",
              "      <td>13:23:00</td>\n",
              "      <td>Cartão de Crédito</td>\n",
              "      <td>3405.2550</td>\n",
              "      <td>4761904762</td>\n",
              "      <td>162155</td>\n",
              "      <td>74</td>\n",
              "    </tr>\n",
              "    <tr>\n",
              "      <th>3</th>\n",
              "      <td>3</td>\n",
              "      <td>123-19-1176</td>\n",
              "      <td>A</td>\n",
              "      <td>Member</td>\n",
              "      <td>M</td>\n",
              "      <td>Saúde e beleza</td>\n",
              "      <td>873.30</td>\n",
              "      <td>8</td>\n",
              "      <td>6986.40</td>\n",
              "      <td>1/27/2019</td>\n",
              "      <td>20:33:00</td>\n",
              "      <td>PIX</td>\n",
              "      <td>4191.8400</td>\n",
              "      <td>4761904762</td>\n",
              "      <td>23288</td>\n",
              "      <td>84</td>\n",
              "    </tr>\n",
              "    <tr>\n",
              "      <th>4</th>\n",
              "      <td>4</td>\n",
              "      <td>373-73-7910</td>\n",
              "      <td>A</td>\n",
              "      <td>Normal</td>\n",
              "      <td>M</td>\n",
              "      <td>Esportes e viagens</td>\n",
              "      <td>1294.65</td>\n",
              "      <td>7</td>\n",
              "      <td>9062.55</td>\n",
              "      <td>2/8/2019</td>\n",
              "      <td>10:37:00</td>\n",
              "      <td>PIX</td>\n",
              "      <td>6796.9125</td>\n",
              "      <td>4761904762</td>\n",
              "      <td>302085</td>\n",
              "      <td>53</td>\n",
              "    </tr>\n",
              "  </tbody>\n",
              "</table>\n",
              "</div>\n",
              "      <button class=\"colab-df-convert\" onclick=\"convertToInteractive('df-bd6002e3-a3d0-4e63-b30e-bf7b2d3e0605')\"\n",
              "              title=\"Convert this dataframe to an interactive table.\"\n",
              "              style=\"display:none;\">\n",
              "        \n",
              "  <svg xmlns=\"http://www.w3.org/2000/svg\" height=\"24px\"viewBox=\"0 0 24 24\"\n",
              "       width=\"24px\">\n",
              "    <path d=\"M0 0h24v24H0V0z\" fill=\"none\"/>\n",
              "    <path d=\"M18.56 5.44l.94 2.06.94-2.06 2.06-.94-2.06-.94-.94-2.06-.94 2.06-2.06.94zm-11 1L8.5 8.5l.94-2.06 2.06-.94-2.06-.94L8.5 2.5l-.94 2.06-2.06.94zm10 10l.94 2.06.94-2.06 2.06-.94-2.06-.94-.94-2.06-.94 2.06-2.06.94z\"/><path d=\"M17.41 7.96l-1.37-1.37c-.4-.4-.92-.59-1.43-.59-.52 0-1.04.2-1.43.59L10.3 9.45l-7.72 7.72c-.78.78-.78 2.05 0 2.83L4 21.41c.39.39.9.59 1.41.59.51 0 1.02-.2 1.41-.59l7.78-7.78 2.81-2.81c.8-.78.8-2.07 0-2.86zM5.41 20L4 18.59l7.72-7.72 1.47 1.35L5.41 20z\"/>\n",
              "  </svg>\n",
              "      </button>\n",
              "      \n",
              "  <style>\n",
              "    .colab-df-container {\n",
              "      display:flex;\n",
              "      flex-wrap:wrap;\n",
              "      gap: 12px;\n",
              "    }\n",
              "\n",
              "    .colab-df-convert {\n",
              "      background-color: #E8F0FE;\n",
              "      border: none;\n",
              "      border-radius: 50%;\n",
              "      cursor: pointer;\n",
              "      display: none;\n",
              "      fill: #1967D2;\n",
              "      height: 32px;\n",
              "      padding: 0 0 0 0;\n",
              "      width: 32px;\n",
              "    }\n",
              "\n",
              "    .colab-df-convert:hover {\n",
              "      background-color: #E2EBFA;\n",
              "      box-shadow: 0px 1px 2px rgba(60, 64, 67, 0.3), 0px 1px 3px 1px rgba(60, 64, 67, 0.15);\n",
              "      fill: #174EA6;\n",
              "    }\n",
              "\n",
              "    [theme=dark] .colab-df-convert {\n",
              "      background-color: #3B4455;\n",
              "      fill: #D2E3FC;\n",
              "    }\n",
              "\n",
              "    [theme=dark] .colab-df-convert:hover {\n",
              "      background-color: #434B5C;\n",
              "      box-shadow: 0px 1px 3px 1px rgba(0, 0, 0, 0.15);\n",
              "      filter: drop-shadow(0px 1px 2px rgba(0, 0, 0, 0.3));\n",
              "      fill: #FFFFFF;\n",
              "    }\n",
              "  </style>\n",
              "\n",
              "      <script>\n",
              "        const buttonEl =\n",
              "          document.querySelector('#df-bd6002e3-a3d0-4e63-b30e-bf7b2d3e0605 button.colab-df-convert');\n",
              "        buttonEl.style.display =\n",
              "          google.colab.kernel.accessAllowed ? 'block' : 'none';\n",
              "\n",
              "        async function convertToInteractive(key) {\n",
              "          const element = document.querySelector('#df-bd6002e3-a3d0-4e63-b30e-bf7b2d3e0605');\n",
              "          const dataTable =\n",
              "            await google.colab.kernel.invokeFunction('convertToInteractive',\n",
              "                                                     [key], {});\n",
              "          if (!dataTable) return;\n",
              "\n",
              "          const docLinkHtml = 'Like what you see? Visit the ' +\n",
              "            '<a target=\"_blank\" href=https://colab.research.google.com/notebooks/data_table.ipynb>data table notebook</a>'\n",
              "            + ' to learn more about interactive tables.';\n",
              "          element.innerHTML = '';\n",
              "          dataTable['output_type'] = 'display_data';\n",
              "          await google.colab.output.renderOutput(dataTable, element);\n",
              "          const docLink = document.createElement('div');\n",
              "          docLink.innerHTML = docLinkHtml;\n",
              "          element.appendChild(docLink);\n",
              "        }\n",
              "      </script>\n",
              "    </div>\n",
              "  </div>\n",
              "  "
            ]
          },
          "metadata": {},
          "execution_count": 5
        }
      ]
    },
    {
      "cell_type": "markdown",
      "source": [
        "# Etapa: Limpeza e transformação da base de dados"
      ],
      "metadata": {
        "id": "CiVFttSmNA0p"
      }
    },
    {
      "cell_type": "markdown",
      "source": [
        "#<font color='red'>Explique o comando abaixo, de qual biblioteca se trata?</font>"
      ],
      "metadata": {
        "id": "zgyxhF1DEiUy"
      }
    },
    {
      "cell_type": "markdown",
      "source": [
        ">O comando vem da biblioteca seaborn, serve para ver um mapa de calor dos dados que estão faltando ou corrompidos do banco de dados."
      ],
      "metadata": {
        "id": "nq2PrU_shhuy"
      }
    },
    {
      "cell_type": "code",
      "source": [
        "sns.heatmap(df.isnull(),\n",
        "            yticklabels = False,\n",
        "            cbar = False,\n",
        "            cmap = 'gnuplot') #Função do seaborn para visualizar dados que estejam faltando (NaN = Not a Number)"
      ],
      "metadata": {
        "colab": {
          "base_uri": "https://localhost:8080/",
          "height": 429
        },
        "id": "Iak_-2ExMcNS",
        "outputId": "14220339-2bdf-497d-c360-458617a439cc"
      },
      "execution_count": null,
      "outputs": [
        {
          "output_type": "execute_result",
          "data": {
            "text/plain": [
              "<Axes: >"
            ]
          },
          "metadata": {},
          "execution_count": 6
        },
        {
          "output_type": "display_data",
          "data": {
            "text/plain": [
              "<Figure size 432x288 with 1 Axes>"
            ],
            "image/png": "[encoded data removed]"
          },
          "metadata": {
            "needs_background": "light"
          }
        }
      ]
    },
    {
      "cell_type": "code",
      "source": [
        "df #Para verificar os dados"
      ],
      "metadata": {
        "colab": {
          "base_uri": "https://localhost:8080/",
          "height": 424
        },
        "id": "0wZnPaOgNc8J",
        "outputId": "b715a3bb-911b-425d-b425-7adffe90ad11"
      },
      "execution_count": null,
      "outputs": [
        {
          "output_type": "execute_result",
          "data": {
            "text/plain": [
              "     Unnamed: 0 ID da fatura Filial Tipo de Cliente Gênero  \\\n",
              "0             0  750-67-8428      A          Member      F   \n",
              "1             1  226-31-3081      C          Normal      F   \n",
              "2             2  631-41-3108      A          Normal      M   \n",
              "3             3  123-19-1176      A          Member      M   \n",
              "4             4  373-73-7910      A          Normal      M   \n",
              "..          ...          ...    ...             ...    ...   \n",
              "995         995  233-67-5758      C          Normal      M   \n",
              "996         996  303-96-2227      B          Normal      F   \n",
              "997         997  727-02-1313      A          Member      M   \n",
              "998         998  347-56-2442      A          Normal      M   \n",
              "999         999  849-09-3807      A          Member      F   \n",
              "\n",
              "           Linha de produto  Preço unitário  Quantidade     Total       Data  \\\n",
              "0            Saúde e beleza         1120.35           7   7842.45   1/5/2019   \n",
              "1    Acessórios eletrônicos          229.20           5   1146.00   3/8/2019   \n",
              "2     Casa e estilo de vida          694.95           7   4864.65   3/3/2019   \n",
              "3            Saúde e beleza          873.30           8   6986.40  1/27/2019   \n",
              "4        Esportes e viagens         1294.65           7   9062.55   2/8/2019   \n",
              "..                      ...             ...         ...       ...        ...   \n",
              "995          Saúde e beleza          605.25           1    605.25  1/29/2019   \n",
              "996   Casa e estilo de vida         1460.70          10  14607.00   3/2/2019   \n",
              "997        Comida e bebidas          477.60           1    477.60   2/9/2019   \n",
              "998   Casa e estilo de vida          987.30           1    987.30  2/22/2019   \n",
              "999     Acessórios fashions         1325.10           7   9275.70  2/18/2019   \n",
              "\n",
              "        Tempo          Pagamento        COGS  porcentagem de margem bruta  \\\n",
              "0    13:08:00                PIX   4705.4700                   4761904762   \n",
              "1    10:29:00           Dinheiro   1031.4000                   4761904762   \n",
              "2    13:23:00  Cartão de Crédito   3405.2550                   4761904762   \n",
              "3    20:33:00                PIX   4191.8400                   4761904762   \n",
              "4    10:37:00                PIX   6796.9125                   4761904762   \n",
              "..        ...                ...         ...                          ...   \n",
              "995  13:46:00                PIX    363.1500                   4761904762   \n",
              "996  17:16:00                PIX  10224.9000                   4761904762   \n",
              "997  13:22:00           Dinheiro    405.9600                   4761904762   \n",
              "998  15:33:00           Dinheiro    691.1100                   4761904762   \n",
              "999  13:28:00           Dinheiro   6956.7750                   4761904762   \n",
              "\n",
              "     renda bruta  Avaliação  \n",
              "0         261415         91  \n",
              "1            382         96  \n",
              "2         162155         74  \n",
              "3          23288         84  \n",
              "4         302085         53  \n",
              "..           ...        ...  \n",
              "995        20175         62  \n",
              "996         4869         44  \n",
              "997         1592         77  \n",
              "998         3291         41  \n",
              "999        30919         66  \n",
              "\n",
              "[1000 rows x 16 columns]"
            ],
            "text/html": [
              "\n",
              "  <div id=\"df-a1321325-fd78-4153-9230-1cf4d31d09e4\">\n",
              "    <div class=\"colab-df-container\">\n",
              "      <div>\n",
              "<style scoped>\n",
              "    .dataframe tbody tr th:only-of-type {\n",
              "        vertical-align: middle;\n",
              "    }\n",
              "\n",
              "    .dataframe tbody tr th {\n",
              "        vertical-align: top;\n",
              "    }\n",
              "\n",
              "    .dataframe thead th {\n",
              "        text-align: right;\n",
              "    }\n",
              "</style>\n",
              "<table border=\"1\" class=\"dataframe\">\n",
              "  <thead>\n",
              "    <tr style=\"text-align: right;\">\n",
              "      <th></th>\n",
              "      <th>Unnamed: 0</th>\n",
              "      <th>ID da fatura</th>\n",
              "      <th>Filial</th>\n",
              "      <th>Tipo de Cliente</th>\n",
              "      <th>Gênero</th>\n",
              "      <th>Linha de produto</th>\n",
              "      <th>Preço unitário</th>\n",
              "      <th>Quantidade</th>\n",
              "      <th>Total</th>\n",
              "      <th>Data</th>\n",
              "      <th>Tempo</th>\n",
              "      <th>Pagamento</th>\n",
              "      <th>COGS</th>\n",
              "      <th>porcentagem de margem bruta</th>\n",
              "      <th>renda bruta</th>\n",
              "      <th>Avaliação</th>\n",
              "    </tr>\n",
              "  </thead>\n",
              "  <tbody>\n",
              "    <tr>\n",
              "      <th>0</th>\n",
              "      <td>0</td>\n",
              "      <td>750-67-8428</td>\n",
              "      <td>A</td>\n",
              "      <td>Member</td>\n",
              "      <td>F</td>\n",
              "      <td>Saúde e beleza</td>\n",
              "      <td>1120.35</td>\n",
              "      <td>7</td>\n",
              "      <td>7842.45</td>\n",
              "      <td>1/5/2019</td>\n",
              "      <td>13:08:00</td>\n",
              "      <td>PIX</td>\n",
              "      <td>4705.4700</td>\n",
              "      <td>4761904762</td>\n",
              "      <td>261415</td>\n",
              "      <td>91</td>\n",
              "    </tr>\n",
              "    <tr>\n",
              "      <th>1</th>\n",
              "      <td>1</td>\n",
              "      <td>226-31-3081</td>\n",
              "      <td>C</td>\n",
              "      <td>Normal</td>\n",
              "      <td>F</td>\n",
              "      <td>Acessórios eletrônicos</td>\n",
              "      <td>229.20</td>\n",
              "      <td>5</td>\n",
              "      <td>1146.00</td>\n",
              "      <td>3/8/2019</td>\n",
              "      <td>10:29:00</td>\n",
              "      <td>Dinheiro</td>\n",
              "      <td>1031.4000</td>\n",
              "      <td>4761904762</td>\n",
              "      <td>382</td>\n",
              "      <td>96</td>\n",
              "    </tr>\n",
              "    <tr>\n",
              "      <th>2</th>\n",
              "      <td>2</td>\n",
              "      <td>631-41-3108</td>\n",
              "      <td>A</td>\n",
              "      <td>Normal</td>\n",
              "      <td>M</td>\n",
              "      <td>Casa e estilo de vida</td>\n",
              "      <td>694.95</td>\n",
              "      <td>7</td>\n",
              "      <td>4864.65</td>\n",
              "      <td>3/3/2019</td>\n",
              "      <td>13:23:00</td>\n",
              "      <td>Cartão de Crédito</td>\n",
              "      <td>3405.2550</td>\n",
              "      <td>4761904762</td>\n",
              "      <td>162155</td>\n",
              "      <td>74</td>\n",
              "    </tr>\n",
              "    <tr>\n",
              "      <th>3</th>\n",
              "      <td>3</td>\n",
              "      <td>123-19-1176</td>\n",
              "      <td>A</td>\n",
              "      <td>Member</td>\n",
              "      <td>M</td>\n",
              "      <td>Saúde e beleza</td>\n",
              "      <td>873.30</td>\n",
              "      <td>8</td>\n",
              "      <td>6986.40</td>\n",
              "      <td>1/27/2019</td>\n",
              "      <td>20:33:00</td>\n",
              "      <td>PIX</td>\n",
              "      <td>4191.8400</td>\n",
              "      <td>4761904762</td>\n",
              "      <td>23288</td>\n",
              "      <td>84</td>\n",
              "    </tr>\n",
              "    <tr>\n",
              "      <th>4</th>\n",
              "      <td>4</td>\n",
              "      <td>373-73-7910</td>\n",
              "      <td>A</td>\n",
              "      <td>Normal</td>\n",
              "      <td>M</td>\n",
              "      <td>Esportes e viagens</td>\n",
              "      <td>1294.65</td>\n",
              "      <td>7</td>\n",
              "      <td>9062.55</td>\n",
              "      <td>2/8/2019</td>\n",
              "      <td>10:37:00</td>\n",
              "      <td>PIX</td>\n",
              "      <td>6796.9125</td>\n",
              "      <td>4761904762</td>\n",
              "      <td>302085</td>\n",
              "      <td>53</td>\n",
              "    </tr>\n",
              "    <tr>\n",
              "      <th>...</th>\n",
              "      <td>...</td>\n",
              "      <td>...</td>\n",
              "      <td>...</td>\n",
              "      <td>...</td>\n",
              "      <td>...</td>\n",
              "      <td>...</td>\n",
              "      <td>...</td>\n",
              "      <td>...</td>\n",
              "      <td>...</td>\n",
              "      <td>...</td>\n",
              "      <td>...</td>\n",
              "      <td>...</td>\n",
              "      <td>...</td>\n",
              "      <td>...</td>\n",
              "      <td>...</td>\n",
              "      <td>...</td>\n",
              "    </tr>\n",
              "    <tr>\n",
              "      <th>995</th>\n",
              "      <td>995</td>\n",
              "      <td>233-67-5758</td>\n",
              "      <td>C</td>\n",
              "      <td>Normal</td>\n",
              "      <td>M</td>\n",
              "      <td>Saúde e beleza</td>\n",
              "      <td>605.25</td>\n",
              "      <td>1</td>\n",
              "      <td>605.25</td>\n",
              "      <td>1/29/2019</td>\n",
              "      <td>13:46:00</td>\n",
              "      <td>PIX</td>\n",
              "      <td>363.1500</td>\n",
              "      <td>4761904762</td>\n",
              "      <td>20175</td>\n",
              "      <td>62</td>\n",
              "    </tr>\n",
              "    <tr>\n",
              "      <th>996</th>\n",
              "      <td>996</td>\n",
              "      <td>303-96-2227</td>\n",
              "      <td>B</td>\n",
              "      <td>Normal</td>\n",
              "      <td>F</td>\n",
              "      <td>Casa e estilo de vida</td>\n",
              "      <td>1460.70</td>\n",
              "      <td>10</td>\n",
              "      <td>14607.00</td>\n",
              "      <td>3/2/2019</td>\n",
              "      <td>17:16:00</td>\n",
              "      <td>PIX</td>\n",
              "      <td>10224.9000</td>\n",
              "      <td>4761904762</td>\n",
              "      <td>4869</td>\n",
              "      <td>44</td>\n",
              "    </tr>\n",
              "    <tr>\n",
              "      <th>997</th>\n",
              "      <td>997</td>\n",
              "      <td>727-02-1313</td>\n",
              "      <td>A</td>\n",
              "      <td>Member</td>\n",
              "      <td>M</td>\n",
              "      <td>Comida e bebidas</td>\n",
              "      <td>477.60</td>\n",
              "      <td>1</td>\n",
              "      <td>477.60</td>\n",
              "      <td>2/9/2019</td>\n",
              "      <td>13:22:00</td>\n",
              "      <td>Dinheiro</td>\n",
              "      <td>405.9600</td>\n",
              "      <td>4761904762</td>\n",
              "      <td>1592</td>\n",
              "      <td>77</td>\n",
              "    </tr>\n",
              "    <tr>\n",
              "      <th>998</th>\n",
              "      <td>998</td>\n",
              "      <td>347-56-2442</td>\n",
              "      <td>A</td>\n",
              "      <td>Normal</td>\n",
              "      <td>M</td>\n",
              "      <td>Casa e estilo de vida</td>\n",
              "      <td>987.30</td>\n",
              "      <td>1</td>\n",
              "      <td>987.30</td>\n",
              "      <td>2/22/2019</td>\n",
              "      <td>15:33:00</td>\n",
              "      <td>Dinheiro</td>\n",
              "      <td>691.1100</td>\n",
              "      <td>4761904762</td>\n",
              "      <td>3291</td>\n",
              "      <td>41</td>\n",
              "    </tr>\n",
              "    <tr>\n",
              "      <th>999</th>\n",
              "      <td>999</td>\n",
              "      <td>849-09-3807</td>\n",
              "      <td>A</td>\n",
              "      <td>Member</td>\n",
              "      <td>F</td>\n",
              "      <td>Acessórios fashions</td>\n",
              "      <td>1325.10</td>\n",
              "      <td>7</td>\n",
              "      <td>9275.70</td>\n",
              "      <td>2/18/2019</td>\n",
              "      <td>13:28:00</td>\n",
              "      <td>Dinheiro</td>\n",
              "      <td>6956.7750</td>\n",
              "      <td>4761904762</td>\n",
              "      <td>30919</td>\n",
              "      <td>66</td>\n",
              "    </tr>\n",
              "  </tbody>\n",
              "</table>\n",
              "<p>1000 rows × 16 columns</p>\n",
              "</div>\n",
              "      <button class=\"colab-df-convert\" onclick=\"convertToInteractive('df-a1321325-fd78-4153-9230-1cf4d31d09e4')\"\n",
              "              title=\"Convert this dataframe to an interactive table.\"\n",
              "              style=\"display:none;\">\n",
              "        \n",
              "  <svg xmlns=\"http://www.w3.org/2000/svg\" height=\"24px\"viewBox=\"0 0 24 24\"\n",
              "       width=\"24px\">\n",
              "    <path d=\"M0 0h24v24H0V0z\" fill=\"none\"/>\n",
              "    <path d=\"M18.56 5.44l.94 2.06.94-2.06 2.06-.94-2.06-.94-.94-2.06-.94 2.06-2.06.94zm-11 1L8.5 8.5l.94-2.06 2.06-.94-2.06-.94L8.5 2.5l-.94 2.06-2.06.94zm10 10l.94 2.06.94-2.06 2.06-.94-2.06-.94-.94-2.06-.94 2.06-2.06.94z\"/><path d=\"M17.41 7.96l-1.37-1.37c-.4-.4-.92-.59-1.43-.59-.52 0-1.04.2-1.43.59L10.3 9.45l-7.72 7.72c-.78.78-.78 2.05 0 2.83L4 21.41c.39.39.9.59 1.41.59.51 0 1.02-.2 1.41-.59l7.78-7.78 2.81-2.81c.8-.78.8-2.07 0-2.86zM5.41 20L4 18.59l7.72-7.72 1.47 1.35L5.41 20z\"/>\n",
              "  </svg>\n",
              "      </button>\n",
              "      \n",
              "  <style>\n",
              "    .colab-df-container {\n",
              "      display:flex;\n",
              "      flex-wrap:wrap;\n",
              "      gap: 12px;\n",
              "    }\n",
              "\n",
              "    .colab-df-convert {\n",
              "      background-color: #E8F0FE;\n",
              "      border: none;\n",
              "      border-radius: 50%;\n",
              "      cursor: pointer;\n",
              "      display: none;\n",
              "      fill: #1967D2;\n",
              "      height: 32px;\n",
              "      padding: 0 0 0 0;\n",
              "      width: 32px;\n",
              "    }\n",
              "\n",
              "    .colab-df-convert:hover {\n",
              "      background-color: #E2EBFA;\n",
              "      box-shadow: 0px 1px 2px rgba(60, 64, 67, 0.3), 0px 1px 3px 1px rgba(60, 64, 67, 0.15);\n",
              "      fill: #174EA6;\n",
              "    }\n",
              "\n",
              "    [theme=dark] .colab-df-convert {\n",
              "      background-color: #3B4455;\n",
              "      fill: #D2E3FC;\n",
              "    }\n",
              "\n",
              "    [theme=dark] .colab-df-convert:hover {\n",
              "      background-color: #434B5C;\n",
              "      box-shadow: 0px 1px 3px 1px rgba(0, 0, 0, 0.15);\n",
              "      filter: drop-shadow(0px 1px 2px rgba(0, 0, 0, 0.3));\n",
              "      fill: #FFFFFF;\n",
              "    }\n",
              "  </style>\n",
              "\n",
              "      <script>\n",
              "        const buttonEl =\n",
              "          document.querySelector('#df-a1321325-fd78-4153-9230-1cf4d31d09e4 button.colab-df-convert');\n",
              "        buttonEl.style.display =\n",
              "          google.colab.kernel.accessAllowed ? 'block' : 'none';\n",
              "\n",
              "        async function convertToInteractive(key) {\n",
              "          const element = document.querySelector('#df-a1321325-fd78-4153-9230-1cf4d31d09e4');\n",
              "          const dataTable =\n",
              "            await google.colab.kernel.invokeFunction('convertToInteractive',\n",
              "                                                     [key], {});\n",
              "          if (!dataTable) return;\n",
              "\n",
              "          const docLinkHtml = 'Like what you see? Visit the ' +\n",
              "            '<a target=\"_blank\" href=https://colab.research.google.com/notebooks/data_table.ipynb>data table notebook</a>'\n",
              "            + ' to learn more about interactive tables.';\n",
              "          element.innerHTML = '';\n",
              "          dataTable['output_type'] = 'display_data';\n",
              "          await google.colab.output.renderOutput(dataTable, element);\n",
              "          const docLink = document.createElement('div');\n",
              "          docLink.innerHTML = docLinkHtml;\n",
              "          element.appendChild(docLink);\n",
              "        }\n",
              "      </script>\n",
              "    </div>\n",
              "  </div>\n",
              "  "
            ]
          },
          "metadata": {},
          "execution_count": 7
        }
      ]
    },
    {
      "cell_type": "markdown",
      "source": [
        "#<font color='red'>O que significa inplace?</font>"
      ],
      "metadata": {
        "id": "XdXIhgcoExqJ"
      }
    },
    {
      "cell_type": "markdown",
      "source": [
        ">O inplace no python serve para uma operação que modifica diretamente o objeto em que ela é aplicada,modificando diretamente o objeto de entrada, em vez de retornar uma cópia modificada."
      ],
      "metadata": {
        "id": "U73LXk06hdTH"
      }
    },
    {
      "cell_type": "code",
      "source": [
        "df.drop(columns=['Unnamed: 0'], inplace = True) #Deletando a coluna \"Unnamed: 0\""
      ],
      "metadata": {
        "id": "Jyb-ZgkvOcOD"
      },
      "execution_count": null,
      "outputs": []
    },
    {
      "cell_type": "code",
      "source": [
        "df"
      ],
      "metadata": {
        "colab": {
          "base_uri": "https://localhost:8080/",
          "height": 424
        },
        "id": "f2jBrx44PrWo",
        "outputId": "638847f6-3129-4cb8-b807-7e5af5f5c034"
      },
      "execution_count": null,
      "outputs": [
        {
          "output_type": "execute_result",
          "data": {
            "text/plain": [
              "    ID da fatura Filial Tipo de Cliente Gênero        Linha de produto  \\\n",
              "0    750-67-8428      A          Member      F          Saúde e beleza   \n",
              "1    226-31-3081      C          Normal      F  Acessórios eletrônicos   \n",
              "2    631-41-3108      A          Normal      M   Casa e estilo de vida   \n",
              "3    123-19-1176      A          Member      M          Saúde e beleza   \n",
              "4    373-73-7910      A          Normal      M      Esportes e viagens   \n",
              "..           ...    ...             ...    ...                     ...   \n",
              "995  233-67-5758      C          Normal      M          Saúde e beleza   \n",
              "996  303-96-2227      B          Normal      F   Casa e estilo de vida   \n",
              "997  727-02-1313      A          Member      M        Comida e bebidas   \n",
              "998  347-56-2442      A          Normal      M   Casa e estilo de vida   \n",
              "999  849-09-3807      A          Member      F     Acessórios fashions   \n",
              "\n",
              "     Preço unitário  Quantidade     Total       Data     Tempo  \\\n",
              "0           1120.35           7   7842.45   1/5/2019  13:08:00   \n",
              "1            229.20           5   1146.00   3/8/2019  10:29:00   \n",
              "2            694.95           7   4864.65   3/3/2019  13:23:00   \n",
              "3            873.30           8   6986.40  1/27/2019  20:33:00   \n",
              "4           1294.65           7   9062.55   2/8/2019  10:37:00   \n",
              "..              ...         ...       ...        ...       ...   \n",
              "995          605.25           1    605.25  1/29/2019  13:46:00   \n",
              "996         1460.70          10  14607.00   3/2/2019  17:16:00   \n",
              "997          477.60           1    477.60   2/9/2019  13:22:00   \n",
              "998          987.30           1    987.30  2/22/2019  15:33:00   \n",
              "999         1325.10           7   9275.70  2/18/2019  13:28:00   \n",
              "\n",
              "             Pagamento        COGS  porcentagem de margem bruta  renda bruta  \\\n",
              "0                  PIX   4705.4700                   4761904762       261415   \n",
              "1             Dinheiro   1031.4000                   4761904762          382   \n",
              "2    Cartão de Crédito   3405.2550                   4761904762       162155   \n",
              "3                  PIX   4191.8400                   4761904762        23288   \n",
              "4                  PIX   6796.9125                   4761904762       302085   \n",
              "..                 ...         ...                          ...          ...   \n",
              "995                PIX    363.1500                   4761904762        20175   \n",
              "996                PIX  10224.9000                   4761904762         4869   \n",
              "997           Dinheiro    405.9600                   4761904762         1592   \n",
              "998           Dinheiro    691.1100                   4761904762         3291   \n",
              "999           Dinheiro   6956.7750                   4761904762        30919   \n",
              "\n",
              "     Avaliação  \n",
              "0           91  \n",
              "1           96  \n",
              "2           74  \n",
              "3           84  \n",
              "4           53  \n",
              "..         ...  \n",
              "995         62  \n",
              "996         44  \n",
              "997         77  \n",
              "998         41  \n",
              "999         66  \n",
              "\n",
              "[1000 rows x 15 columns]"
            ],
            "text/html": [
              "\n",
              "  <div id=\"df-3da71cae-85bc-4433-8f0f-f9a62dcfd3be\">\n",
              "    <div class=\"colab-df-container\">\n",
              "      <div>\n",
              "<style scoped>\n",
              "    .dataframe tbody tr th:only-of-type {\n",
              "        vertical-align: middle;\n",
              "    }\n",
              "\n",
              "    .dataframe tbody tr th {\n",
              "        vertical-align: top;\n",
              "    }\n",
              "\n",
              "    .dataframe thead th {\n",
              "        text-align: right;\n",
              "    }\n",
              "</style>\n",
              "<table border=\"1\" class=\"dataframe\">\n",
              "  <thead>\n",
              "    <tr style=\"text-align: right;\">\n",
              "      <th></th>\n",
              "      <th>ID da fatura</th>\n",
              "      <th>Filial</th>\n",
              "      <th>Tipo de Cliente</th>\n",
              "      <th>Gênero</th>\n",
              "      <th>Linha de produto</th>\n",
              "      <th>Preço unitário</th>\n",
              "      <th>Quantidade</th>\n",
              "      <th>Total</th>\n",
              "      <th>Data</th>\n",
              "      <th>Tempo</th>\n",
              "      <th>Pagamento</th>\n",
              "      <th>COGS</th>\n",
              "      <th>porcentagem de margem bruta</th>\n",
              "      <th>renda bruta</th>\n",
              "      <th>Avaliação</th>\n",
              "    </tr>\n",
              "  </thead>\n",
              "  <tbody>\n",
              "    <tr>\n",
              "      <th>0</th>\n",
              "      <td>750-67-8428</td>\n",
              "      <td>A</td>\n",
              "      <td>Member</td>\n",
              "      <td>F</td>\n",
              "      <td>Saúde e beleza</td>\n",
              "      <td>1120.35</td>\n",
              "      <td>7</td>\n",
              "      <td>7842.45</td>\n",
              "      <td>1/5/2019</td>\n",
              "      <td>13:08:00</td>\n",
              "      <td>PIX</td>\n",
              "      <td>4705.4700</td>\n",
              "      <td>4761904762</td>\n",
              "      <td>261415</td>\n",
              "      <td>91</td>\n",
              "    </tr>\n",
              "    <tr>\n",
              "      <th>1</th>\n",
              "      <td>226-31-3081</td>\n",
              "      <td>C</td>\n",
              "      <td>Normal</td>\n",
              "      <td>F</td>\n",
              "      <td>Acessórios eletrônicos</td>\n",
              "      <td>229.20</td>\n",
              "      <td>5</td>\n",
              "      <td>1146.00</td>\n",
              "      <td>3/8/2019</td>\n",
              "      <td>10:29:00</td>\n",
              "      <td>Dinheiro</td>\n",
              "      <td>1031.4000</td>\n",
              "      <td>4761904762</td>\n",
              "      <td>382</td>\n",
              "      <td>96</td>\n",
              "    </tr>\n",
              "    <tr>\n",
              "      <th>2</th>\n",
              "      <td>631-41-3108</td>\n",
              "      <td>A</td>\n",
              "      <td>Normal</td>\n",
              "      <td>M</td>\n",
              "      <td>Casa e estilo de vida</td>\n",
              "      <td>694.95</td>\n",
              "      <td>7</td>\n",
              "      <td>4864.65</td>\n",
              "      <td>3/3/2019</td>\n",
              "      <td>13:23:00</td>\n",
              "      <td>Cartão de Crédito</td>\n",
              "      <td>3405.2550</td>\n",
              "      <td>4761904762</td>\n",
              "      <td>162155</td>\n",
              "      <td>74</td>\n",
              "    </tr>\n",
              "    <tr>\n",
              "      <th>3</th>\n",
              "      <td>123-19-1176</td>\n",
              "      <td>A</td>\n",
              "      <td>Member</td>\n",
              "      <td>M</td>\n",
              "      <td>Saúde e beleza</td>\n",
              "      <td>873.30</td>\n",
              "      <td>8</td>\n",
              "      <td>6986.40</td>\n",
              "      <td>1/27/2019</td>\n",
              "      <td>20:33:00</td>\n",
              "      <td>PIX</td>\n",
              "      <td>4191.8400</td>\n",
              "      <td>4761904762</td>\n",
              "      <td>23288</td>\n",
              "      <td>84</td>\n",
              "    </tr>\n",
              "    <tr>\n",
              "      <th>4</th>\n",
              "      <td>373-73-7910</td>\n",
              "      <td>A</td>\n",
              "      <td>Normal</td>\n",
              "      <td>M</td>\n",
              "      <td>Esportes e viagens</td>\n",
              "      <td>1294.65</td>\n",
              "      <td>7</td>\n",
              "      <td>9062.55</td>\n",
              "      <td>2/8/2019</td>\n",
              "      <td>10:37:00</td>\n",
              "      <td>PIX</td>\n",
              "      <td>6796.9125</td>\n",
              "      <td>4761904762</td>\n",
              "      <td>302085</td>\n",
              "      <td>53</td>\n",
              "    </tr>\n",
              "    <tr>\n",
              "      <th>...</th>\n",
              "      <td>...</td>\n",
              "      <td>...</td>\n",
              "      <td>...</td>\n",
              "      <td>...</td>\n",
              "      <td>...</td>\n",
              "      <td>...</td>\n",
              "      <td>...</td>\n",
              "      <td>...</td>\n",
              "      <td>...</td>\n",
              "      <td>...</td>\n",
              "      <td>...</td>\n",
              "      <td>...</td>\n",
              "      <td>...</td>\n",
              "      <td>...</td>\n",
              "      <td>...</td>\n",
              "    </tr>\n",
              "    <tr>\n",
              "      <th>995</th>\n",
              "      <td>233-67-5758</td>\n",
              "      <td>C</td>\n",
              "      <td>Normal</td>\n",
              "      <td>M</td>\n",
              "      <td>Saúde e beleza</td>\n",
              "      <td>605.25</td>\n",
              "      <td>1</td>\n",
              "      <td>605.25</td>\n",
              "      <td>1/29/2019</td>\n",
              "      <td>13:46:00</td>\n",
              "      <td>PIX</td>\n",
              "      <td>363.1500</td>\n",
              "      <td>4761904762</td>\n",
              "      <td>20175</td>\n",
              "      <td>62</td>\n",
              "    </tr>\n",
              "    <tr>\n",
              "      <th>996</th>\n",
              "      <td>303-96-2227</td>\n",
              "      <td>B</td>\n",
              "      <td>Normal</td>\n",
              "      <td>F</td>\n",
              "      <td>Casa e estilo de vida</td>\n",
              "      <td>1460.70</td>\n",
              "      <td>10</td>\n",
              "      <td>14607.00</td>\n",
              "      <td>3/2/2019</td>\n",
              "      <td>17:16:00</td>\n",
              "      <td>PIX</td>\n",
              "      <td>10224.9000</td>\n",
              "      <td>4761904762</td>\n",
              "      <td>4869</td>\n",
              "      <td>44</td>\n",
              "    </tr>\n",
              "    <tr>\n",
              "      <th>997</th>\n",
              "      <td>727-02-1313</td>\n",
              "      <td>A</td>\n",
              "      <td>Member</td>\n",
              "      <td>M</td>\n",
              "      <td>Comida e bebidas</td>\n",
              "      <td>477.60</td>\n",
              "      <td>1</td>\n",
              "      <td>477.60</td>\n",
              "      <td>2/9/2019</td>\n",
              "      <td>13:22:00</td>\n",
              "      <td>Dinheiro</td>\n",
              "      <td>405.9600</td>\n",
              "      <td>4761904762</td>\n",
              "      <td>1592</td>\n",
              "      <td>77</td>\n",
              "    </tr>\n",
              "    <tr>\n",
              "      <th>998</th>\n",
              "      <td>347-56-2442</td>\n",
              "      <td>A</td>\n",
              "      <td>Normal</td>\n",
              "      <td>M</td>\n",
              "      <td>Casa e estilo de vida</td>\n",
              "      <td>987.30</td>\n",
              "      <td>1</td>\n",
              "      <td>987.30</td>\n",
              "      <td>2/22/2019</td>\n",
              "      <td>15:33:00</td>\n",
              "      <td>Dinheiro</td>\n",
              "      <td>691.1100</td>\n",
              "      <td>4761904762</td>\n",
              "      <td>3291</td>\n",
              "      <td>41</td>\n",
              "    </tr>\n",
              "    <tr>\n",
              "      <th>999</th>\n",
              "      <td>849-09-3807</td>\n",
              "      <td>A</td>\n",
              "      <td>Member</td>\n",
              "      <td>F</td>\n",
              "      <td>Acessórios fashions</td>\n",
              "      <td>1325.10</td>\n",
              "      <td>7</td>\n",
              "      <td>9275.70</td>\n",
              "      <td>2/18/2019</td>\n",
              "      <td>13:28:00</td>\n",
              "      <td>Dinheiro</td>\n",
              "      <td>6956.7750</td>\n",
              "      <td>4761904762</td>\n",
              "      <td>30919</td>\n",
              "      <td>66</td>\n",
              "    </tr>\n",
              "  </tbody>\n",
              "</table>\n",
              "<p>1000 rows × 15 columns</p>\n",
              "</div>\n",
              "      <button class=\"colab-df-convert\" onclick=\"convertToInteractive('df-3da71cae-85bc-4433-8f0f-f9a62dcfd3be')\"\n",
              "              title=\"Convert this dataframe to an interactive table.\"\n",
              "              style=\"display:none;\">\n",
              "        \n",
              "  <svg xmlns=\"http://www.w3.org/2000/svg\" height=\"24px\"viewBox=\"0 0 24 24\"\n",
              "       width=\"24px\">\n",
              "    <path d=\"M0 0h24v24H0V0z\" fill=\"none\"/>\n",
              "    <path d=\"M18.56 5.44l.94 2.06.94-2.06 2.06-.94-2.06-.94-.94-2.06-.94 2.06-2.06.94zm-11 1L8.5 8.5l.94-2.06 2.06-.94-2.06-.94L8.5 2.5l-.94 2.06-2.06.94zm10 10l.94 2.06.94-2.06 2.06-.94-2.06-.94-.94-2.06-.94 2.06-2.06.94z\"/><path d=\"M17.41 7.96l-1.37-1.37c-.4-.4-.92-.59-1.43-.59-.52 0-1.04.2-1.43.59L10.3 9.45l-7.72 7.72c-.78.78-.78 2.05 0 2.83L4 21.41c.39.39.9.59 1.41.59.51 0 1.02-.2 1.41-.59l7.78-7.78 2.81-2.81c.8-.78.8-2.07 0-2.86zM5.41 20L4 18.59l7.72-7.72 1.47 1.35L5.41 20z\"/>\n",
              "  </svg>\n",
              "      </button>\n",
              "      \n",
              "  <style>\n",
              "    .colab-df-container {\n",
              "      display:flex;\n",
              "      flex-wrap:wrap;\n",
              "      gap: 12px;\n",
              "    }\n",
              "\n",
              "    .colab-df-convert {\n",
              "      background-color: #E8F0FE;\n",
              "      border: none;\n",
              "      border-radius: 50%;\n",
              "      cursor: pointer;\n",
              "      display: none;\n",
              "      fill: #1967D2;\n",
              "      height: 32px;\n",
              "      padding: 0 0 0 0;\n",
              "      width: 32px;\n",
              "    }\n",
              "\n",
              "    .colab-df-convert:hover {\n",
              "      background-color: #E2EBFA;\n",
              "      box-shadow: 0px 1px 2px rgba(60, 64, 67, 0.3), 0px 1px 3px 1px rgba(60, 64, 67, 0.15);\n",
              "      fill: #174EA6;\n",
              "    }\n",
              "\n",
              "    [theme=dark] .colab-df-convert {\n",
              "      background-color: #3B4455;\n",
              "      fill: #D2E3FC;\n",
              "    }\n",
              "\n",
              "    [theme=dark] .colab-df-convert:hover {\n",
              "      background-color: #434B5C;\n",
              "      box-shadow: 0px 1px 3px 1px rgba(0, 0, 0, 0.15);\n",
              "      filter: drop-shadow(0px 1px 2px rgba(0, 0, 0, 0.3));\n",
              "      fill: #FFFFFF;\n",
              "    }\n",
              "  </style>\n",
              "\n",
              "      <script>\n",
              "        const buttonEl =\n",
              "          document.querySelector('#df-3da71cae-85bc-4433-8f0f-f9a62dcfd3be button.colab-df-convert');\n",
              "        buttonEl.style.display =\n",
              "          google.colab.kernel.accessAllowed ? 'block' : 'none';\n",
              "\n",
              "        async function convertToInteractive(key) {\n",
              "          const element = document.querySelector('#df-3da71cae-85bc-4433-8f0f-f9a62dcfd3be');\n",
              "          const dataTable =\n",
              "            await google.colab.kernel.invokeFunction('convertToInteractive',\n",
              "                                                     [key], {});\n",
              "          if (!dataTable) return;\n",
              "\n",
              "          const docLinkHtml = 'Like what you see? Visit the ' +\n",
              "            '<a target=\"_blank\" href=https://colab.research.google.com/notebooks/data_table.ipynb>data table notebook</a>'\n",
              "            + ' to learn more about interactive tables.';\n",
              "          element.innerHTML = '';\n",
              "          dataTable['output_type'] = 'display_data';\n",
              "          await google.colab.output.renderOutput(dataTable, element);\n",
              "          const docLink = document.createElement('div');\n",
              "          docLink.innerHTML = docLinkHtml;\n",
              "          element.appendChild(docLink);\n",
              "        }\n",
              "      </script>\n",
              "    </div>\n",
              "  </div>\n",
              "  "
            ]
          },
          "metadata": {},
          "execution_count": 9
        }
      ]
    },
    {
      "cell_type": "code",
      "source": [
        "df.drop(columns=['porcentagem de margem bruta', 'renda bruta', 'ID da fatura'], inplace = True) #Deletando as colunas que não vão ser usadas"
      ],
      "metadata": {
        "id": "ROIfB9XTP-1-"
      },
      "execution_count": null,
      "outputs": []
    },
    {
      "cell_type": "code",
      "source": [
        "df.head()"
      ],
      "metadata": {
        "colab": {
          "base_uri": "https://localhost:8080/",
          "height": 206
        },
        "id": "3wBK9Q0iQYAj",
        "outputId": "4d7c8250-b6e6-47d5-ca87-01241d5362e4"
      },
      "execution_count": null,
      "outputs": [
        {
          "output_type": "execute_result",
          "data": {
            "text/plain": [
              "  Filial Tipo de Cliente Gênero        Linha de produto  Preço unitário  \\\n",
              "0      A          Member      F          Saúde e beleza         1120.35   \n",
              "1      C          Normal      F  Acessórios eletrônicos          229.20   \n",
              "2      A          Normal      M   Casa e estilo de vida          694.95   \n",
              "3      A          Member      M          Saúde e beleza          873.30   \n",
              "4      A          Normal      M      Esportes e viagens         1294.65   \n",
              "\n",
              "   Quantidade    Total       Data     Tempo          Pagamento       COGS  \\\n",
              "0           7  7842.45   1/5/2019  13:08:00                PIX  4705.4700   \n",
              "1           5  1146.00   3/8/2019  10:29:00           Dinheiro  1031.4000   \n",
              "2           7  4864.65   3/3/2019  13:23:00  Cartão de Crédito  3405.2550   \n",
              "3           8  6986.40  1/27/2019  20:33:00                PIX  4191.8400   \n",
              "4           7  9062.55   2/8/2019  10:37:00                PIX  6796.9125   \n",
              "\n",
              "   Avaliação  \n",
              "0         91  \n",
              "1         96  \n",
              "2         74  \n",
              "3         84  \n",
              "4         53  "
            ],
            "text/html": [
              "\n",
              "  <div id=\"df-d8f9ef9b-7bbc-4f3e-968f-204e1635d805\">\n",
              "    <div class=\"colab-df-container\">\n",
              "      <div>\n",
              "<style scoped>\n",
              "    .dataframe tbody tr th:only-of-type {\n",
              "        vertical-align: middle;\n",
              "    }\n",
              "\n",
              "    .dataframe tbody tr th {\n",
              "        vertical-align: top;\n",
              "    }\n",
              "\n",
              "    .dataframe thead th {\n",
              "        text-align: right;\n",
              "    }\n",
              "</style>\n",
              "<table border=\"1\" class=\"dataframe\">\n",
              "  <thead>\n",
              "    <tr style=\"text-align: right;\">\n",
              "      <th></th>\n",
              "      <th>Filial</th>\n",
              "      <th>Tipo de Cliente</th>\n",
              "      <th>Gênero</th>\n",
              "      <th>Linha de produto</th>\n",
              "      <th>Preço unitário</th>\n",
              "      <th>Quantidade</th>\n",
              "      <th>Total</th>\n",
              "      <th>Data</th>\n",
              "      <th>Tempo</th>\n",
              "      <th>Pagamento</th>\n",
              "      <th>COGS</th>\n",
              "      <th>Avaliação</th>\n",
              "    </tr>\n",
              "  </thead>\n",
              "  <tbody>\n",
              "    <tr>\n",
              "      <th>0</th>\n",
              "      <td>A</td>\n",
              "      <td>Member</td>\n",
              "      <td>F</td>\n",
              "      <td>Saúde e beleza</td>\n",
              "      <td>1120.35</td>\n",
              "      <td>7</td>\n",
              "      <td>7842.45</td>\n",
              "      <td>1/5/2019</td>\n",
              "      <td>13:08:00</td>\n",
              "      <td>PIX</td>\n",
              "      <td>4705.4700</td>\n",
              "      <td>91</td>\n",
              "    </tr>\n",
              "    <tr>\n",
              "      <th>1</th>\n",
              "      <td>C</td>\n",
              "      <td>Normal</td>\n",
              "      <td>F</td>\n",
              "      <td>Acessórios eletrônicos</td>\n",
              "      <td>229.20</td>\n",
              "      <td>5</td>\n",
              "      <td>1146.00</td>\n",
              "      <td>3/8/2019</td>\n",
              "      <td>10:29:00</td>\n",
              "      <td>Dinheiro</td>\n",
              "      <td>1031.4000</td>\n",
              "      <td>96</td>\n",
              "    </tr>\n",
              "    <tr>\n",
              "      <th>2</th>\n",
              "      <td>A</td>\n",
              "      <td>Normal</td>\n",
              "      <td>M</td>\n",
              "      <td>Casa e estilo de vida</td>\n",
              "      <td>694.95</td>\n",
              "      <td>7</td>\n",
              "      <td>4864.65</td>\n",
              "      <td>3/3/2019</td>\n",
              "      <td>13:23:00</td>\n",
              "      <td>Cartão de Crédito</td>\n",
              "      <td>3405.2550</td>\n",
              "      <td>74</td>\n",
              "    </tr>\n",
              "    <tr>\n",
              "      <th>3</th>\n",
              "      <td>A</td>\n",
              "      <td>Member</td>\n",
              "      <td>M</td>\n",
              "      <td>Saúde e beleza</td>\n",
              "      <td>873.30</td>\n",
              "      <td>8</td>\n",
              "      <td>6986.40</td>\n",
              "      <td>1/27/2019</td>\n",
              "      <td>20:33:00</td>\n",
              "      <td>PIX</td>\n",
              "      <td>4191.8400</td>\n",
              "      <td>84</td>\n",
              "    </tr>\n",
              "    <tr>\n",
              "      <th>4</th>\n",
              "      <td>A</td>\n",
              "      <td>Normal</td>\n",
              "      <td>M</td>\n",
              "      <td>Esportes e viagens</td>\n",
              "      <td>1294.65</td>\n",
              "      <td>7</td>\n",
              "      <td>9062.55</td>\n",
              "      <td>2/8/2019</td>\n",
              "      <td>10:37:00</td>\n",
              "      <td>PIX</td>\n",
              "      <td>6796.9125</td>\n",
              "      <td>53</td>\n",
              "    </tr>\n",
              "  </tbody>\n",
              "</table>\n",
              "</div>\n",
              "      <button class=\"colab-df-convert\" onclick=\"convertToInteractive('df-d8f9ef9b-7bbc-4f3e-968f-204e1635d805')\"\n",
              "              title=\"Convert this dataframe to an interactive table.\"\n",
              "              style=\"display:none;\">\n",
              "        \n",
              "  <svg xmlns=\"http://www.w3.org/2000/svg\" height=\"24px\"viewBox=\"0 0 24 24\"\n",
              "       width=\"24px\">\n",
              "    <path d=\"M0 0h24v24H0V0z\" fill=\"none\"/>\n",
              "    <path d=\"M18.56 5.44l.94 2.06.94-2.06 2.06-.94-2.06-.94-.94-2.06-.94 2.06-2.06.94zm-11 1L8.5 8.5l.94-2.06 2.06-.94-2.06-.94L8.5 2.5l-.94 2.06-2.06.94zm10 10l.94 2.06.94-2.06 2.06-.94-2.06-.94-.94-2.06-.94 2.06-2.06.94z\"/><path d=\"M17.41 7.96l-1.37-1.37c-.4-.4-.92-.59-1.43-.59-.52 0-1.04.2-1.43.59L10.3 9.45l-7.72 7.72c-.78.78-.78 2.05 0 2.83L4 21.41c.39.39.9.59 1.41.59.51 0 1.02-.2 1.41-.59l7.78-7.78 2.81-2.81c.8-.78.8-2.07 0-2.86zM5.41 20L4 18.59l7.72-7.72 1.47 1.35L5.41 20z\"/>\n",
              "  </svg>\n",
              "      </button>\n",
              "      \n",
              "  <style>\n",
              "    .colab-df-container {\n",
              "      display:flex;\n",
              "      flex-wrap:wrap;\n",
              "      gap: 12px;\n",
              "    }\n",
              "\n",
              "    .colab-df-convert {\n",
              "      background-color: #E8F0FE;\n",
              "      border: none;\n",
              "      border-radius: 50%;\n",
              "      cursor: pointer;\n",
              "      display: none;\n",
              "      fill: #1967D2;\n",
              "      height: 32px;\n",
              "      padding: 0 0 0 0;\n",
              "      width: 32px;\n",
              "    }\n",
              "\n",
              "    .colab-df-convert:hover {\n",
              "      background-color: #E2EBFA;\n",
              "      box-shadow: 0px 1px 2px rgba(60, 64, 67, 0.3), 0px 1px 3px 1px rgba(60, 64, 67, 0.15);\n",
              "      fill: #174EA6;\n",
              "    }\n",
              "\n",
              "    [theme=dark] .colab-df-convert {\n",
              "      background-color: #3B4455;\n",
              "      fill: #D2E3FC;\n",
              "    }\n",
              "\n",
              "    [theme=dark] .colab-df-convert:hover {\n",
              "      background-color: #434B5C;\n",
              "      box-shadow: 0px 1px 3px 1px rgba(0, 0, 0, 0.15);\n",
              "      filter: drop-shadow(0px 1px 2px rgba(0, 0, 0, 0.3));\n",
              "      fill: #FFFFFF;\n",
              "    }\n",
              "  </style>\n",
              "\n",
              "      <script>\n",
              "        const buttonEl =\n",
              "          document.querySelector('#df-d8f9ef9b-7bbc-4f3e-968f-204e1635d805 button.colab-df-convert');\n",
              "        buttonEl.style.display =\n",
              "          google.colab.kernel.accessAllowed ? 'block' : 'none';\n",
              "\n",
              "        async function convertToInteractive(key) {\n",
              "          const element = document.querySelector('#df-d8f9ef9b-7bbc-4f3e-968f-204e1635d805');\n",
              "          const dataTable =\n",
              "            await google.colab.kernel.invokeFunction('convertToInteractive',\n",
              "                                                     [key], {});\n",
              "          if (!dataTable) return;\n",
              "\n",
              "          const docLinkHtml = 'Like what you see? Visit the ' +\n",
              "            '<a target=\"_blank\" href=https://colab.research.google.com/notebooks/data_table.ipynb>data table notebook</a>'\n",
              "            + ' to learn more about interactive tables.';\n",
              "          element.innerHTML = '';\n",
              "          dataTable['output_type'] = 'display_data';\n",
              "          await google.colab.output.renderOutput(dataTable, element);\n",
              "          const docLink = document.createElement('div');\n",
              "          docLink.innerHTML = docLinkHtml;\n",
              "          element.appendChild(docLink);\n",
              "        }\n",
              "      </script>\n",
              "    </div>\n",
              "  </div>\n",
              "  "
            ]
          },
          "metadata": {},
          "execution_count": 11
        }
      ]
    },
    {
      "cell_type": "code",
      "source": [
        "df.replace({'Tipo de Cliente' : {'Member' : 'Associado'}}, inplace = True) #Trocando o nome Member por Associado, na coluna Tipo de Cliente"
      ],
      "metadata": {
        "id": "djJ715IgReLi"
      },
      "execution_count": null,
      "outputs": []
    },
    {
      "cell_type": "code",
      "source": [
        "df.head()"
      ],
      "metadata": {
        "colab": {
          "base_uri": "https://localhost:8080/",
          "height": 206
        },
        "id": "8199jmvvSHAV",
        "outputId": "d54b0677-6ba6-4e37-c696-bd66d84f42e6"
      },
      "execution_count": null,
      "outputs": [
        {
          "output_type": "execute_result",
          "data": {
            "text/plain": [
              "  Filial Tipo de Cliente Gênero        Linha de produto  Preço unitário  \\\n",
              "0      A       Associado      F          Saúde e beleza         1120.35   \n",
              "1      C          Normal      F  Acessórios eletrônicos          229.20   \n",
              "2      A          Normal      M   Casa e estilo de vida          694.95   \n",
              "3      A       Associado      M          Saúde e beleza          873.30   \n",
              "4      A          Normal      M      Esportes e viagens         1294.65   \n",
              "\n",
              "   Quantidade    Total       Data     Tempo          Pagamento       COGS  \\\n",
              "0           7  7842.45   1/5/2019  13:08:00                PIX  4705.4700   \n",
              "1           5  1146.00   3/8/2019  10:29:00           Dinheiro  1031.4000   \n",
              "2           7  4864.65   3/3/2019  13:23:00  Cartão de Crédito  3405.2550   \n",
              "3           8  6986.40  1/27/2019  20:33:00                PIX  4191.8400   \n",
              "4           7  9062.55   2/8/2019  10:37:00                PIX  6796.9125   \n",
              "\n",
              "   Avaliação  \n",
              "0         91  \n",
              "1         96  \n",
              "2         74  \n",
              "3         84  \n",
              "4         53  "
            ],
            "text/html": [
              "\n",
              "  <div id=\"df-bb3f9c48-0636-4825-bc51-d86405bc4b98\">\n",
              "    <div class=\"colab-df-container\">\n",
              "      <div>\n",
              "<style scoped>\n",
              "    .dataframe tbody tr th:only-of-type {\n",
              "        vertical-align: middle;\n",
              "    }\n",
              "\n",
              "    .dataframe tbody tr th {\n",
              "        vertical-align: top;\n",
              "    }\n",
              "\n",
              "    .dataframe thead th {\n",
              "        text-align: right;\n",
              "    }\n",
              "</style>\n",
              "<table border=\"1\" class=\"dataframe\">\n",
              "  <thead>\n",
              "    <tr style=\"text-align: right;\">\n",
              "      <th></th>\n",
              "      <th>Filial</th>\n",
              "      <th>Tipo de Cliente</th>\n",
              "      <th>Gênero</th>\n",
              "      <th>Linha de produto</th>\n",
              "      <th>Preço unitário</th>\n",
              "      <th>Quantidade</th>\n",
              "      <th>Total</th>\n",
              "      <th>Data</th>\n",
              "      <th>Tempo</th>\n",
              "      <th>Pagamento</th>\n",
              "      <th>COGS</th>\n",
              "      <th>Avaliação</th>\n",
              "    </tr>\n",
              "  </thead>\n",
              "  <tbody>\n",
              "    <tr>\n",
              "      <th>0</th>\n",
              "      <td>A</td>\n",
              "      <td>Associado</td>\n",
              "      <td>F</td>\n",
              "      <td>Saúde e beleza</td>\n",
              "      <td>1120.35</td>\n",
              "      <td>7</td>\n",
              "      <td>7842.45</td>\n",
              "      <td>1/5/2019</td>\n",
              "      <td>13:08:00</td>\n",
              "      <td>PIX</td>\n",
              "      <td>4705.4700</td>\n",
              "      <td>91</td>\n",
              "    </tr>\n",
              "    <tr>\n",
              "      <th>1</th>\n",
              "      <td>C</td>\n",
              "      <td>Normal</td>\n",
              "      <td>F</td>\n",
              "      <td>Acessórios eletrônicos</td>\n",
              "      <td>229.20</td>\n",
              "      <td>5</td>\n",
              "      <td>1146.00</td>\n",
              "      <td>3/8/2019</td>\n",
              "      <td>10:29:00</td>\n",
              "      <td>Dinheiro</td>\n",
              "      <td>1031.4000</td>\n",
              "      <td>96</td>\n",
              "    </tr>\n",
              "    <tr>\n",
              "      <th>2</th>\n",
              "      <td>A</td>\n",
              "      <td>Normal</td>\n",
              "      <td>M</td>\n",
              "      <td>Casa e estilo de vida</td>\n",
              "      <td>694.95</td>\n",
              "      <td>7</td>\n",
              "      <td>4864.65</td>\n",
              "      <td>3/3/2019</td>\n",
              "      <td>13:23:00</td>\n",
              "      <td>Cartão de Crédito</td>\n",
              "      <td>3405.2550</td>\n",
              "      <td>74</td>\n",
              "    </tr>\n",
              "    <tr>\n",
              "      <th>3</th>\n",
              "      <td>A</td>\n",
              "      <td>Associado</td>\n",
              "      <td>M</td>\n",
              "      <td>Saúde e beleza</td>\n",
              "      <td>873.30</td>\n",
              "      <td>8</td>\n",
              "      <td>6986.40</td>\n",
              "      <td>1/27/2019</td>\n",
              "      <td>20:33:00</td>\n",
              "      <td>PIX</td>\n",
              "      <td>4191.8400</td>\n",
              "      <td>84</td>\n",
              "    </tr>\n",
              "    <tr>\n",
              "      <th>4</th>\n",
              "      <td>A</td>\n",
              "      <td>Normal</td>\n",
              "      <td>M</td>\n",
              "      <td>Esportes e viagens</td>\n",
              "      <td>1294.65</td>\n",
              "      <td>7</td>\n",
              "      <td>9062.55</td>\n",
              "      <td>2/8/2019</td>\n",
              "      <td>10:37:00</td>\n",
              "      <td>PIX</td>\n",
              "      <td>6796.9125</td>\n",
              "      <td>53</td>\n",
              "    </tr>\n",
              "  </tbody>\n",
              "</table>\n",
              "</div>\n",
              "      <button class=\"colab-df-convert\" onclick=\"convertToInteractive('df-bb3f9c48-0636-4825-bc51-d86405bc4b98')\"\n",
              "              title=\"Convert this dataframe to an interactive table.\"\n",
              "              style=\"display:none;\">\n",
              "        \n",
              "  <svg xmlns=\"http://www.w3.org/2000/svg\" height=\"24px\"viewBox=\"0 0 24 24\"\n",
              "       width=\"24px\">\n",
              "    <path d=\"M0 0h24v24H0V0z\" fill=\"none\"/>\n",
              "    <path d=\"M18.56 5.44l.94 2.06.94-2.06 2.06-.94-2.06-.94-.94-2.06-.94 2.06-2.06.94zm-11 1L8.5 8.5l.94-2.06 2.06-.94-2.06-.94L8.5 2.5l-.94 2.06-2.06.94zm10 10l.94 2.06.94-2.06 2.06-.94-2.06-.94-.94-2.06-.94 2.06-2.06.94z\"/><path d=\"M17.41 7.96l-1.37-1.37c-.4-.4-.92-.59-1.43-.59-.52 0-1.04.2-1.43.59L10.3 9.45l-7.72 7.72c-.78.78-.78 2.05 0 2.83L4 21.41c.39.39.9.59 1.41.59.51 0 1.02-.2 1.41-.59l7.78-7.78 2.81-2.81c.8-.78.8-2.07 0-2.86zM5.41 20L4 18.59l7.72-7.72 1.47 1.35L5.41 20z\"/>\n",
              "  </svg>\n",
              "      </button>\n",
              "      \n",
              "  <style>\n",
              "    .colab-df-container {\n",
              "      display:flex;\n",
              "      flex-wrap:wrap;\n",
              "      gap: 12px;\n",
              "    }\n",
              "\n",
              "    .colab-df-convert {\n",
              "      background-color: #E8F0FE;\n",
              "      border: none;\n",
              "      border-radius: 50%;\n",
              "      cursor: pointer;\n",
              "      display: none;\n",
              "      fill: #1967D2;\n",
              "      height: 32px;\n",
              "      padding: 0 0 0 0;\n",
              "      width: 32px;\n",
              "    }\n",
              "\n",
              "    .colab-df-convert:hover {\n",
              "      background-color: #E2EBFA;\n",
              "      box-shadow: 0px 1px 2px rgba(60, 64, 67, 0.3), 0px 1px 3px 1px rgba(60, 64, 67, 0.15);\n",
              "      fill: #174EA6;\n",
              "    }\n",
              "\n",
              "    [theme=dark] .colab-df-convert {\n",
              "      background-color: #3B4455;\n",
              "      fill: #D2E3FC;\n",
              "    }\n",
              "\n",
              "    [theme=dark] .colab-df-convert:hover {\n",
              "      background-color: #434B5C;\n",
              "      box-shadow: 0px 1px 3px 1px rgba(0, 0, 0, 0.15);\n",
              "      filter: drop-shadow(0px 1px 2px rgba(0, 0, 0, 0.3));\n",
              "      fill: #FFFFFF;\n",
              "    }\n",
              "  </style>\n",
              "\n",
              "      <script>\n",
              "        const buttonEl =\n",
              "          document.querySelector('#df-bb3f9c48-0636-4825-bc51-d86405bc4b98 button.colab-df-convert');\n",
              "        buttonEl.style.display =\n",
              "          google.colab.kernel.accessAllowed ? 'block' : 'none';\n",
              "\n",
              "        async function convertToInteractive(key) {\n",
              "          const element = document.querySelector('#df-bb3f9c48-0636-4825-bc51-d86405bc4b98');\n",
              "          const dataTable =\n",
              "            await google.colab.kernel.invokeFunction('convertToInteractive',\n",
              "                                                     [key], {});\n",
              "          if (!dataTable) return;\n",
              "\n",
              "          const docLinkHtml = 'Like what you see? Visit the ' +\n",
              "            '<a target=\"_blank\" href=https://colab.research.google.com/notebooks/data_table.ipynb>data table notebook</a>'\n",
              "            + ' to learn more about interactive tables.';\n",
              "          element.innerHTML = '';\n",
              "          dataTable['output_type'] = 'display_data';\n",
              "          await google.colab.output.renderOutput(dataTable, element);\n",
              "          const docLink = document.createElement('div');\n",
              "          docLink.innerHTML = docLinkHtml;\n",
              "          element.appendChild(docLink);\n",
              "        }\n",
              "      </script>\n",
              "    </div>\n",
              "  </div>\n",
              "  "
            ]
          },
          "metadata": {},
          "execution_count": 13
        }
      ]
    },
    {
      "cell_type": "code",
      "source": [
        "df.rename(columns={'Tempo':'Horário'}, inplace = True) #Trocando o nome da coluna Tempo por Horário"
      ],
      "metadata": {
        "id": "aiRb7LrjSL-N"
      },
      "execution_count": null,
      "outputs": []
    },
    {
      "cell_type": "code",
      "source": [
        "df.head()"
      ],
      "metadata": {
        "colab": {
          "base_uri": "https://localhost:8080/",
          "height": 206
        },
        "id": "IBws7Af_T7KC",
        "outputId": "83b929a7-cee7-4a65-8b0b-a555070f02a5"
      },
      "execution_count": null,
      "outputs": [
        {
          "output_type": "execute_result",
          "data": {
            "text/plain": [
              "  Filial Tipo de Cliente Gênero        Linha de produto  Preço unitário  \\\n",
              "0      A       Associado      F          Saúde e beleza         1120.35   \n",
              "1      C          Normal      F  Acessórios eletrônicos          229.20   \n",
              "2      A          Normal      M   Casa e estilo de vida          694.95   \n",
              "3      A       Associado      M          Saúde e beleza          873.30   \n",
              "4      A          Normal      M      Esportes e viagens         1294.65   \n",
              "\n",
              "   Quantidade    Total       Data   Horário          Pagamento       COGS  \\\n",
              "0           7  7842.45   1/5/2019  13:08:00                PIX  4705.4700   \n",
              "1           5  1146.00   3/8/2019  10:29:00           Dinheiro  1031.4000   \n",
              "2           7  4864.65   3/3/2019  13:23:00  Cartão de Crédito  3405.2550   \n",
              "3           8  6986.40  1/27/2019  20:33:00                PIX  4191.8400   \n",
              "4           7  9062.55   2/8/2019  10:37:00                PIX  6796.9125   \n",
              "\n",
              "   Avaliação  \n",
              "0         91  \n",
              "1         96  \n",
              "2         74  \n",
              "3         84  \n",
              "4         53  "
            ],
            "text/html": [
              "\n",
              "  <div id=\"df-62198130-a70c-469c-b76f-18b9fb6129e0\">\n",
              "    <div class=\"colab-df-container\">\n",
              "      <div>\n",
              "<style scoped>\n",
              "    .dataframe tbody tr th:only-of-type {\n",
              "        vertical-align: middle;\n",
              "    }\n",
              "\n",
              "    .dataframe tbody tr th {\n",
              "        vertical-align: top;\n",
              "    }\n",
              "\n",
              "    .dataframe thead th {\n",
              "        text-align: right;\n",
              "    }\n",
              "</style>\n",
              "<table border=\"1\" class=\"dataframe\">\n",
              "  <thead>\n",
              "    <tr style=\"text-align: right;\">\n",
              "      <th></th>\n",
              "      <th>Filial</th>\n",
              "      <th>Tipo de Cliente</th>\n",
              "      <th>Gênero</th>\n",
              "      <th>Linha de produto</th>\n",
              "      <th>Preço unitário</th>\n",
              "      <th>Quantidade</th>\n",
              "      <th>Total</th>\n",
              "      <th>Data</th>\n",
              "      <th>Horário</th>\n",
              "      <th>Pagamento</th>\n",
              "      <th>COGS</th>\n",
              "      <th>Avaliação</th>\n",
              "    </tr>\n",
              "  </thead>\n",
              "  <tbody>\n",
              "    <tr>\n",
              "      <th>0</th>\n",
              "      <td>A</td>\n",
              "      <td>Associado</td>\n",
              "      <td>F</td>\n",
              "      <td>Saúde e beleza</td>\n",
              "      <td>1120.35</td>\n",
              "      <td>7</td>\n",
              "      <td>7842.45</td>\n",
              "      <td>1/5/2019</td>\n",
              "      <td>13:08:00</td>\n",
              "      <td>PIX</td>\n",
              "      <td>4705.4700</td>\n",
              "      <td>91</td>\n",
              "    </tr>\n",
              "    <tr>\n",
              "      <th>1</th>\n",
              "      <td>C</td>\n",
              "      <td>Normal</td>\n",
              "      <td>F</td>\n",
              "      <td>Acessórios eletrônicos</td>\n",
              "      <td>229.20</td>\n",
              "      <td>5</td>\n",
              "      <td>1146.00</td>\n",
              "      <td>3/8/2019</td>\n",
              "      <td>10:29:00</td>\n",
              "      <td>Dinheiro</td>\n",
              "      <td>1031.4000</td>\n",
              "      <td>96</td>\n",
              "    </tr>\n",
              "    <tr>\n",
              "      <th>2</th>\n",
              "      <td>A</td>\n",
              "      <td>Normal</td>\n",
              "      <td>M</td>\n",
              "      <td>Casa e estilo de vida</td>\n",
              "      <td>694.95</td>\n",
              "      <td>7</td>\n",
              "      <td>4864.65</td>\n",
              "      <td>3/3/2019</td>\n",
              "      <td>13:23:00</td>\n",
              "      <td>Cartão de Crédito</td>\n",
              "      <td>3405.2550</td>\n",
              "      <td>74</td>\n",
              "    </tr>\n",
              "    <tr>\n",
              "      <th>3</th>\n",
              "      <td>A</td>\n",
              "      <td>Associado</td>\n",
              "      <td>M</td>\n",
              "      <td>Saúde e beleza</td>\n",
              "      <td>873.30</td>\n",
              "      <td>8</td>\n",
              "      <td>6986.40</td>\n",
              "      <td>1/27/2019</td>\n",
              "      <td>20:33:00</td>\n",
              "      <td>PIX</td>\n",
              "      <td>4191.8400</td>\n",
              "      <td>84</td>\n",
              "    </tr>\n",
              "    <tr>\n",
              "      <th>4</th>\n",
              "      <td>A</td>\n",
              "      <td>Normal</td>\n",
              "      <td>M</td>\n",
              "      <td>Esportes e viagens</td>\n",
              "      <td>1294.65</td>\n",
              "      <td>7</td>\n",
              "      <td>9062.55</td>\n",
              "      <td>2/8/2019</td>\n",
              "      <td>10:37:00</td>\n",
              "      <td>PIX</td>\n",
              "      <td>6796.9125</td>\n",
              "      <td>53</td>\n",
              "    </tr>\n",
              "  </tbody>\n",
              "</table>\n",
              "</div>\n",
              "      <button class=\"colab-df-convert\" onclick=\"convertToInteractive('df-62198130-a70c-469c-b76f-18b9fb6129e0')\"\n",
              "              title=\"Convert this dataframe to an interactive table.\"\n",
              "              style=\"display:none;\">\n",
              "        \n",
              "  <svg xmlns=\"http://www.w3.org/2000/svg\" height=\"24px\"viewBox=\"0 0 24 24\"\n",
              "       width=\"24px\">\n",
              "    <path d=\"M0 0h24v24H0V0z\" fill=\"none\"/>\n",
              "    <path d=\"M18.56 5.44l.94 2.06.94-2.06 2.06-.94-2.06-.94-.94-2.06-.94 2.06-2.06.94zm-11 1L8.5 8.5l.94-2.06 2.06-.94-2.06-.94L8.5 2.5l-.94 2.06-2.06.94zm10 10l.94 2.06.94-2.06 2.06-.94-2.06-.94-.94-2.06-.94 2.06-2.06.94z\"/><path d=\"M17.41 7.96l-1.37-1.37c-.4-.4-.92-.59-1.43-.59-.52 0-1.04.2-1.43.59L10.3 9.45l-7.72 7.72c-.78.78-.78 2.05 0 2.83L4 21.41c.39.39.9.59 1.41.59.51 0 1.02-.2 1.41-.59l7.78-7.78 2.81-2.81c.8-.78.8-2.07 0-2.86zM5.41 20L4 18.59l7.72-7.72 1.47 1.35L5.41 20z\"/>\n",
              "  </svg>\n",
              "      </button>\n",
              "      \n",
              "  <style>\n",
              "    .colab-df-container {\n",
              "      display:flex;\n",
              "      flex-wrap:wrap;\n",
              "      gap: 12px;\n",
              "    }\n",
              "\n",
              "    .colab-df-convert {\n",
              "      background-color: #E8F0FE;\n",
              "      border: none;\n",
              "      border-radius: 50%;\n",
              "      cursor: pointer;\n",
              "      display: none;\n",
              "      fill: #1967D2;\n",
              "      height: 32px;\n",
              "      padding: 0 0 0 0;\n",
              "      width: 32px;\n",
              "    }\n",
              "\n",
              "    .colab-df-convert:hover {\n",
              "      background-color: #E2EBFA;\n",
              "      box-shadow: 0px 1px 2px rgba(60, 64, 67, 0.3), 0px 1px 3px 1px rgba(60, 64, 67, 0.15);\n",
              "      fill: #174EA6;\n",
              "    }\n",
              "\n",
              "    [theme=dark] .colab-df-convert {\n",
              "      background-color: #3B4455;\n",
              "      fill: #D2E3FC;\n",
              "    }\n",
              "\n",
              "    [theme=dark] .colab-df-convert:hover {\n",
              "      background-color: #434B5C;\n",
              "      box-shadow: 0px 1px 3px 1px rgba(0, 0, 0, 0.15);\n",
              "      filter: drop-shadow(0px 1px 2px rgba(0, 0, 0, 0.3));\n",
              "      fill: #FFFFFF;\n",
              "    }\n",
              "  </style>\n",
              "\n",
              "      <script>\n",
              "        const buttonEl =\n",
              "          document.querySelector('#df-62198130-a70c-469c-b76f-18b9fb6129e0 button.colab-df-convert');\n",
              "        buttonEl.style.display =\n",
              "          google.colab.kernel.accessAllowed ? 'block' : 'none';\n",
              "\n",
              "        async function convertToInteractive(key) {\n",
              "          const element = document.querySelector('#df-62198130-a70c-469c-b76f-18b9fb6129e0');\n",
              "          const dataTable =\n",
              "            await google.colab.kernel.invokeFunction('convertToInteractive',\n",
              "                                                     [key], {});\n",
              "          if (!dataTable) return;\n",
              "\n",
              "          const docLinkHtml = 'Like what you see? Visit the ' +\n",
              "            '<a target=\"_blank\" href=https://colab.research.google.com/notebooks/data_table.ipynb>data table notebook</a>'\n",
              "            + ' to learn more about interactive tables.';\n",
              "          element.innerHTML = '';\n",
              "          dataTable['output_type'] = 'display_data';\n",
              "          await google.colab.output.renderOutput(dataTable, element);\n",
              "          const docLink = document.createElement('div');\n",
              "          docLink.innerHTML = docLinkHtml;\n",
              "          element.appendChild(docLink);\n",
              "        }\n",
              "      </script>\n",
              "    </div>\n",
              "  </div>\n",
              "  "
            ]
          },
          "metadata": {},
          "execution_count": 15
        }
      ]
    },
    {
      "cell_type": "markdown",
      "source": [
        "#<font color='red'>O que significa a função unique()?</font>"
      ],
      "metadata": {
        "id": "0J9PIFcOFNGA"
      }
    },
    {
      "cell_type": "markdown",
      "source": [
        ">A função unique serve para retornar apenas uma vezes cada dado da coluna, sem se repetir"
      ],
      "metadata": {
        "id": "p-8W2pN7hwvk"
      }
    },
    {
      "cell_type": "code",
      "source": [
        "df['Data'].unique() #Verificando na coluna Data quais meses existem nesse caso apenas 1,2,3."
      ],
      "metadata": {
        "colab": {
          "base_uri": "https://localhost:8080/"
        },
        "id": "dWQDFVLtUcq4",
        "outputId": "e7ace1ba-d655-4044-fa86-e6ec78b67d1f"
      },
      "execution_count": null,
      "outputs": [
        {
          "output_type": "execute_result",
          "data": {
            "text/plain": [
              "array(['1/5/2019', '3/8/2019', '3/3/2019', '1/27/2019', '2/8/2019',\n",
              "       '3/25/2019', '2/25/2019', '2/24/2019', '1/10/2019', '2/20/2019',\n",
              "       '2/6/2019', '3/9/2019', '2/12/2019', '2/7/2019', '3/29/2019',\n",
              "       '1/15/2019', '3/11/2019', '1/1/2019', '1/21/2019', '3/5/2019',\n",
              "       '3/15/2019', '2/17/2019', '3/2/2019', '3/22/2019', '3/10/2019',\n",
              "       '1/25/2019', '1/28/2019', '1/7/2019', '3/23/2019', '1/17/2019',\n",
              "       '2/2/2019', '3/4/2019', '3/16/2019', '2/27/2019', '2/10/2019',\n",
              "       '3/19/2019', '2/3/2019', '3/7/2019', '2/28/2019', '3/27/2019',\n",
              "       '1/20/2019', '3/12/2019', '2/15/2019', '3/6/2019', '2/14/2019',\n",
              "       '3/13/2019', '1/24/2019', '1/6/2019', '2/11/2019', '1/22/2019',\n",
              "       '1/13/2019', '1/9/2019', '1/12/2019', '1/26/2019', '1/23/2019',\n",
              "       '2/23/2019', '1/2/2019', '2/9/2019', '3/26/2019', '3/1/2019',\n",
              "       '2/1/2019', '3/28/2019', '3/24/2019', '2/5/2019', '1/19/2019',\n",
              "       '1/16/2019', '1/8/2019', '2/18/2019', '1/18/2019', '2/16/2019',\n",
              "       '2/22/2019', '1/29/2019', '1/4/2019', '3/30/2019', '1/30/2019',\n",
              "       '1/3/2019', '3/21/2019', '2/13/2019', '1/14/2019', '3/18/2019',\n",
              "       '3/20/2019', '2/21/2019', '1/31/2019', '1/11/2019', '2/26/2019',\n",
              "       '3/17/2019', '3/14/2019', '2/4/2019', '2/19/2019'], dtype=object)"
            ]
          },
          "metadata": {},
          "execution_count": 16
        }
      ]
    },
    {
      "cell_type": "code",
      "source": [
        "df['Horário'] #Mostra apenas a coluna Horário"
      ],
      "metadata": {
        "colab": {
          "base_uri": "https://localhost:8080/"
        },
        "id": "SZs2rgneUvf2",
        "outputId": "4ef6bc1a-eb8a-4edc-c476-d2cbc6416eb7"
      },
      "execution_count": null,
      "outputs": [
        {
          "output_type": "execute_result",
          "data": {
            "text/plain": [
              "0      13:08:00\n",
              "1      10:29:00\n",
              "2      13:23:00\n",
              "3      20:33:00\n",
              "4      10:37:00\n",
              "         ...   \n",
              "995    13:46:00\n",
              "996    17:16:00\n",
              "997    13:22:00\n",
              "998    15:33:00\n",
              "999    13:28:00\n",
              "Name: Horário, Length: 1000, dtype: object"
            ]
          },
          "metadata": {},
          "execution_count": 17
        }
      ]
    },
    {
      "cell_type": "markdown",
      "source": [
        "#<font color='red'>Por que precisamos converter para datatime64? O que significa isso?</font>"
      ],
      "metadata": {
        "id": "kQBMtjxYFdJR"
      }
    },
    {
      "cell_type": "markdown",
      "source": [
        ">Que a data está sendo um typo Objeto, e precisa ser a convertido para o tipo date para poder ser manipulado e usado para fazer o processamento dos dados."
      ],
      "metadata": {
        "id": "D_8bpri0irw4"
      }
    },
    {
      "cell_type": "code",
      "source": [
        "df['Data'] = pd.to_datetime(df['Data']) #Converte objeto para datatime64 (manipular data e hora)"
      ],
      "metadata": {
        "id": "vmd2D08QUznc"
      },
      "execution_count": null,
      "outputs": []
    },
    {
      "cell_type": "code",
      "source": [
        "df['Data']"
      ],
      "metadata": {
        "colab": {
          "base_uri": "https://localhost:8080/"
        },
        "id": "ca4qYZOfcdlF",
        "outputId": "e0b9a760-b3a7-4fb4-cbd8-943e97f19fec"
      },
      "execution_count": null,
      "outputs": [
        {
          "output_type": "execute_result",
          "data": {
            "text/plain": [
              "0     2019-01-05\n",
              "1     2019-03-08\n",
              "2     2019-03-03\n",
              "3     2019-01-27\n",
              "4     2019-02-08\n",
              "         ...    \n",
              "995   2019-01-29\n",
              "996   2019-03-02\n",
              "997   2019-02-09\n",
              "998   2019-02-22\n",
              "999   2019-02-18\n",
              "Name: Data, Length: 1000, dtype: datetime64[ns]"
            ]
          },
          "metadata": {},
          "execution_count": 19
        }
      ]
    },
    {
      "cell_type": "code",
      "source": [
        "df['Horário'] = pd.to_datetime(df['Horário']) #Converte objeto para datatime64 (manipular data e hora)"
      ],
      "metadata": {
        "id": "SKd8kD0mcftG"
      },
      "execution_count": null,
      "outputs": []
    },
    {
      "cell_type": "code",
      "source": [
        "df['Horário']"
      ],
      "metadata": {
        "colab": {
          "base_uri": "https://localhost:8080/"
        },
        "id": "t8ViDePWc7JJ",
        "outputId": "cb387904-b5d8-4ec3-be05-4044897a4016"
      },
      "execution_count": null,
      "outputs": [
        {
          "output_type": "execute_result",
          "data": {
            "text/plain": [
              "0     2023-03-26 13:08:00\n",
              "1     2023-03-26 10:29:00\n",
              "2     2023-03-26 13:23:00\n",
              "3     2023-03-26 20:33:00\n",
              "4     2023-03-26 10:37:00\n",
              "              ...        \n",
              "995   2023-03-26 13:46:00\n",
              "996   2023-03-26 17:16:00\n",
              "997   2023-03-26 13:22:00\n",
              "998   2023-03-26 15:33:00\n",
              "999   2023-03-26 13:28:00\n",
              "Name: Horário, Length: 1000, dtype: datetime64[ns]"
            ]
          },
          "metadata": {},
          "execution_count": 21
        }
      ]
    },
    {
      "cell_type": "markdown",
      "source": [
        "#IMPORTANTE: Esse comando foi atrasado, deveria ter sido executado no começo para verificar se algum dado está repetido."
      ],
      "metadata": {
        "id": "_cUI3lqPD7eQ"
      }
    },
    {
      "cell_type": "markdown",
      "source": [
        "#<font color='red'>Por que esse comando é importante quando se trata de KDD?</font>"
      ],
      "metadata": {
        "id": "l02NcFJwFuxh"
      }
    },
    {
      "cell_type": "markdown",
      "source": [
        ">Por que ele mostra se existem dados duplicados na base , por que é necessario limpar eles"
      ],
      "metadata": {
        "id": "BwsDE7BTkZgc"
      }
    },
    {
      "cell_type": "code",
      "source": [
        "df.duplicated().sum() "
      ],
      "metadata": {
        "colab": {
          "base_uri": "https://localhost:8080/"
        },
        "id": "m10NgQo2c8ZG",
        "outputId": "41bf626d-c1d9-42c4-9e44-5626ca49ff45"
      },
      "execution_count": null,
      "outputs": [
        {
          "output_type": "execute_result",
          "data": {
            "text/plain": [
              "0"
            ]
          },
          "metadata": {},
          "execution_count": 22
        }
      ]
    },
    {
      "cell_type": "code",
      "source": [
        "df.dtypes # comando para analisar os tipos de dados no seu dataframe"
      ],
      "metadata": {
        "colab": {
          "base_uri": "https://localhost:8080/"
        },
        "id": "17iE61fMdPX0",
        "outputId": "90182a1d-d264-4f78-b533-a4e5f1aad7f2"
      },
      "execution_count": null,
      "outputs": [
        {
          "output_type": "execute_result",
          "data": {
            "text/plain": [
              "Filial                      object\n",
              "Tipo de Cliente             object\n",
              "Gênero                      object\n",
              "Linha de produto            object\n",
              "Preço unitário             float64\n",
              "Quantidade                   int64\n",
              "Total                      float64\n",
              "Data                datetime64[ns]\n",
              "Horário             datetime64[ns]\n",
              "Pagamento                   object\n",
              "COGS                       float64\n",
              "Avaliação                    int64\n",
              "dtype: object"
            ]
          },
          "metadata": {},
          "execution_count": 23
        }
      ]
    },
    {
      "cell_type": "markdown",
      "source": [
        "#<font color='red'>O que é dicionário em python, para que serve?</font>"
      ],
      "metadata": {
        "id": "FYiHwpXJF_Ww"
      }
    },
    {
      "cell_type": "markdown",
      "source": [
        ">Em Python, um dicionário é um tipo de estrutura de dados que permite armazenar pares de chave-valor. Cada chave é única e usada para acessar um valor associado a ela. Os valores em um dicionário podem ser de qualquer tipo, incluindo outros dicionários"
      ],
      "metadata": {
        "id": "2xvHsLsUmXFl"
      }
    },
    {
      "cell_type": "code",
      "source": [
        "meses = {1: 'Janeiro', 2:'Fevereiro', 3: 'Março'} # Criando um dicionário "
      ],
      "metadata": {
        "id": "0J-bcsFudl4F"
      },
      "execution_count": null,
      "outputs": []
    },
    {
      "cell_type": "markdown",
      "source": [
        "#<font color='red'>Explique a função dt.month.map(meses)?</font>"
      ],
      "metadata": {
        "id": "lDeJ_JcRJC_6"
      }
    },
    {
      "cell_type": "markdown",
      "source": [
        ">A função do proprio python, serve para poder mudar os numeros de cada mes para a string com o nome de cada mes, no mapa que foi criado anteriormente."
      ],
      "metadata": {
        "id": "LcOrUAPDmmiW"
      }
    },
    {
      "cell_type": "code",
      "source": [
        "df['Data'] = pd.to_datetime(df['Data']).dt.month.map(meses) #Mapear o número mês para string mês"
      ],
      "metadata": {
        "id": "EhWVAQUCeC2w"
      },
      "execution_count": null,
      "outputs": []
    },
    {
      "cell_type": "code",
      "source": [
        "df.head()"
      ],
      "metadata": {
        "colab": {
          "base_uri": "https://localhost:8080/",
          "height": 206
        },
        "id": "e_5ofzjTElkc",
        "outputId": "13ff92df-ca7e-4c0f-e577-6bd85b600cd5"
      },
      "execution_count": null,
      "outputs": [
        {
          "output_type": "execute_result",
          "data": {
            "text/plain": [
              "  Filial Tipo de Cliente Gênero        Linha de produto  Preço unitário  \\\n",
              "0      A       Associado      F          Saúde e beleza         1120.35   \n",
              "1      C          Normal      F  Acessórios eletrônicos          229.20   \n",
              "2      A          Normal      M   Casa e estilo de vida          694.95   \n",
              "3      A       Associado      M          Saúde e beleza          873.30   \n",
              "4      A          Normal      M      Esportes e viagens         1294.65   \n",
              "\n",
              "   Quantidade    Total       Data             Horário          Pagamento  \\\n",
              "0           7  7842.45    Janeiro 2023-03-26 13:08:00                PIX   \n",
              "1           5  1146.00      Março 2023-03-26 10:29:00           Dinheiro   \n",
              "2           7  4864.65      Março 2023-03-26 13:23:00  Cartão de Crédito   \n",
              "3           8  6986.40    Janeiro 2023-03-26 20:33:00                PIX   \n",
              "4           7  9062.55  Fevereiro 2023-03-26 10:37:00                PIX   \n",
              "\n",
              "        COGS  Avaliação  \n",
              "0  4705.4700         91  \n",
              "1  1031.4000         96  \n",
              "2  3405.2550         74  \n",
              "3  4191.8400         84  \n",
              "4  6796.9125         53  "
            ],
            "text/html": [
              "\n",
              "  <div id=\"df-412cec16-8ad8-4189-8334-6fe478bc5c59\">\n",
              "    <div class=\"colab-df-container\">\n",
              "      <div>\n",
              "<style scoped>\n",
              "    .dataframe tbody tr th:only-of-type {\n",
              "        vertical-align: middle;\n",
              "    }\n",
              "\n",
              "    .dataframe tbody tr th {\n",
              "        vertical-align: top;\n",
              "    }\n",
              "\n",
              "    .dataframe thead th {\n",
              "        text-align: right;\n",
              "    }\n",
              "</style>\n",
              "<table border=\"1\" class=\"dataframe\">\n",
              "  <thead>\n",
              "    <tr style=\"text-align: right;\">\n",
              "      <th></th>\n",
              "      <th>Filial</th>\n",
              "      <th>Tipo de Cliente</th>\n",
              "      <th>Gênero</th>\n",
              "      <th>Linha de produto</th>\n",
              "      <th>Preço unitário</th>\n",
              "      <th>Quantidade</th>\n",
              "      <th>Total</th>\n",
              "      <th>Data</th>\n",
              "      <th>Horário</th>\n",
              "      <th>Pagamento</th>\n",
              "      <th>COGS</th>\n",
              "      <th>Avaliação</th>\n",
              "    </tr>\n",
              "  </thead>\n",
              "  <tbody>\n",
              "    <tr>\n",
              "      <th>0</th>\n",
              "      <td>A</td>\n",
              "      <td>Associado</td>\n",
              "      <td>F</td>\n",
              "      <td>Saúde e beleza</td>\n",
              "      <td>1120.35</td>\n",
              "      <td>7</td>\n",
              "      <td>7842.45</td>\n",
              "      <td>Janeiro</td>\n",
              "      <td>2023-03-26 13:08:00</td>\n",
              "      <td>PIX</td>\n",
              "      <td>4705.4700</td>\n",
              "      <td>91</td>\n",
              "    </tr>\n",
              "    <tr>\n",
              "      <th>1</th>\n",
              "      <td>C</td>\n",
              "      <td>Normal</td>\n",
              "      <td>F</td>\n",
              "      <td>Acessórios eletrônicos</td>\n",
              "      <td>229.20</td>\n",
              "      <td>5</td>\n",
              "      <td>1146.00</td>\n",
              "      <td>Março</td>\n",
              "      <td>2023-03-26 10:29:00</td>\n",
              "      <td>Dinheiro</td>\n",
              "      <td>1031.4000</td>\n",
              "      <td>96</td>\n",
              "    </tr>\n",
              "    <tr>\n",
              "      <th>2</th>\n",
              "      <td>A</td>\n",
              "      <td>Normal</td>\n",
              "      <td>M</td>\n",
              "      <td>Casa e estilo de vida</td>\n",
              "      <td>694.95</td>\n",
              "      <td>7</td>\n",
              "      <td>4864.65</td>\n",
              "      <td>Março</td>\n",
              "      <td>2023-03-26 13:23:00</td>\n",
              "      <td>Cartão de Crédito</td>\n",
              "      <td>3405.2550</td>\n",
              "      <td>74</td>\n",
              "    </tr>\n",
              "    <tr>\n",
              "      <th>3</th>\n",
              "      <td>A</td>\n",
              "      <td>Associado</td>\n",
              "      <td>M</td>\n",
              "      <td>Saúde e beleza</td>\n",
              "      <td>873.30</td>\n",
              "      <td>8</td>\n",
              "      <td>6986.40</td>\n",
              "      <td>Janeiro</td>\n",
              "      <td>2023-03-26 20:33:00</td>\n",
              "      <td>PIX</td>\n",
              "      <td>4191.8400</td>\n",
              "      <td>84</td>\n",
              "    </tr>\n",
              "    <tr>\n",
              "      <th>4</th>\n",
              "      <td>A</td>\n",
              "      <td>Normal</td>\n",
              "      <td>M</td>\n",
              "      <td>Esportes e viagens</td>\n",
              "      <td>1294.65</td>\n",
              "      <td>7</td>\n",
              "      <td>9062.55</td>\n",
              "      <td>Fevereiro</td>\n",
              "      <td>2023-03-26 10:37:00</td>\n",
              "      <td>PIX</td>\n",
              "      <td>6796.9125</td>\n",
              "      <td>53</td>\n",
              "    </tr>\n",
              "  </tbody>\n",
              "</table>\n",
              "</div>\n",
              "      <button class=\"colab-df-convert\" onclick=\"convertToInteractive('df-412cec16-8ad8-4189-8334-6fe478bc5c59')\"\n",
              "              title=\"Convert this dataframe to an interactive table.\"\n",
              "              style=\"display:none;\">\n",
              "        \n",
              "  <svg xmlns=\"http://www.w3.org/2000/svg\" height=\"24px\"viewBox=\"0 0 24 24\"\n",
              "       width=\"24px\">\n",
              "    <path d=\"M0 0h24v24H0V0z\" fill=\"none\"/>\n",
              "    <path d=\"M18.56 5.44l.94 2.06.94-2.06 2.06-.94-2.06-.94-.94-2.06-.94 2.06-2.06.94zm-11 1L8.5 8.5l.94-2.06 2.06-.94-2.06-.94L8.5 2.5l-.94 2.06-2.06.94zm10 10l.94 2.06.94-2.06 2.06-.94-2.06-.94-.94-2.06-.94 2.06-2.06.94z\"/><path d=\"M17.41 7.96l-1.37-1.37c-.4-.4-.92-.59-1.43-.59-.52 0-1.04.2-1.43.59L10.3 9.45l-7.72 7.72c-.78.78-.78 2.05 0 2.83L4 21.41c.39.39.9.59 1.41.59.51 0 1.02-.2 1.41-.59l7.78-7.78 2.81-2.81c.8-.78.8-2.07 0-2.86zM5.41 20L4 18.59l7.72-7.72 1.47 1.35L5.41 20z\"/>\n",
              "  </svg>\n",
              "      </button>\n",
              "      \n",
              "  <style>\n",
              "    .colab-df-container {\n",
              "      display:flex;\n",
              "      flex-wrap:wrap;\n",
              "      gap: 12px;\n",
              "    }\n",
              "\n",
              "    .colab-df-convert {\n",
              "      background-color: #E8F0FE;\n",
              "      border: none;\n",
              "      border-radius: 50%;\n",
              "      cursor: pointer;\n",
              "      display: none;\n",
              "      fill: #1967D2;\n",
              "      height: 32px;\n",
              "      padding: 0 0 0 0;\n",
              "      width: 32px;\n",
              "    }\n",
              "\n",
              "    .colab-df-convert:hover {\n",
              "      background-color: #E2EBFA;\n",
              "      box-shadow: 0px 1px 2px rgba(60, 64, 67, 0.3), 0px 1px 3px 1px rgba(60, 64, 67, 0.15);\n",
              "      fill: #174EA6;\n",
              "    }\n",
              "\n",
              "    [theme=dark] .colab-df-convert {\n",
              "      background-color: #3B4455;\n",
              "      fill: #D2E3FC;\n",
              "    }\n",
              "\n",
              "    [theme=dark] .colab-df-convert:hover {\n",
              "      background-color: #434B5C;\n",
              "      box-shadow: 0px 1px 3px 1px rgba(0, 0, 0, 0.15);\n",
              "      filter: drop-shadow(0px 1px 2px rgba(0, 0, 0, 0.3));\n",
              "      fill: #FFFFFF;\n",
              "    }\n",
              "  </style>\n",
              "\n",
              "      <script>\n",
              "        const buttonEl =\n",
              "          document.querySelector('#df-412cec16-8ad8-4189-8334-6fe478bc5c59 button.colab-df-convert');\n",
              "        buttonEl.style.display =\n",
              "          google.colab.kernel.accessAllowed ? 'block' : 'none';\n",
              "\n",
              "        async function convertToInteractive(key) {\n",
              "          const element = document.querySelector('#df-412cec16-8ad8-4189-8334-6fe478bc5c59');\n",
              "          const dataTable =\n",
              "            await google.colab.kernel.invokeFunction('convertToInteractive',\n",
              "                                                     [key], {});\n",
              "          if (!dataTable) return;\n",
              "\n",
              "          const docLinkHtml = 'Like what you see? Visit the ' +\n",
              "            '<a target=\"_blank\" href=https://colab.research.google.com/notebooks/data_table.ipynb>data table notebook</a>'\n",
              "            + ' to learn more about interactive tables.';\n",
              "          element.innerHTML = '';\n",
              "          dataTable['output_type'] = 'display_data';\n",
              "          await google.colab.output.renderOutput(dataTable, element);\n",
              "          const docLink = document.createElement('div');\n",
              "          docLink.innerHTML = docLinkHtml;\n",
              "          element.appendChild(docLink);\n",
              "        }\n",
              "      </script>\n",
              "    </div>\n",
              "  </div>\n",
              "  "
            ]
          },
          "metadata": {},
          "execution_count": 26
        }
      ]
    },
    {
      "cell_type": "markdown",
      "source": [
        "# <font color='red'>Explique a função dt.strftime, por que precisamos mudar o objeto?</font>"
      ],
      "metadata": {
        "id": "gp-J4BjVJaDT"
      }
    },
    {
      "cell_type": "markdown",
      "source": [
        ">A função serve para formatar os campos de Horário para apenas mostrarem o Horario que foi feito a compra, e necessario mudar o objeto para parar poder manipular de forma que seja possivel apenas mostrar a Hora."
      ],
      "metadata": {
        "id": "yXbruSq4pZgZ"
      }
    },
    {
      "cell_type": "code",
      "source": [
        "df['Horário'] = df['Horário'].dt.strftime('%H') #Transformar datatime em object (string), selecionado apenas o horário."
      ],
      "metadata": {
        "id": "cioMuo2aeas7"
      },
      "execution_count": null,
      "outputs": []
    },
    {
      "cell_type": "code",
      "source": [
        "df.head()"
      ],
      "metadata": {
        "colab": {
          "base_uri": "https://localhost:8080/",
          "height": 206
        },
        "id": "cj8eyipZhV2F",
        "outputId": "982f3cae-1afd-49fb-e146-9466212911f5"
      },
      "execution_count": null,
      "outputs": [
        {
          "output_type": "execute_result",
          "data": {
            "text/plain": [
              "  Filial Tipo de Cliente Gênero        Linha de produto  Preço unitário  \\\n",
              "0      A       Associado      F          Saúde e beleza         1120.35   \n",
              "1      C          Normal      F  Acessórios eletrônicos          229.20   \n",
              "2      A          Normal      M   Casa e estilo de vida          694.95   \n",
              "3      A       Associado      M          Saúde e beleza          873.30   \n",
              "4      A          Normal      M      Esportes e viagens         1294.65   \n",
              "\n",
              "   Quantidade    Total       Data Horário          Pagamento       COGS  \\\n",
              "0           7  7842.45    Janeiro      13                PIX  4705.4700   \n",
              "1           5  1146.00      Março      10           Dinheiro  1031.4000   \n",
              "2           7  4864.65      Março      13  Cartão de Crédito  3405.2550   \n",
              "3           8  6986.40    Janeiro      20                PIX  4191.8400   \n",
              "4           7  9062.55  Fevereiro      10                PIX  6796.9125   \n",
              "\n",
              "   Avaliação  \n",
              "0         91  \n",
              "1         96  \n",
              "2         74  \n",
              "3         84  \n",
              "4         53  "
            ],
            "text/html": [
              "\n",
              "  <div id=\"df-aaad2134-b544-4c0c-bbe7-f33bb96eb4d0\">\n",
              "    <div class=\"colab-df-container\">\n",
              "      <div>\n",
              "<style scoped>\n",
              "    .dataframe tbody tr th:only-of-type {\n",
              "        vertical-align: middle;\n",
              "    }\n",
              "\n",
              "    .dataframe tbody tr th {\n",
              "        vertical-align: top;\n",
              "    }\n",
              "\n",
              "    .dataframe thead th {\n",
              "        text-align: right;\n",
              "    }\n",
              "</style>\n",
              "<table border=\"1\" class=\"dataframe\">\n",
              "  <thead>\n",
              "    <tr style=\"text-align: right;\">\n",
              "      <th></th>\n",
              "      <th>Filial</th>\n",
              "      <th>Tipo de Cliente</th>\n",
              "      <th>Gênero</th>\n",
              "      <th>Linha de produto</th>\n",
              "      <th>Preço unitário</th>\n",
              "      <th>Quantidade</th>\n",
              "      <th>Total</th>\n",
              "      <th>Data</th>\n",
              "      <th>Horário</th>\n",
              "      <th>Pagamento</th>\n",
              "      <th>COGS</th>\n",
              "      <th>Avaliação</th>\n",
              "    </tr>\n",
              "  </thead>\n",
              "  <tbody>\n",
              "    <tr>\n",
              "      <th>0</th>\n",
              "      <td>A</td>\n",
              "      <td>Associado</td>\n",
              "      <td>F</td>\n",
              "      <td>Saúde e beleza</td>\n",
              "      <td>1120.35</td>\n",
              "      <td>7</td>\n",
              "      <td>7842.45</td>\n",
              "      <td>Janeiro</td>\n",
              "      <td>13</td>\n",
              "      <td>PIX</td>\n",
              "      <td>4705.4700</td>\n",
              "      <td>91</td>\n",
              "    </tr>\n",
              "    <tr>\n",
              "      <th>1</th>\n",
              "      <td>C</td>\n",
              "      <td>Normal</td>\n",
              "      <td>F</td>\n",
              "      <td>Acessórios eletrônicos</td>\n",
              "      <td>229.20</td>\n",
              "      <td>5</td>\n",
              "      <td>1146.00</td>\n",
              "      <td>Março</td>\n",
              "      <td>10</td>\n",
              "      <td>Dinheiro</td>\n",
              "      <td>1031.4000</td>\n",
              "      <td>96</td>\n",
              "    </tr>\n",
              "    <tr>\n",
              "      <th>2</th>\n",
              "      <td>A</td>\n",
              "      <td>Normal</td>\n",
              "      <td>M</td>\n",
              "      <td>Casa e estilo de vida</td>\n",
              "      <td>694.95</td>\n",
              "      <td>7</td>\n",
              "      <td>4864.65</td>\n",
              "      <td>Março</td>\n",
              "      <td>13</td>\n",
              "      <td>Cartão de Crédito</td>\n",
              "      <td>3405.2550</td>\n",
              "      <td>74</td>\n",
              "    </tr>\n",
              "    <tr>\n",
              "      <th>3</th>\n",
              "      <td>A</td>\n",
              "      <td>Associado</td>\n",
              "      <td>M</td>\n",
              "      <td>Saúde e beleza</td>\n",
              "      <td>873.30</td>\n",
              "      <td>8</td>\n",
              "      <td>6986.40</td>\n",
              "      <td>Janeiro</td>\n",
              "      <td>20</td>\n",
              "      <td>PIX</td>\n",
              "      <td>4191.8400</td>\n",
              "      <td>84</td>\n",
              "    </tr>\n",
              "    <tr>\n",
              "      <th>4</th>\n",
              "      <td>A</td>\n",
              "      <td>Normal</td>\n",
              "      <td>M</td>\n",
              "      <td>Esportes e viagens</td>\n",
              "      <td>1294.65</td>\n",
              "      <td>7</td>\n",
              "      <td>9062.55</td>\n",
              "      <td>Fevereiro</td>\n",
              "      <td>10</td>\n",
              "      <td>PIX</td>\n",
              "      <td>6796.9125</td>\n",
              "      <td>53</td>\n",
              "    </tr>\n",
              "  </tbody>\n",
              "</table>\n",
              "</div>\n",
              "      <button class=\"colab-df-convert\" onclick=\"convertToInteractive('df-aaad2134-b544-4c0c-bbe7-f33bb96eb4d0')\"\n",
              "              title=\"Convert this dataframe to an interactive table.\"\n",
              "              style=\"display:none;\">\n",
              "        \n",
              "  <svg xmlns=\"http://www.w3.org/2000/svg\" height=\"24px\"viewBox=\"0 0 24 24\"\n",
              "       width=\"24px\">\n",
              "    <path d=\"M0 0h24v24H0V0z\" fill=\"none\"/>\n",
              "    <path d=\"M18.56 5.44l.94 2.06.94-2.06 2.06-.94-2.06-.94-.94-2.06-.94 2.06-2.06.94zm-11 1L8.5 8.5l.94-2.06 2.06-.94-2.06-.94L8.5 2.5l-.94 2.06-2.06.94zm10 10l.94 2.06.94-2.06 2.06-.94-2.06-.94-.94-2.06-.94 2.06-2.06.94z\"/><path d=\"M17.41 7.96l-1.37-1.37c-.4-.4-.92-.59-1.43-.59-.52 0-1.04.2-1.43.59L10.3 9.45l-7.72 7.72c-.78.78-.78 2.05 0 2.83L4 21.41c.39.39.9.59 1.41.59.51 0 1.02-.2 1.41-.59l7.78-7.78 2.81-2.81c.8-.78.8-2.07 0-2.86zM5.41 20L4 18.59l7.72-7.72 1.47 1.35L5.41 20z\"/>\n",
              "  </svg>\n",
              "      </button>\n",
              "      \n",
              "  <style>\n",
              "    .colab-df-container {\n",
              "      display:flex;\n",
              "      flex-wrap:wrap;\n",
              "      gap: 12px;\n",
              "    }\n",
              "\n",
              "    .colab-df-convert {\n",
              "      background-color: #E8F0FE;\n",
              "      border: none;\n",
              "      border-radius: 50%;\n",
              "      cursor: pointer;\n",
              "      display: none;\n",
              "      fill: #1967D2;\n",
              "      height: 32px;\n",
              "      padding: 0 0 0 0;\n",
              "      width: 32px;\n",
              "    }\n",
              "\n",
              "    .colab-df-convert:hover {\n",
              "      background-color: #E2EBFA;\n",
              "      box-shadow: 0px 1px 2px rgba(60, 64, 67, 0.3), 0px 1px 3px 1px rgba(60, 64, 67, 0.15);\n",
              "      fill: #174EA6;\n",
              "    }\n",
              "\n",
              "    [theme=dark] .colab-df-convert {\n",
              "      background-color: #3B4455;\n",
              "      fill: #D2E3FC;\n",
              "    }\n",
              "\n",
              "    [theme=dark] .colab-df-convert:hover {\n",
              "      background-color: #434B5C;\n",
              "      box-shadow: 0px 1px 3px 1px rgba(0, 0, 0, 0.15);\n",
              "      filter: drop-shadow(0px 1px 2px rgba(0, 0, 0, 0.3));\n",
              "      fill: #FFFFFF;\n",
              "    }\n",
              "  </style>\n",
              "\n",
              "      <script>\n",
              "        const buttonEl =\n",
              "          document.querySelector('#df-aaad2134-b544-4c0c-bbe7-f33bb96eb4d0 button.colab-df-convert');\n",
              "        buttonEl.style.display =\n",
              "          google.colab.kernel.accessAllowed ? 'block' : 'none';\n",
              "\n",
              "        async function convertToInteractive(key) {\n",
              "          const element = document.querySelector('#df-aaad2134-b544-4c0c-bbe7-f33bb96eb4d0');\n",
              "          const dataTable =\n",
              "            await google.colab.kernel.invokeFunction('convertToInteractive',\n",
              "                                                     [key], {});\n",
              "          if (!dataTable) return;\n",
              "\n",
              "          const docLinkHtml = 'Like what you see? Visit the ' +\n",
              "            '<a target=\"_blank\" href=https://colab.research.google.com/notebooks/data_table.ipynb>data table notebook</a>'\n",
              "            + ' to learn more about interactive tables.';\n",
              "          element.innerHTML = '';\n",
              "          dataTable['output_type'] = 'display_data';\n",
              "          await google.colab.output.renderOutput(dataTable, element);\n",
              "          const docLink = document.createElement('div');\n",
              "          docLink.innerHTML = docLinkHtml;\n",
              "          element.appendChild(docLink);\n",
              "        }\n",
              "      </script>\n",
              "    </div>\n",
              "  </div>\n",
              "  "
            ]
          },
          "metadata": {},
          "execution_count": 28
        }
      ]
    },
    {
      "cell_type": "markdown",
      "source": [
        "#<font color='red'>Explique detalhadamente o bloco de código abaixo:</font>"
      ],
      "metadata": {
        "id": "ujtYEKWUJsiX"
      }
    },
    {
      "cell_type": "markdown",
      "source": [
        ">Primeira é criado uma lista vazia, após feito um loop para passar linha por linha da coluna horario, verificando se o horario é de maior que 8 e menor que 13 é nomeado de manha, se maior que 12 e menor que 19 nomea Tarde, se for diferente disso é nomeado Noite, e feito a substituição da coluna pela lista feita."
      ],
      "metadata": {
        "id": "Kj9gJy6iqwtk"
      }
    },
    {
      "cell_type": "code",
      "source": [
        "time = [] #lista vazia\n",
        "for i in list(map(int,df['Horário'])): #laço for mapeando e transformando string para inteiro\n",
        "    if i > 8 and i < 13: # 9 - 12 (manhã)\n",
        "      time.append('Manhã') # Comando Append vai inserir Manhã quando o critério for verdadeiro na lista time.\n",
        "    elif i > 12 and i < 19: \n",
        "      time.append('Tarde')\n",
        "    else:\n",
        "      time.append('Noite')\n",
        "df['Horário'] = time #Substituindo a coluna horário pela lista time"
      ],
      "metadata": {
        "id": "M8tdJRHIhtAR"
      },
      "execution_count": null,
      "outputs": []
    },
    {
      "cell_type": "code",
      "source": [
        "df.head() #Dados OK"
      ],
      "metadata": {
        "colab": {
          "base_uri": "https://localhost:8080/",
          "height": 206
        },
        "id": "Nxgc7MVNimHW",
        "outputId": "ed4c7e1f-594c-4871-c466-eb9c2c51556d"
      },
      "execution_count": null,
      "outputs": [
        {
          "output_type": "execute_result",
          "data": {
            "text/plain": [
              "  Filial Tipo de Cliente Gênero        Linha de produto  Preço unitário  \\\n",
              "0      A       Associado      F          Saúde e beleza         1120.35   \n",
              "1      C          Normal      F  Acessórios eletrônicos          229.20   \n",
              "2      A          Normal      M   Casa e estilo de vida          694.95   \n",
              "3      A       Associado      M          Saúde e beleza          873.30   \n",
              "4      A          Normal      M      Esportes e viagens         1294.65   \n",
              "\n",
              "   Quantidade    Total       Data Horário          Pagamento       COGS  \\\n",
              "0           7  7842.45    Janeiro   Tarde                PIX  4705.4700   \n",
              "1           5  1146.00      Março   Manhã           Dinheiro  1031.4000   \n",
              "2           7  4864.65      Março   Tarde  Cartão de Crédito  3405.2550   \n",
              "3           8  6986.40    Janeiro   Noite                PIX  4191.8400   \n",
              "4           7  9062.55  Fevereiro   Manhã                PIX  6796.9125   \n",
              "\n",
              "   Avaliação  \n",
              "0         91  \n",
              "1         96  \n",
              "2         74  \n",
              "3         84  \n",
              "4         53  "
            ],
            "text/html": [
              "\n",
              "  <div id=\"df-98a02d70-7b8c-438c-a128-fb88bb987155\">\n",
              "    <div class=\"colab-df-container\">\n",
              "      <div>\n",
              "<style scoped>\n",
              "    .dataframe tbody tr th:only-of-type {\n",
              "        vertical-align: middle;\n",
              "    }\n",
              "\n",
              "    .dataframe tbody tr th {\n",
              "        vertical-align: top;\n",
              "    }\n",
              "\n",
              "    .dataframe thead th {\n",
              "        text-align: right;\n",
              "    }\n",
              "</style>\n",
              "<table border=\"1\" class=\"dataframe\">\n",
              "  <thead>\n",
              "    <tr style=\"text-align: right;\">\n",
              "      <th></th>\n",
              "      <th>Filial</th>\n",
              "      <th>Tipo de Cliente</th>\n",
              "      <th>Gênero</th>\n",
              "      <th>Linha de produto</th>\n",
              "      <th>Preço unitário</th>\n",
              "      <th>Quantidade</th>\n",
              "      <th>Total</th>\n",
              "      <th>Data</th>\n",
              "      <th>Horário</th>\n",
              "      <th>Pagamento</th>\n",
              "      <th>COGS</th>\n",
              "      <th>Avaliação</th>\n",
              "    </tr>\n",
              "  </thead>\n",
              "  <tbody>\n",
              "    <tr>\n",
              "      <th>0</th>\n",
              "      <td>A</td>\n",
              "      <td>Associado</td>\n",
              "      <td>F</td>\n",
              "      <td>Saúde e beleza</td>\n",
              "      <td>1120.35</td>\n",
              "      <td>7</td>\n",
              "      <td>7842.45</td>\n",
              "      <td>Janeiro</td>\n",
              "      <td>Tarde</td>\n",
              "      <td>PIX</td>\n",
              "      <td>4705.4700</td>\n",
              "      <td>91</td>\n",
              "    </tr>\n",
              "    <tr>\n",
              "      <th>1</th>\n",
              "      <td>C</td>\n",
              "      <td>Normal</td>\n",
              "      <td>F</td>\n",
              "      <td>Acessórios eletrônicos</td>\n",
              "      <td>229.20</td>\n",
              "      <td>5</td>\n",
              "      <td>1146.00</td>\n",
              "      <td>Março</td>\n",
              "      <td>Manhã</td>\n",
              "      <td>Dinheiro</td>\n",
              "      <td>1031.4000</td>\n",
              "      <td>96</td>\n",
              "    </tr>\n",
              "    <tr>\n",
              "      <th>2</th>\n",
              "      <td>A</td>\n",
              "      <td>Normal</td>\n",
              "      <td>M</td>\n",
              "      <td>Casa e estilo de vida</td>\n",
              "      <td>694.95</td>\n",
              "      <td>7</td>\n",
              "      <td>4864.65</td>\n",
              "      <td>Março</td>\n",
              "      <td>Tarde</td>\n",
              "      <td>Cartão de Crédito</td>\n",
              "      <td>3405.2550</td>\n",
              "      <td>74</td>\n",
              "    </tr>\n",
              "    <tr>\n",
              "      <th>3</th>\n",
              "      <td>A</td>\n",
              "      <td>Associado</td>\n",
              "      <td>M</td>\n",
              "      <td>Saúde e beleza</td>\n",
              "      <td>873.30</td>\n",
              "      <td>8</td>\n",
              "      <td>6986.40</td>\n",
              "      <td>Janeiro</td>\n",
              "      <td>Noite</td>\n",
              "      <td>PIX</td>\n",
              "      <td>4191.8400</td>\n",
              "      <td>84</td>\n",
              "    </tr>\n",
              "    <tr>\n",
              "      <th>4</th>\n",
              "      <td>A</td>\n",
              "      <td>Normal</td>\n",
              "      <td>M</td>\n",
              "      <td>Esportes e viagens</td>\n",
              "      <td>1294.65</td>\n",
              "      <td>7</td>\n",
              "      <td>9062.55</td>\n",
              "      <td>Fevereiro</td>\n",
              "      <td>Manhã</td>\n",
              "      <td>PIX</td>\n",
              "      <td>6796.9125</td>\n",
              "      <td>53</td>\n",
              "    </tr>\n",
              "  </tbody>\n",
              "</table>\n",
              "</div>\n",
              "      <button class=\"colab-df-convert\" onclick=\"convertToInteractive('df-98a02d70-7b8c-438c-a128-fb88bb987155')\"\n",
              "              title=\"Convert this dataframe to an interactive table.\"\n",
              "              style=\"display:none;\">\n",
              "        \n",
              "  <svg xmlns=\"http://www.w3.org/2000/svg\" height=\"24px\"viewBox=\"0 0 24 24\"\n",
              "       width=\"24px\">\n",
              "    <path d=\"M0 0h24v24H0V0z\" fill=\"none\"/>\n",
              "    <path d=\"M18.56 5.44l.94 2.06.94-2.06 2.06-.94-2.06-.94-.94-2.06-.94 2.06-2.06.94zm-11 1L8.5 8.5l.94-2.06 2.06-.94-2.06-.94L8.5 2.5l-.94 2.06-2.06.94zm10 10l.94 2.06.94-2.06 2.06-.94-2.06-.94-.94-2.06-.94 2.06-2.06.94z\"/><path d=\"M17.41 7.96l-1.37-1.37c-.4-.4-.92-.59-1.43-.59-.52 0-1.04.2-1.43.59L10.3 9.45l-7.72 7.72c-.78.78-.78 2.05 0 2.83L4 21.41c.39.39.9.59 1.41.59.51 0 1.02-.2 1.41-.59l7.78-7.78 2.81-2.81c.8-.78.8-2.07 0-2.86zM5.41 20L4 18.59l7.72-7.72 1.47 1.35L5.41 20z\"/>\n",
              "  </svg>\n",
              "      </button>\n",
              "      \n",
              "  <style>\n",
              "    .colab-df-container {\n",
              "      display:flex;\n",
              "      flex-wrap:wrap;\n",
              "      gap: 12px;\n",
              "    }\n",
              "\n",
              "    .colab-df-convert {\n",
              "      background-color: #E8F0FE;\n",
              "      border: none;\n",
              "      border-radius: 50%;\n",
              "      cursor: pointer;\n",
              "      display: none;\n",
              "      fill: #1967D2;\n",
              "      height: 32px;\n",
              "      padding: 0 0 0 0;\n",
              "      width: 32px;\n",
              "    }\n",
              "\n",
              "    .colab-df-convert:hover {\n",
              "      background-color: #E2EBFA;\n",
              "      box-shadow: 0px 1px 2px rgba(60, 64, 67, 0.3), 0px 1px 3px 1px rgba(60, 64, 67, 0.15);\n",
              "      fill: #174EA6;\n",
              "    }\n",
              "\n",
              "    [theme=dark] .colab-df-convert {\n",
              "      background-color: #3B4455;\n",
              "      fill: #D2E3FC;\n",
              "    }\n",
              "\n",
              "    [theme=dark] .colab-df-convert:hover {\n",
              "      background-color: #434B5C;\n",
              "      box-shadow: 0px 1px 3px 1px rgba(0, 0, 0, 0.15);\n",
              "      filter: drop-shadow(0px 1px 2px rgba(0, 0, 0, 0.3));\n",
              "      fill: #FFFFFF;\n",
              "    }\n",
              "  </style>\n",
              "\n",
              "      <script>\n",
              "        const buttonEl =\n",
              "          document.querySelector('#df-98a02d70-7b8c-438c-a128-fb88bb987155 button.colab-df-convert');\n",
              "        buttonEl.style.display =\n",
              "          google.colab.kernel.accessAllowed ? 'block' : 'none';\n",
              "\n",
              "        async function convertToInteractive(key) {\n",
              "          const element = document.querySelector('#df-98a02d70-7b8c-438c-a128-fb88bb987155');\n",
              "          const dataTable =\n",
              "            await google.colab.kernel.invokeFunction('convertToInteractive',\n",
              "                                                     [key], {});\n",
              "          if (!dataTable) return;\n",
              "\n",
              "          const docLinkHtml = 'Like what you see? Visit the ' +\n",
              "            '<a target=\"_blank\" href=https://colab.research.google.com/notebooks/data_table.ipynb>data table notebook</a>'\n",
              "            + ' to learn more about interactive tables.';\n",
              "          element.innerHTML = '';\n",
              "          dataTable['output_type'] = 'display_data';\n",
              "          await google.colab.output.renderOutput(dataTable, element);\n",
              "          const docLink = document.createElement('div');\n",
              "          docLink.innerHTML = docLinkHtml;\n",
              "          element.appendChild(docLink);\n",
              "        }\n",
              "      </script>\n",
              "    </div>\n",
              "  </div>\n",
              "  "
            ]
          },
          "metadata": {},
          "execution_count": 30
        }
      ]
    },
    {
      "cell_type": "markdown",
      "source": [
        "#<font color='red'>Explique de maneira resumida o que foi feito:</font>\n",
        "\n",
        "\n",
        "\n",
        "1.   Foi excluído algumas colunas que não tinham correlação\n",
        "2.   Item da lista\n",
        "\n"
      ],
      "metadata": {
        "id": "l48CnxD9JzUW"
      }
    },
    {
      "cell_type": "markdown",
      "source": [
        ">Foram feito a exclusão das colunas 'porcentagem de margem bruta', 'renda bruta', 'ID da fatura', e alterado o nome membro para associado na coluna Tipo de Cliente, alem de alterado a Coluna Data de 1,2,3 para Janeiro, fevereiro, março, e Alterado o Horario de numero para Manha, Tarde, Noite"
      ],
      "metadata": {
        "id": "S2rZWTLNwEQL"
      }
    },
    {
      "cell_type": "markdown",
      "source": [
        "# Etapa: Minerando Dados criando Informação e Conhecimento"
      ],
      "metadata": {
        "id": "DW9DrUUDF-da"
      }
    },
    {
      "cell_type": "markdown",
      "source": [
        "# **1 Análise**\n"
      ],
      "metadata": {
        "id": "DdrkLdasmmoY"
      }
    },
    {
      "cell_type": "markdown",
      "source": [
        "#<font color='red'>O que significa a função abaixo? Por que linha de produto está entre parênteses e Avaliação entre colchetes?</font>\n"
      ],
      "metadata": {
        "id": "8In0dPMyGUVD"
      }
    },
    {
      "cell_type": "markdown",
      "source": [
        ">Está griando um agrupamento  da coluna linha de produto e avaliação, A linha de produto está entre parenteses por que ela é está sendo defenido como uma coluna independente, e avaliação que está logo após de linha de produto, está entre colchetes para dizer que é dependente de linha de produto."
      ],
      "metadata": {
        "id": "eU-13Z0kxewV"
      }
    },
    {
      "cell_type": "code",
      "source": [
        "Agrupamento = df.groupby('Linha de produto')['Avaliação'].mean().reset_index(drop=False) "
      ],
      "metadata": {
        "id": "XRnBagp4imw5"
      },
      "execution_count": null,
      "outputs": []
    },
    {
      "cell_type": "code",
      "source": [
        "Agrupamento"
      ],
      "metadata": {
        "id": "Mpj_6XcEnG8J",
        "colab": {
          "base_uri": "https://localhost:8080/",
          "height": 238
        },
        "outputId": "045c1863-932b-442a-c7c2-54a0e7686a61"
      },
      "execution_count": null,
      "outputs": [
        {
          "output_type": "execute_result",
          "data": {
            "text/plain": [
              "         Linha de produto  Avaliação\n",
              "0  Acessórios eletrônicos  61.411765\n",
              "1     Acessórios fashions  64.780899\n",
              "2   Casa e estilo de vida  63.031250\n",
              "3        Comida e bebidas  63.166667\n",
              "4      Esportes e viagens  60.379518\n",
              "5          Saúde e beleza  62.335526"
            ],
            "text/html": [
              "\n",
              "  <div id=\"df-98328992-5f95-4601-929c-a1e492a4d651\">\n",
              "    <div class=\"colab-df-container\">\n",
              "      <div>\n",
              "<style scoped>\n",
              "    .dataframe tbody tr th:only-of-type {\n",
              "        vertical-align: middle;\n",
              "    }\n",
              "\n",
              "    .dataframe tbody tr th {\n",
              "        vertical-align: top;\n",
              "    }\n",
              "\n",
              "    .dataframe thead th {\n",
              "        text-align: right;\n",
              "    }\n",
              "</style>\n",
              "<table border=\"1\" class=\"dataframe\">\n",
              "  <thead>\n",
              "    <tr style=\"text-align: right;\">\n",
              "      <th></th>\n",
              "      <th>Linha de produto</th>\n",
              "      <th>Avaliação</th>\n",
              "    </tr>\n",
              "  </thead>\n",
              "  <tbody>\n",
              "    <tr>\n",
              "      <th>0</th>\n",
              "      <td>Acessórios eletrônicos</td>\n",
              "      <td>61.411765</td>\n",
              "    </tr>\n",
              "    <tr>\n",
              "      <th>1</th>\n",
              "      <td>Acessórios fashions</td>\n",
              "      <td>64.780899</td>\n",
              "    </tr>\n",
              "    <tr>\n",
              "      <th>2</th>\n",
              "      <td>Casa e estilo de vida</td>\n",
              "      <td>63.031250</td>\n",
              "    </tr>\n",
              "    <tr>\n",
              "      <th>3</th>\n",
              "      <td>Comida e bebidas</td>\n",
              "      <td>63.166667</td>\n",
              "    </tr>\n",
              "    <tr>\n",
              "      <th>4</th>\n",
              "      <td>Esportes e viagens</td>\n",
              "      <td>60.379518</td>\n",
              "    </tr>\n",
              "    <tr>\n",
              "      <th>5</th>\n",
              "      <td>Saúde e beleza</td>\n",
              "      <td>62.335526</td>\n",
              "    </tr>\n",
              "  </tbody>\n",
              "</table>\n",
              "</div>\n",
              "      <button class=\"colab-df-convert\" onclick=\"convertToInteractive('df-98328992-5f95-4601-929c-a1e492a4d651')\"\n",
              "              title=\"Convert this dataframe to an interactive table.\"\n",
              "              style=\"display:none;\">\n",
              "        \n",
              "  <svg xmlns=\"http://www.w3.org/2000/svg\" height=\"24px\"viewBox=\"0 0 24 24\"\n",
              "       width=\"24px\">\n",
              "    <path d=\"M0 0h24v24H0V0z\" fill=\"none\"/>\n",
              "    <path d=\"M18.56 5.44l.94 2.06.94-2.06 2.06-.94-2.06-.94-.94-2.06-.94 2.06-2.06.94zm-11 1L8.5 8.5l.94-2.06 2.06-.94-2.06-.94L8.5 2.5l-.94 2.06-2.06.94zm10 10l.94 2.06.94-2.06 2.06-.94-2.06-.94-.94-2.06-.94 2.06-2.06.94z\"/><path d=\"M17.41 7.96l-1.37-1.37c-.4-.4-.92-.59-1.43-.59-.52 0-1.04.2-1.43.59L10.3 9.45l-7.72 7.72c-.78.78-.78 2.05 0 2.83L4 21.41c.39.39.9.59 1.41.59.51 0 1.02-.2 1.41-.59l7.78-7.78 2.81-2.81c.8-.78.8-2.07 0-2.86zM5.41 20L4 18.59l7.72-7.72 1.47 1.35L5.41 20z\"/>\n",
              "  </svg>\n",
              "      </button>\n",
              "      \n",
              "  <style>\n",
              "    .colab-df-container {\n",
              "      display:flex;\n",
              "      flex-wrap:wrap;\n",
              "      gap: 12px;\n",
              "    }\n",
              "\n",
              "    .colab-df-convert {\n",
              "      background-color: #E8F0FE;\n",
              "      border: none;\n",
              "      border-radius: 50%;\n",
              "      cursor: pointer;\n",
              "      display: none;\n",
              "      fill: #1967D2;\n",
              "      height: 32px;\n",
              "      padding: 0 0 0 0;\n",
              "      width: 32px;\n",
              "    }\n",
              "\n",
              "    .colab-df-convert:hover {\n",
              "      background-color: #E2EBFA;\n",
              "      box-shadow: 0px 1px 2px rgba(60, 64, 67, 0.3), 0px 1px 3px 1px rgba(60, 64, 67, 0.15);\n",
              "      fill: #174EA6;\n",
              "    }\n",
              "\n",
              "    [theme=dark] .colab-df-convert {\n",
              "      background-color: #3B4455;\n",
              "      fill: #D2E3FC;\n",
              "    }\n",
              "\n",
              "    [theme=dark] .colab-df-convert:hover {\n",
              "      background-color: #434B5C;\n",
              "      box-shadow: 0px 1px 3px 1px rgba(0, 0, 0, 0.15);\n",
              "      filter: drop-shadow(0px 1px 2px rgba(0, 0, 0, 0.3));\n",
              "      fill: #FFFFFF;\n",
              "    }\n",
              "  </style>\n",
              "\n",
              "      <script>\n",
              "        const buttonEl =\n",
              "          document.querySelector('#df-98328992-5f95-4601-929c-a1e492a4d651 button.colab-df-convert');\n",
              "        buttonEl.style.display =\n",
              "          google.colab.kernel.accessAllowed ? 'block' : 'none';\n",
              "\n",
              "        async function convertToInteractive(key) {\n",
              "          const element = document.querySelector('#df-98328992-5f95-4601-929c-a1e492a4d651');\n",
              "          const dataTable =\n",
              "            await google.colab.kernel.invokeFunction('convertToInteractive',\n",
              "                                                     [key], {});\n",
              "          if (!dataTable) return;\n",
              "\n",
              "          const docLinkHtml = 'Like what you see? Visit the ' +\n",
              "            '<a target=\"_blank\" href=https://colab.research.google.com/notebooks/data_table.ipynb>data table notebook</a>'\n",
              "            + ' to learn more about interactive tables.';\n",
              "          element.innerHTML = '';\n",
              "          dataTable['output_type'] = 'display_data';\n",
              "          await google.colab.output.renderOutput(dataTable, element);\n",
              "          const docLink = document.createElement('div');\n",
              "          docLink.innerHTML = docLinkHtml;\n",
              "          element.appendChild(docLink);\n",
              "        }\n",
              "      </script>\n",
              "    </div>\n",
              "  </div>\n",
              "  "
            ]
          },
          "metadata": {},
          "execution_count": 32
        }
      ]
    },
    {
      "cell_type": "code",
      "source": [
        "Agrupando_avaliação = Agrupamento.round(1) #Apenas arredondando para uma casa decimal"
      ],
      "metadata": {
        "id": "hAX4maYynKk2"
      },
      "execution_count": null,
      "outputs": []
    },
    {
      "cell_type": "code",
      "source": [
        "Agrupando_avaliação"
      ],
      "metadata": {
        "id": "E0bxP7O9ns-4",
        "colab": {
          "base_uri": "https://localhost:8080/",
          "height": 238
        },
        "outputId": "3a6c5a78-c995-4457-c5f3-63ffbfa0079c"
      },
      "execution_count": null,
      "outputs": [
        {
          "output_type": "execute_result",
          "data": {
            "text/plain": [
              "         Linha de produto  Avaliação\n",
              "0  Acessórios eletrônicos       61.4\n",
              "1     Acessórios fashions       64.8\n",
              "2   Casa e estilo de vida       63.0\n",
              "3        Comida e bebidas       63.2\n",
              "4      Esportes e viagens       60.4\n",
              "5          Saúde e beleza       62.3"
            ],
            "text/html": [
              "\n",
              "  <div id=\"df-089e27db-7a02-4de5-aeb8-19fb27ba004c\">\n",
              "    <div class=\"colab-df-container\">\n",
              "      <div>\n",
              "<style scoped>\n",
              "    .dataframe tbody tr th:only-of-type {\n",
              "        vertical-align: middle;\n",
              "    }\n",
              "\n",
              "    .dataframe tbody tr th {\n",
              "        vertical-align: top;\n",
              "    }\n",
              "\n",
              "    .dataframe thead th {\n",
              "        text-align: right;\n",
              "    }\n",
              "</style>\n",
              "<table border=\"1\" class=\"dataframe\">\n",
              "  <thead>\n",
              "    <tr style=\"text-align: right;\">\n",
              "      <th></th>\n",
              "      <th>Linha de produto</th>\n",
              "      <th>Avaliação</th>\n",
              "    </tr>\n",
              "  </thead>\n",
              "  <tbody>\n",
              "    <tr>\n",
              "      <th>0</th>\n",
              "      <td>Acessórios eletrônicos</td>\n",
              "      <td>61.4</td>\n",
              "    </tr>\n",
              "    <tr>\n",
              "      <th>1</th>\n",
              "      <td>Acessórios fashions</td>\n",
              "      <td>64.8</td>\n",
              "    </tr>\n",
              "    <tr>\n",
              "      <th>2</th>\n",
              "      <td>Casa e estilo de vida</td>\n",
              "      <td>63.0</td>\n",
              "    </tr>\n",
              "    <tr>\n",
              "      <th>3</th>\n",
              "      <td>Comida e bebidas</td>\n",
              "      <td>63.2</td>\n",
              "    </tr>\n",
              "    <tr>\n",
              "      <th>4</th>\n",
              "      <td>Esportes e viagens</td>\n",
              "      <td>60.4</td>\n",
              "    </tr>\n",
              "    <tr>\n",
              "      <th>5</th>\n",
              "      <td>Saúde e beleza</td>\n",
              "      <td>62.3</td>\n",
              "    </tr>\n",
              "  </tbody>\n",
              "</table>\n",
              "</div>\n",
              "      <button class=\"colab-df-convert\" onclick=\"convertToInteractive('df-089e27db-7a02-4de5-aeb8-19fb27ba004c')\"\n",
              "              title=\"Convert this dataframe to an interactive table.\"\n",
              "              style=\"display:none;\">\n",
              "        \n",
              "  <svg xmlns=\"http://www.w3.org/2000/svg\" height=\"24px\"viewBox=\"0 0 24 24\"\n",
              "       width=\"24px\">\n",
              "    <path d=\"M0 0h24v24H0V0z\" fill=\"none\"/>\n",
              "    <path d=\"M18.56 5.44l.94 2.06.94-2.06 2.06-.94-2.06-.94-.94-2.06-.94 2.06-2.06.94zm-11 1L8.5 8.5l.94-2.06 2.06-.94-2.06-.94L8.5 2.5l-.94 2.06-2.06.94zm10 10l.94 2.06.94-2.06 2.06-.94-2.06-.94-.94-2.06-.94 2.06-2.06.94z\"/><path d=\"M17.41 7.96l-1.37-1.37c-.4-.4-.92-.59-1.43-.59-.52 0-1.04.2-1.43.59L10.3 9.45l-7.72 7.72c-.78.78-.78 2.05 0 2.83L4 21.41c.39.39.9.59 1.41.59.51 0 1.02-.2 1.41-.59l7.78-7.78 2.81-2.81c.8-.78.8-2.07 0-2.86zM5.41 20L4 18.59l7.72-7.72 1.47 1.35L5.41 20z\"/>\n",
              "  </svg>\n",
              "      </button>\n",
              "      \n",
              "  <style>\n",
              "    .colab-df-container {\n",
              "      display:flex;\n",
              "      flex-wrap:wrap;\n",
              "      gap: 12px;\n",
              "    }\n",
              "\n",
              "    .colab-df-convert {\n",
              "      background-color: #E8F0FE;\n",
              "      border: none;\n",
              "      border-radius: 50%;\n",
              "      cursor: pointer;\n",
              "      display: none;\n",
              "      fill: #1967D2;\n",
              "      height: 32px;\n",
              "      padding: 0 0 0 0;\n",
              "      width: 32px;\n",
              "    }\n",
              "\n",
              "    .colab-df-convert:hover {\n",
              "      background-color: #E2EBFA;\n",
              "      box-shadow: 0px 1px 2px rgba(60, 64, 67, 0.3), 0px 1px 3px 1px rgba(60, 64, 67, 0.15);\n",
              "      fill: #174EA6;\n",
              "    }\n",
              "\n",
              "    [theme=dark] .colab-df-convert {\n",
              "      background-color: #3B4455;\n",
              "      fill: #D2E3FC;\n",
              "    }\n",
              "\n",
              "    [theme=dark] .colab-df-convert:hover {\n",
              "      background-color: #434B5C;\n",
              "      box-shadow: 0px 1px 3px 1px rgba(0, 0, 0, 0.15);\n",
              "      filter: drop-shadow(0px 1px 2px rgba(0, 0, 0, 0.3));\n",
              "      fill: #FFFFFF;\n",
              "    }\n",
              "  </style>\n",
              "\n",
              "      <script>\n",
              "        const buttonEl =\n",
              "          document.querySelector('#df-089e27db-7a02-4de5-aeb8-19fb27ba004c button.colab-df-convert');\n",
              "        buttonEl.style.display =\n",
              "          google.colab.kernel.accessAllowed ? 'block' : 'none';\n",
              "\n",
              "        async function convertToInteractive(key) {\n",
              "          const element = document.querySelector('#df-089e27db-7a02-4de5-aeb8-19fb27ba004c');\n",
              "          const dataTable =\n",
              "            await google.colab.kernel.invokeFunction('convertToInteractive',\n",
              "                                                     [key], {});\n",
              "          if (!dataTable) return;\n",
              "\n",
              "          const docLinkHtml = 'Like what you see? Visit the ' +\n",
              "            '<a target=\"_blank\" href=https://colab.research.google.com/notebooks/data_table.ipynb>data table notebook</a>'\n",
              "            + ' to learn more about interactive tables.';\n",
              "          element.innerHTML = '';\n",
              "          dataTable['output_type'] = 'display_data';\n",
              "          await google.colab.output.renderOutput(dataTable, element);\n",
              "          const docLink = document.createElement('div');\n",
              "          docLink.innerHTML = docLinkHtml;\n",
              "          element.appendChild(docLink);\n",
              "        }\n",
              "      </script>\n",
              "    </div>\n",
              "  </div>\n",
              "  "
            ]
          },
          "metadata": {},
          "execution_count": 34
        }
      ]
    },
    {
      "cell_type": "markdown",
      "source": [
        "#<font color='red'>Por que ascending está falso?</font>\n"
      ],
      "metadata": {
        "id": "8zcPYbvkN1wM"
      }
    },
    {
      "cell_type": "markdown",
      "source": [
        "> O ascending está falso para mostrar os valores na ordem decrescente do maior para o menor, se ele estivesse true mostraria os valores na ordem crescente.\n",
        "\n"
      ],
      "metadata": {
        "id": "FVvsu4iXSvSb"
      }
    },
    {
      "cell_type": "code",
      "source": [
        "Agrupando_avaliação = Agrupando_avaliação.sort_values(by = 'Avaliação', ascending = False) #Classicando valores na ordem decrescente (maior para menor)"
      ],
      "metadata": {
        "id": "1B3ETgdTnub6"
      },
      "execution_count": null,
      "outputs": []
    },
    {
      "cell_type": "code",
      "source": [
        "Agrupando_avaliação"
      ],
      "metadata": {
        "colab": {
          "base_uri": "https://localhost:8080/",
          "height": 238
        },
        "id": "rPAu-EysH0cV",
        "outputId": "e7f798a6-7d74-43ca-e7d6-f8155817bfe6"
      },
      "execution_count": null,
      "outputs": [
        {
          "output_type": "execute_result",
          "data": {
            "text/plain": [
              "         Linha de produto  Avaliação\n",
              "1     Acessórios fashions       64.8\n",
              "3        Comida e bebidas       63.2\n",
              "2   Casa e estilo de vida       63.0\n",
              "5          Saúde e beleza       62.3\n",
              "0  Acessórios eletrônicos       61.4\n",
              "4      Esportes e viagens       60.4"
            ],
            "text/html": [
              "\n",
              "  <div id=\"df-c361eb72-4a0f-4784-ba39-db3f0d62885d\">\n",
              "    <div class=\"colab-df-container\">\n",
              "      <div>\n",
              "<style scoped>\n",
              "    .dataframe tbody tr th:only-of-type {\n",
              "        vertical-align: middle;\n",
              "    }\n",
              "\n",
              "    .dataframe tbody tr th {\n",
              "        vertical-align: top;\n",
              "    }\n",
              "\n",
              "    .dataframe thead th {\n",
              "        text-align: right;\n",
              "    }\n",
              "</style>\n",
              "<table border=\"1\" class=\"dataframe\">\n",
              "  <thead>\n",
              "    <tr style=\"text-align: right;\">\n",
              "      <th></th>\n",
              "      <th>Linha de produto</th>\n",
              "      <th>Avaliação</th>\n",
              "    </tr>\n",
              "  </thead>\n",
              "  <tbody>\n",
              "    <tr>\n",
              "      <th>1</th>\n",
              "      <td>Acessórios fashions</td>\n",
              "      <td>64.8</td>\n",
              "    </tr>\n",
              "    <tr>\n",
              "      <th>3</th>\n",
              "      <td>Comida e bebidas</td>\n",
              "      <td>63.2</td>\n",
              "    </tr>\n",
              "    <tr>\n",
              "      <th>2</th>\n",
              "      <td>Casa e estilo de vida</td>\n",
              "      <td>63.0</td>\n",
              "    </tr>\n",
              "    <tr>\n",
              "      <th>5</th>\n",
              "      <td>Saúde e beleza</td>\n",
              "      <td>62.3</td>\n",
              "    </tr>\n",
              "    <tr>\n",
              "      <th>0</th>\n",
              "      <td>Acessórios eletrônicos</td>\n",
              "      <td>61.4</td>\n",
              "    </tr>\n",
              "    <tr>\n",
              "      <th>4</th>\n",
              "      <td>Esportes e viagens</td>\n",
              "      <td>60.4</td>\n",
              "    </tr>\n",
              "  </tbody>\n",
              "</table>\n",
              "</div>\n",
              "      <button class=\"colab-df-convert\" onclick=\"convertToInteractive('df-c361eb72-4a0f-4784-ba39-db3f0d62885d')\"\n",
              "              title=\"Convert this dataframe to an interactive table.\"\n",
              "              style=\"display:none;\">\n",
              "        \n",
              "  <svg xmlns=\"http://www.w3.org/2000/svg\" height=\"24px\"viewBox=\"0 0 24 24\"\n",
              "       width=\"24px\">\n",
              "    <path d=\"M0 0h24v24H0V0z\" fill=\"none\"/>\n",
              "    <path d=\"M18.56 5.44l.94 2.06.94-2.06 2.06-.94-2.06-.94-.94-2.06-.94 2.06-2.06.94zm-11 1L8.5 8.5l.94-2.06 2.06-.94-2.06-.94L8.5 2.5l-.94 2.06-2.06.94zm10 10l.94 2.06.94-2.06 2.06-.94-2.06-.94-.94-2.06-.94 2.06-2.06.94z\"/><path d=\"M17.41 7.96l-1.37-1.37c-.4-.4-.92-.59-1.43-.59-.52 0-1.04.2-1.43.59L10.3 9.45l-7.72 7.72c-.78.78-.78 2.05 0 2.83L4 21.41c.39.39.9.59 1.41.59.51 0 1.02-.2 1.41-.59l7.78-7.78 2.81-2.81c.8-.78.8-2.07 0-2.86zM5.41 20L4 18.59l7.72-7.72 1.47 1.35L5.41 20z\"/>\n",
              "  </svg>\n",
              "      </button>\n",
              "      \n",
              "  <style>\n",
              "    .colab-df-container {\n",
              "      display:flex;\n",
              "      flex-wrap:wrap;\n",
              "      gap: 12px;\n",
              "    }\n",
              "\n",
              "    .colab-df-convert {\n",
              "      background-color: #E8F0FE;\n",
              "      border: none;\n",
              "      border-radius: 50%;\n",
              "      cursor: pointer;\n",
              "      display: none;\n",
              "      fill: #1967D2;\n",
              "      height: 32px;\n",
              "      padding: 0 0 0 0;\n",
              "      width: 32px;\n",
              "    }\n",
              "\n",
              "    .colab-df-convert:hover {\n",
              "      background-color: #E2EBFA;\n",
              "      box-shadow: 0px 1px 2px rgba(60, 64, 67, 0.3), 0px 1px 3px 1px rgba(60, 64, 67, 0.15);\n",
              "      fill: #174EA6;\n",
              "    }\n",
              "\n",
              "    [theme=dark] .colab-df-convert {\n",
              "      background-color: #3B4455;\n",
              "      fill: #D2E3FC;\n",
              "    }\n",
              "\n",
              "    [theme=dark] .colab-df-convert:hover {\n",
              "      background-color: #434B5C;\n",
              "      box-shadow: 0px 1px 3px 1px rgba(0, 0, 0, 0.15);\n",
              "      filter: drop-shadow(0px 1px 2px rgba(0, 0, 0, 0.3));\n",
              "      fill: #FFFFFF;\n",
              "    }\n",
              "  </style>\n",
              "\n",
              "      <script>\n",
              "        const buttonEl =\n",
              "          document.querySelector('#df-c361eb72-4a0f-4784-ba39-db3f0d62885d button.colab-df-convert');\n",
              "        buttonEl.style.display =\n",
              "          google.colab.kernel.accessAllowed ? 'block' : 'none';\n",
              "\n",
              "        async function convertToInteractive(key) {\n",
              "          const element = document.querySelector('#df-c361eb72-4a0f-4784-ba39-db3f0d62885d');\n",
              "          const dataTable =\n",
              "            await google.colab.kernel.invokeFunction('convertToInteractive',\n",
              "                                                     [key], {});\n",
              "          if (!dataTable) return;\n",
              "\n",
              "          const docLinkHtml = 'Like what you see? Visit the ' +\n",
              "            '<a target=\"_blank\" href=https://colab.research.google.com/notebooks/data_table.ipynb>data table notebook</a>'\n",
              "            + ' to learn more about interactive tables.';\n",
              "          element.innerHTML = '';\n",
              "          dataTable['output_type'] = 'display_data';\n",
              "          await google.colab.output.renderOutput(dataTable, element);\n",
              "          const docLink = document.createElement('div');\n",
              "          docLink.innerHTML = docLinkHtml;\n",
              "          element.appendChild(docLink);\n",
              "        }\n",
              "      </script>\n",
              "    </div>\n",
              "  </div>\n",
              "  "
            ]
          },
          "metadata": {},
          "execution_count": 36
        }
      ]
    },
    {
      "cell_type": "code",
      "source": [
        "Figura = sns.color_palette('gnuplot') #Apenas selecionado as cores do gráfico\n",
        "Figura.reverse() #Apenas invertendo a sequência de cores"
      ],
      "metadata": {
        "id": "-EpFpSOSoA_D"
      },
      "execution_count": null,
      "outputs": []
    },
    {
      "cell_type": "markdown",
      "source": [
        "#<font color='red'>Explique de maneira resumida o que foi feito:</font>\n"
      ],
      "metadata": {
        "id": "MYKD3sNRIdWI"
      }
    },
    {
      "cell_type": "markdown",
      "source": [
        ">Foi criado um grafico de barras e configurado seu tamanho e cores para transformar os valores de Agrupando_avaliação em grafico"
      ],
      "metadata": {
        "id": "9JkPPMvhT2H0"
      }
    },
    {
      "cell_type": "code",
      "source": [
        "ax = sns.barplot(y = 'Linha de produto', x = 'Avaliação', data = Agrupando_avaliação, palette = Figura)\n",
        "plt.rcParams['figure.figsize'] = (18, 10) #Aumentar o tamanho da Figura\n",
        "ax.set_xlabel('Avaliação dos Clientes')\n",
        "plt.rcParams.update({\"font.size\": 18}) #Aumentar a letra\n",
        "plt.savefig('Linha_x_avaliacao.png', dpi=300)"
      ],
      "metadata": {
        "colab": {
          "base_uri": "https://localhost:8080/",
          "height": 279
        },
        "id": "ePlVIst1oKx0",
        "outputId": "a4efb729-414a-40c8-d9e9-da3f9292ed66"
      },
      "execution_count": null,
      "outputs": [
        {
          "output_type": "display_data",
          "data": {
            "text/plain": [
              "<Figure size 432x288 with 1 Axes>"
            ],
            "image/png": "[encoded data removed]"
          },
          "metadata": {
            "needs_background": "light"
          }
        }
      ]
    },
    {
      "cell_type": "markdown",
      "source": [
        "#<font color='red'>Qual é a linha de produto mais bem avaliada? Levante hipótese sobre esse resultado?</font>\n"
      ],
      "metadata": {
        "id": "lRacGULmObuS"
      }
    },
    {
      "cell_type": "markdown",
      "source": [
        "> a linha de produto mais bem avalidada é a Acessórios fashions, um dos motivos que podem levar isso é a qualidade dos Acessórios de fashuins são amis custo beneficio que as outras linhas de produtos."
      ],
      "metadata": {
        "id": "Xc8r1b71T8vD"
      }
    },
    {
      "cell_type": "markdown",
      "source": [
        "# **2 Análise**"
      ],
      "metadata": {
        "id": "xieXmEooOsHo"
      }
    },
    {
      "cell_type": "markdown",
      "source": [
        "#<font color='red'>O faz a função abaixo?</font>\n"
      ],
      "metadata": {
        "id": "biyZDAzMKqgL"
      }
    },
    {
      "cell_type": "markdown",
      "source": [
        ">Ela calcula a media da coluna total para cada linha da coluna linha de produto"
      ],
      "metadata": {
        "id": "8SPtVZVkU80N"
      }
    },
    {
      "cell_type": "code",
      "source": [
        "agrupando_Produto_Total = df.groupby('Linha de produto')['Total'].mean().reset_index(drop=False) # Agrupando a coluna linha de produto e Total"
      ],
      "metadata": {
        "id": "HRcT6z_8oft4"
      },
      "execution_count": null,
      "outputs": []
    },
    {
      "cell_type": "code",
      "source": [
        "agrupando_Produto_Total"
      ],
      "metadata": {
        "id": "gFZkgEAyLTLj",
        "colab": {
          "base_uri": "https://localhost:8080/",
          "height": 238
        },
        "outputId": "431623df-33e9-431d-870e-8bd56dfc6b1f"
      },
      "execution_count": null,
      "outputs": [
        {
          "output_type": "execute_result",
          "data": {
            "text/plain": [
              "         Linha de produto        Total\n",
              "0  Acessórios eletrônicos  4278.573529\n",
              "1     Acessórios fashions  4043.292135\n",
              "2   Casa e estilo de vida  4455.973125\n",
              "3        Comida e bebidas  3912.985345\n",
              "4      Esportes e viagens  4351.833434\n",
              "5          Saúde e beleza  4024.018421"
            ],
            "text/html": [
              "\n",
              "  <div id=\"df-e411daef-77f4-440f-8738-02e83aca0310\">\n",
              "    <div class=\"colab-df-container\">\n",
              "      <div>\n",
              "<style scoped>\n",
              "    .dataframe tbody tr th:only-of-type {\n",
              "        vertical-align: middle;\n",
              "    }\n",
              "\n",
              "    .dataframe tbody tr th {\n",
              "        vertical-align: top;\n",
              "    }\n",
              "\n",
              "    .dataframe thead th {\n",
              "        text-align: right;\n",
              "    }\n",
              "</style>\n",
              "<table border=\"1\" class=\"dataframe\">\n",
              "  <thead>\n",
              "    <tr style=\"text-align: right;\">\n",
              "      <th></th>\n",
              "      <th>Linha de produto</th>\n",
              "      <th>Total</th>\n",
              "    </tr>\n",
              "  </thead>\n",
              "  <tbody>\n",
              "    <tr>\n",
              "      <th>0</th>\n",
              "      <td>Acessórios eletrônicos</td>\n",
              "      <td>4278.573529</td>\n",
              "    </tr>\n",
              "    <tr>\n",
              "      <th>1</th>\n",
              "      <td>Acessórios fashions</td>\n",
              "      <td>4043.292135</td>\n",
              "    </tr>\n",
              "    <tr>\n",
              "      <th>2</th>\n",
              "      <td>Casa e estilo de vida</td>\n",
              "      <td>4455.973125</td>\n",
              "    </tr>\n",
              "    <tr>\n",
              "      <th>3</th>\n",
              "      <td>Comida e bebidas</td>\n",
              "      <td>3912.985345</td>\n",
              "    </tr>\n",
              "    <tr>\n",
              "      <th>4</th>\n",
              "      <td>Esportes e viagens</td>\n",
              "      <td>4351.833434</td>\n",
              "    </tr>\n",
              "    <tr>\n",
              "      <th>5</th>\n",
              "      <td>Saúde e beleza</td>\n",
              "      <td>4024.018421</td>\n",
              "    </tr>\n",
              "  </tbody>\n",
              "</table>\n",
              "</div>\n",
              "      <button class=\"colab-df-convert\" onclick=\"convertToInteractive('df-e411daef-77f4-440f-8738-02e83aca0310')\"\n",
              "              title=\"Convert this dataframe to an interactive table.\"\n",
              "              style=\"display:none;\">\n",
              "        \n",
              "  <svg xmlns=\"http://www.w3.org/2000/svg\" height=\"24px\"viewBox=\"0 0 24 24\"\n",
              "       width=\"24px\">\n",
              "    <path d=\"M0 0h24v24H0V0z\" fill=\"none\"/>\n",
              "    <path d=\"M18.56 5.44l.94 2.06.94-2.06 2.06-.94-2.06-.94-.94-2.06-.94 2.06-2.06.94zm-11 1L8.5 8.5l.94-2.06 2.06-.94-2.06-.94L8.5 2.5l-.94 2.06-2.06.94zm10 10l.94 2.06.94-2.06 2.06-.94-2.06-.94-.94-2.06-.94 2.06-2.06.94z\"/><path d=\"M17.41 7.96l-1.37-1.37c-.4-.4-.92-.59-1.43-.59-.52 0-1.04.2-1.43.59L10.3 9.45l-7.72 7.72c-.78.78-.78 2.05 0 2.83L4 21.41c.39.39.9.59 1.41.59.51 0 1.02-.2 1.41-.59l7.78-7.78 2.81-2.81c.8-.78.8-2.07 0-2.86zM5.41 20L4 18.59l7.72-7.72 1.47 1.35L5.41 20z\"/>\n",
              "  </svg>\n",
              "      </button>\n",
              "      \n",
              "  <style>\n",
              "    .colab-df-container {\n",
              "      display:flex;\n",
              "      flex-wrap:wrap;\n",
              "      gap: 12px;\n",
              "    }\n",
              "\n",
              "    .colab-df-convert {\n",
              "      background-color: #E8F0FE;\n",
              "      border: none;\n",
              "      border-radius: 50%;\n",
              "      cursor: pointer;\n",
              "      display: none;\n",
              "      fill: #1967D2;\n",
              "      height: 32px;\n",
              "      padding: 0 0 0 0;\n",
              "      width: 32px;\n",
              "    }\n",
              "\n",
              "    .colab-df-convert:hover {\n",
              "      background-color: #E2EBFA;\n",
              "      box-shadow: 0px 1px 2px rgba(60, 64, 67, 0.3), 0px 1px 3px 1px rgba(60, 64, 67, 0.15);\n",
              "      fill: #174EA6;\n",
              "    }\n",
              "\n",
              "    [theme=dark] .colab-df-convert {\n",
              "      background-color: #3B4455;\n",
              "      fill: #D2E3FC;\n",
              "    }\n",
              "\n",
              "    [theme=dark] .colab-df-convert:hover {\n",
              "      background-color: #434B5C;\n",
              "      box-shadow: 0px 1px 3px 1px rgba(0, 0, 0, 0.15);\n",
              "      filter: drop-shadow(0px 1px 2px rgba(0, 0, 0, 0.3));\n",
              "      fill: #FFFFFF;\n",
              "    }\n",
              "  </style>\n",
              "\n",
              "      <script>\n",
              "        const buttonEl =\n",
              "          document.querySelector('#df-e411daef-77f4-440f-8738-02e83aca0310 button.colab-df-convert');\n",
              "        buttonEl.style.display =\n",
              "          google.colab.kernel.accessAllowed ? 'block' : 'none';\n",
              "\n",
              "        async function convertToInteractive(key) {\n",
              "          const element = document.querySelector('#df-e411daef-77f4-440f-8738-02e83aca0310');\n",
              "          const dataTable =\n",
              "            await google.colab.kernel.invokeFunction('convertToInteractive',\n",
              "                                                     [key], {});\n",
              "          if (!dataTable) return;\n",
              "\n",
              "          const docLinkHtml = 'Like what you see? Visit the ' +\n",
              "            '<a target=\"_blank\" href=https://colab.research.google.com/notebooks/data_table.ipynb>data table notebook</a>'\n",
              "            + ' to learn more about interactive tables.';\n",
              "          element.innerHTML = '';\n",
              "          dataTable['output_type'] = 'display_data';\n",
              "          await google.colab.output.renderOutput(dataTable, element);\n",
              "          const docLink = document.createElement('div');\n",
              "          docLink.innerHTML = docLinkHtml;\n",
              "          element.appendChild(docLink);\n",
              "        }\n",
              "      </script>\n",
              "    </div>\n",
              "  </div>\n",
              "  "
            ]
          },
          "metadata": {},
          "execution_count": 40
        }
      ]
    },
    {
      "cell_type": "code",
      "source": [
        "agrupando_Produto_Total = agrupando_Produto_Total.round(1) # arredondamento para uma casa decimal"
      ],
      "metadata": {
        "id": "bwBLURP1LiTJ"
      },
      "execution_count": null,
      "outputs": []
    },
    {
      "cell_type": "markdown",
      "source": [
        "#<font color='red'>Mude o gráfico abaixo para barras</font>\n"
      ],
      "metadata": {
        "id": "xrXoN-Kl4peQ"
      }
    },
    {
      "cell_type": "markdown",
      "source": [
        ">fig, ax = plt.subplots(figsize=(16,12))\n",
        "ax = sns.scatterplot(x = 'Linha de produto', y = 'Total', data = agrupando_Produto_Total, s = 75) # tipo do gráfico scatter com tamanho dos pontos 75\n",
        "plt.axhline(y=np.nanmean(df.Total), color='red', linestyle='--', linewidth=3, label='Média') #Média linha vermelha\n",
        "plt.xticks(rotation = 45) # Colocar a legenda em 45 graus.\n",
        ">#Para transformar esse cogio em um grafico de barras foi necessario alterar o codigo sns.scatterplot para sns.barplot e alterar o s = 75 para palette = Figura"
      ],
      "metadata": {
        "id": "O3fZmbHoWWsK"
      }
    },
    {
      "cell_type": "code",
      "source": [
        "fig, ax = plt.subplots(figsize=(16,12))\n",
        "ax = sns.barplot(x = 'Linha de produto', y = 'Total', data = agrupando_Produto_Total, palette = Figura) # tipo do gráfico scatter com tamanho dos pontos 75\n",
        "plt.axhline(y=np.nanmean(df.Total), color='red', linestyle='--', linewidth=3, label='Média') #Média linha vermelha\n",
        "plt.xticks(rotation = 45) # Colocar a legenda em 45 graus"
      ],
      "metadata": {
        "colab": {
          "base_uri": "https://localhost:8080/",
          "height": 989
        },
        "id": "iPTc2S0_MI0m",
        "outputId": "b5f46776-c743-42b3-e019-5fa4264ceea4"
      },
      "execution_count": null,
      "outputs": [
        {
          "output_type": "execute_result",
          "data": {
            "text/plain": [
              "(array([0, 1, 2, 3, 4, 5]),\n",
              " [Text(0, 0, 'Acessórios eletrônicos'),\n",
              "  Text(1, 0, 'Acessórios fashions'),\n",
              "  Text(2, 0, 'Casa e estilo de vida'),\n",
              "  Text(3, 0, 'Comida e bebidas'),\n",
              "  Text(4, 0, 'Esportes e viagens'),\n",
              "  Text(5, 0, 'Saúde e beleza')])"
            ]
          },
          "metadata": {},
          "execution_count": 42
        },
        {
          "output_type": "display_data",
          "data": {
            "text/plain": [
              "<Figure size 1152x864 with 1 Axes>"
            ],
            "image/png": "[encoded data removed]"
          },
          "metadata": {
            "needs_background": "light"
          }
        }
      ]
    },
    {
      "cell_type": "markdown",
      "source": [
        "#<font color='red'>Explique o gráfico acima</font>\n"
      ],
      "metadata": {
        "id": "CVCmH-yc41gq"
      }
    },
    {
      "cell_type": "markdown",
      "source": [
        ">O grafico mostra a media dos valorees da coluna total, para cada linha de produto, com a linha vermelha mostrando a media dos valores da coluna total"
      ],
      "metadata": {
        "id": "rpmSEoi7Xrbc"
      }
    },
    {
      "cell_type": "markdown",
      "source": [
        "# **3 Análise**"
      ],
      "metadata": {
        "id": "GWSn0N5z5EOY"
      }
    },
    {
      "cell_type": "markdown",
      "source": [
        "#<font color='red'> Qual é a filial que tem a maior média de vendas (valor bruto)</font>"
      ],
      "metadata": {
        "id": "n1PwjaGJQHaM"
      }
    },
    {
      "cell_type": "markdown",
      "source": [
        ">Casa e estilo de vida"
      ],
      "metadata": {
        "id": "4bN53GJHZUii"
      }
    },
    {
      "cell_type": "code",
      "source": [
        "df.head()"
      ],
      "metadata": {
        "colab": {
          "base_uri": "https://localhost:8080/",
          "height": 206
        },
        "id": "J_aLZWomM2fs",
        "outputId": "d29bf7c3-dfed-43ec-d496-d68412e6ec8a"
      },
      "execution_count": null,
      "outputs": [
        {
          "output_type": "execute_result",
          "data": {
            "text/plain": [
              "  Filial Tipo de Cliente Gênero        Linha de produto  Preço unitário  \\\n",
              "0      A       Associado      F          Saúde e beleza         1120.35   \n",
              "1      C          Normal      F  Acessórios eletrônicos          229.20   \n",
              "2      A          Normal      M   Casa e estilo de vida          694.95   \n",
              "3      A       Associado      M          Saúde e beleza          873.30   \n",
              "4      A          Normal      M      Esportes e viagens         1294.65   \n",
              "\n",
              "   Quantidade    Total       Data Horário          Pagamento       COGS  \\\n",
              "0           7  7842.45    Janeiro   Tarde                PIX  4705.4700   \n",
              "1           5  1146.00      Março   Manhã           Dinheiro  1031.4000   \n",
              "2           7  4864.65      Março   Tarde  Cartão de Crédito  3405.2550   \n",
              "3           8  6986.40    Janeiro   Noite                PIX  4191.8400   \n",
              "4           7  9062.55  Fevereiro   Manhã                PIX  6796.9125   \n",
              "\n",
              "   Avaliação  \n",
              "0         91  \n",
              "1         96  \n",
              "2         74  \n",
              "3         84  \n",
              "4         53  "
            ],
            "text/html": [
              "\n",
              "  <div id=\"df-448f7bf9-d24b-434a-a2ac-f3f953626b0a\">\n",
              "    <div class=\"colab-df-container\">\n",
              "      <div>\n",
              "<style scoped>\n",
              "    .dataframe tbody tr th:only-of-type {\n",
              "        vertical-align: middle;\n",
              "    }\n",
              "\n",
              "    .dataframe tbody tr th {\n",
              "        vertical-align: top;\n",
              "    }\n",
              "\n",
              "    .dataframe thead th {\n",
              "        text-align: right;\n",
              "    }\n",
              "</style>\n",
              "<table border=\"1\" class=\"dataframe\">\n",
              "  <thead>\n",
              "    <tr style=\"text-align: right;\">\n",
              "      <th></th>\n",
              "      <th>Filial</th>\n",
              "      <th>Tipo de Cliente</th>\n",
              "      <th>Gênero</th>\n",
              "      <th>Linha de produto</th>\n",
              "      <th>Preço unitário</th>\n",
              "      <th>Quantidade</th>\n",
              "      <th>Total</th>\n",
              "      <th>Data</th>\n",
              "      <th>Horário</th>\n",
              "      <th>Pagamento</th>\n",
              "      <th>COGS</th>\n",
              "      <th>Avaliação</th>\n",
              "    </tr>\n",
              "  </thead>\n",
              "  <tbody>\n",
              "    <tr>\n",
              "      <th>0</th>\n",
              "      <td>A</td>\n",
              "      <td>Associado</td>\n",
              "      <td>F</td>\n",
              "      <td>Saúde e beleza</td>\n",
              "      <td>1120.35</td>\n",
              "      <td>7</td>\n",
              "      <td>7842.45</td>\n",
              "      <td>Janeiro</td>\n",
              "      <td>Tarde</td>\n",
              "      <td>PIX</td>\n",
              "      <td>4705.4700</td>\n",
              "      <td>91</td>\n",
              "    </tr>\n",
              "    <tr>\n",
              "      <th>1</th>\n",
              "      <td>C</td>\n",
              "      <td>Normal</td>\n",
              "      <td>F</td>\n",
              "      <td>Acessórios eletrônicos</td>\n",
              "      <td>229.20</td>\n",
              "      <td>5</td>\n",
              "      <td>1146.00</td>\n",
              "      <td>Março</td>\n",
              "      <td>Manhã</td>\n",
              "      <td>Dinheiro</td>\n",
              "      <td>1031.4000</td>\n",
              "      <td>96</td>\n",
              "    </tr>\n",
              "    <tr>\n",
              "      <th>2</th>\n",
              "      <td>A</td>\n",
              "      <td>Normal</td>\n",
              "      <td>M</td>\n",
              "      <td>Casa e estilo de vida</td>\n",
              "      <td>694.95</td>\n",
              "      <td>7</td>\n",
              "      <td>4864.65</td>\n",
              "      <td>Março</td>\n",
              "      <td>Tarde</td>\n",
              "      <td>Cartão de Crédito</td>\n",
              "      <td>3405.2550</td>\n",
              "      <td>74</td>\n",
              "    </tr>\n",
              "    <tr>\n",
              "      <th>3</th>\n",
              "      <td>A</td>\n",
              "      <td>Associado</td>\n",
              "      <td>M</td>\n",
              "      <td>Saúde e beleza</td>\n",
              "      <td>873.30</td>\n",
              "      <td>8</td>\n",
              "      <td>6986.40</td>\n",
              "      <td>Janeiro</td>\n",
              "      <td>Noite</td>\n",
              "      <td>PIX</td>\n",
              "      <td>4191.8400</td>\n",
              "      <td>84</td>\n",
              "    </tr>\n",
              "    <tr>\n",
              "      <th>4</th>\n",
              "      <td>A</td>\n",
              "      <td>Normal</td>\n",
              "      <td>M</td>\n",
              "      <td>Esportes e viagens</td>\n",
              "      <td>1294.65</td>\n",
              "      <td>7</td>\n",
              "      <td>9062.55</td>\n",
              "      <td>Fevereiro</td>\n",
              "      <td>Manhã</td>\n",
              "      <td>PIX</td>\n",
              "      <td>6796.9125</td>\n",
              "      <td>53</td>\n",
              "    </tr>\n",
              "  </tbody>\n",
              "</table>\n",
              "</div>\n",
              "      <button class=\"colab-df-convert\" onclick=\"convertToInteractive('df-448f7bf9-d24b-434a-a2ac-f3f953626b0a')\"\n",
              "              title=\"Convert this dataframe to an interactive table.\"\n",
              "              style=\"display:none;\">\n",
              "        \n",
              "  <svg xmlns=\"http://www.w3.org/2000/svg\" height=\"24px\"viewBox=\"0 0 24 24\"\n",
              "       width=\"24px\">\n",
              "    <path d=\"M0 0h24v24H0V0z\" fill=\"none\"/>\n",
              "    <path d=\"M18.56 5.44l.94 2.06.94-2.06 2.06-.94-2.06-.94-.94-2.06-.94 2.06-2.06.94zm-11 1L8.5 8.5l.94-2.06 2.06-.94-2.06-.94L8.5 2.5l-.94 2.06-2.06.94zm10 10l.94 2.06.94-2.06 2.06-.94-2.06-.94-.94-2.06-.94 2.06-2.06.94z\"/><path d=\"M17.41 7.96l-1.37-1.37c-.4-.4-.92-.59-1.43-.59-.52 0-1.04.2-1.43.59L10.3 9.45l-7.72 7.72c-.78.78-.78 2.05 0 2.83L4 21.41c.39.39.9.59 1.41.59.51 0 1.02-.2 1.41-.59l7.78-7.78 2.81-2.81c.8-.78.8-2.07 0-2.86zM5.41 20L4 18.59l7.72-7.72 1.47 1.35L5.41 20z\"/>\n",
              "  </svg>\n",
              "      </button>\n",
              "      \n",
              "  <style>\n",
              "    .colab-df-container {\n",
              "      display:flex;\n",
              "      flex-wrap:wrap;\n",
              "      gap: 12px;\n",
              "    }\n",
              "\n",
              "    .colab-df-convert {\n",
              "      background-color: #E8F0FE;\n",
              "      border: none;\n",
              "      border-radius: 50%;\n",
              "      cursor: pointer;\n",
              "      display: none;\n",
              "      fill: #1967D2;\n",
              "      height: 32px;\n",
              "      padding: 0 0 0 0;\n",
              "      width: 32px;\n",
              "    }\n",
              "\n",
              "    .colab-df-convert:hover {\n",
              "      background-color: #E2EBFA;\n",
              "      box-shadow: 0px 1px 2px rgba(60, 64, 67, 0.3), 0px 1px 3px 1px rgba(60, 64, 67, 0.15);\n",
              "      fill: #174EA6;\n",
              "    }\n",
              "\n",
              "    [theme=dark] .colab-df-convert {\n",
              "      background-color: #3B4455;\n",
              "      fill: #D2E3FC;\n",
              "    }\n",
              "\n",
              "    [theme=dark] .colab-df-convert:hover {\n",
              "      background-color: #434B5C;\n",
              "      box-shadow: 0px 1px 3px 1px rgba(0, 0, 0, 0.15);\n",
              "      filter: drop-shadow(0px 1px 2px rgba(0, 0, 0, 0.3));\n",
              "      fill: #FFFFFF;\n",
              "    }\n",
              "  </style>\n",
              "\n",
              "      <script>\n",
              "        const buttonEl =\n",
              "          document.querySelector('#df-448f7bf9-d24b-434a-a2ac-f3f953626b0a button.colab-df-convert');\n",
              "        buttonEl.style.display =\n",
              "          google.colab.kernel.accessAllowed ? 'block' : 'none';\n",
              "\n",
              "        async function convertToInteractive(key) {\n",
              "          const element = document.querySelector('#df-448f7bf9-d24b-434a-a2ac-f3f953626b0a');\n",
              "          const dataTable =\n",
              "            await google.colab.kernel.invokeFunction('convertToInteractive',\n",
              "                                                     [key], {});\n",
              "          if (!dataTable) return;\n",
              "\n",
              "          const docLinkHtml = 'Like what you see? Visit the ' +\n",
              "            '<a target=\"_blank\" href=https://colab.research.google.com/notebooks/data_table.ipynb>data table notebook</a>'\n",
              "            + ' to learn more about interactive tables.';\n",
              "          element.innerHTML = '';\n",
              "          dataTable['output_type'] = 'display_data';\n",
              "          await google.colab.output.renderOutput(dataTable, element);\n",
              "          const docLink = document.createElement('div');\n",
              "          docLink.innerHTML = docLinkHtml;\n",
              "          element.appendChild(docLink);\n",
              "        }\n",
              "      </script>\n",
              "    </div>\n",
              "  </div>\n",
              "  "
            ]
          },
          "metadata": {},
          "execution_count": 43
        }
      ]
    },
    {
      "cell_type": "markdown",
      "source": [
        "#<font color='red'>Explique a função abaixo</font>\n"
      ],
      "metadata": {
        "id": "12ryjrVM5LXV"
      }
    },
    {
      "cell_type": "markdown",
      "source": [
        ">Ela calcula a media da coluna total para cada linha da coluna Filial"
      ],
      "metadata": {
        "id": "wE_yjoYAZi1D"
      }
    },
    {
      "cell_type": "code",
      "source": [
        "agrupando_Filial_Total = df.groupby('Filial')['Total'].mean().reset_index(drop=False) "
      ],
      "metadata": {
        "id": "N9yrrSg-QwRJ"
      },
      "execution_count": null,
      "outputs": []
    },
    {
      "cell_type": "code",
      "source": [
        "agrupando_Filial_Total "
      ],
      "metadata": {
        "colab": {
          "base_uri": "https://localhost:8080/",
          "height": 143
        },
        "id": "2yC2eClxRGC-",
        "outputId": "47bbe9d6-3b54-43f9-8910-6e8ea9dd5211"
      },
      "execution_count": null,
      "outputs": [
        {
          "output_type": "execute_result",
          "data": {
            "text/plain": [
              "  Filial        Total\n",
              "0      A  4110.275294\n",
              "1      B  4179.079066\n",
              "2      C  4237.762043"
            ],
            "text/html": [
              "\n",
              "  <div id=\"df-13c664a6-9a1a-4b80-9c20-cf7cc6831e28\">\n",
              "    <div class=\"colab-df-container\">\n",
              "      <div>\n",
              "<style scoped>\n",
              "    .dataframe tbody tr th:only-of-type {\n",
              "        vertical-align: middle;\n",
              "    }\n",
              "\n",
              "    .dataframe tbody tr th {\n",
              "        vertical-align: top;\n",
              "    }\n",
              "\n",
              "    .dataframe thead th {\n",
              "        text-align: right;\n",
              "    }\n",
              "</style>\n",
              "<table border=\"1\" class=\"dataframe\">\n",
              "  <thead>\n",
              "    <tr style=\"text-align: right;\">\n",
              "      <th></th>\n",
              "      <th>Filial</th>\n",
              "      <th>Total</th>\n",
              "    </tr>\n",
              "  </thead>\n",
              "  <tbody>\n",
              "    <tr>\n",
              "      <th>0</th>\n",
              "      <td>A</td>\n",
              "      <td>4110.275294</td>\n",
              "    </tr>\n",
              "    <tr>\n",
              "      <th>1</th>\n",
              "      <td>B</td>\n",
              "      <td>4179.079066</td>\n",
              "    </tr>\n",
              "    <tr>\n",
              "      <th>2</th>\n",
              "      <td>C</td>\n",
              "      <td>4237.762043</td>\n",
              "    </tr>\n",
              "  </tbody>\n",
              "</table>\n",
              "</div>\n",
              "      <button class=\"colab-df-convert\" onclick=\"convertToInteractive('df-13c664a6-9a1a-4b80-9c20-cf7cc6831e28')\"\n",
              "              title=\"Convert this dataframe to an interactive table.\"\n",
              "              style=\"display:none;\">\n",
              "        \n",
              "  <svg xmlns=\"http://www.w3.org/2000/svg\" height=\"24px\"viewBox=\"0 0 24 24\"\n",
              "       width=\"24px\">\n",
              "    <path d=\"M0 0h24v24H0V0z\" fill=\"none\"/>\n",
              "    <path d=\"M18.56 5.44l.94 2.06.94-2.06 2.06-.94-2.06-.94-.94-2.06-.94 2.06-2.06.94zm-11 1L8.5 8.5l.94-2.06 2.06-.94-2.06-.94L8.5 2.5l-.94 2.06-2.06.94zm10 10l.94 2.06.94-2.06 2.06-.94-2.06-.94-.94-2.06-.94 2.06-2.06.94z\"/><path d=\"M17.41 7.96l-1.37-1.37c-.4-.4-.92-.59-1.43-.59-.52 0-1.04.2-1.43.59L10.3 9.45l-7.72 7.72c-.78.78-.78 2.05 0 2.83L4 21.41c.39.39.9.59 1.41.59.51 0 1.02-.2 1.41-.59l7.78-7.78 2.81-2.81c.8-.78.8-2.07 0-2.86zM5.41 20L4 18.59l7.72-7.72 1.47 1.35L5.41 20z\"/>\n",
              "  </svg>\n",
              "      </button>\n",
              "      \n",
              "  <style>\n",
              "    .colab-df-container {\n",
              "      display:flex;\n",
              "      flex-wrap:wrap;\n",
              "      gap: 12px;\n",
              "    }\n",
              "\n",
              "    .colab-df-convert {\n",
              "      background-color: #E8F0FE;\n",
              "      border: none;\n",
              "      border-radius: 50%;\n",
              "      cursor: pointer;\n",
              "      display: none;\n",
              "      fill: #1967D2;\n",
              "      height: 32px;\n",
              "      padding: 0 0 0 0;\n",
              "      width: 32px;\n",
              "    }\n",
              "\n",
              "    .colab-df-convert:hover {\n",
              "      background-color: #E2EBFA;\n",
              "      box-shadow: 0px 1px 2px rgba(60, 64, 67, 0.3), 0px 1px 3px 1px rgba(60, 64, 67, 0.15);\n",
              "      fill: #174EA6;\n",
              "    }\n",
              "\n",
              "    [theme=dark] .colab-df-convert {\n",
              "      background-color: #3B4455;\n",
              "      fill: #D2E3FC;\n",
              "    }\n",
              "\n",
              "    [theme=dark] .colab-df-convert:hover {\n",
              "      background-color: #434B5C;\n",
              "      box-shadow: 0px 1px 3px 1px rgba(0, 0, 0, 0.15);\n",
              "      filter: drop-shadow(0px 1px 2px rgba(0, 0, 0, 0.3));\n",
              "      fill: #FFFFFF;\n",
              "    }\n",
              "  </style>\n",
              "\n",
              "      <script>\n",
              "        const buttonEl =\n",
              "          document.querySelector('#df-13c664a6-9a1a-4b80-9c20-cf7cc6831e28 button.colab-df-convert');\n",
              "        buttonEl.style.display =\n",
              "          google.colab.kernel.accessAllowed ? 'block' : 'none';\n",
              "\n",
              "        async function convertToInteractive(key) {\n",
              "          const element = document.querySelector('#df-13c664a6-9a1a-4b80-9c20-cf7cc6831e28');\n",
              "          const dataTable =\n",
              "            await google.colab.kernel.invokeFunction('convertToInteractive',\n",
              "                                                     [key], {});\n",
              "          if (!dataTable) return;\n",
              "\n",
              "          const docLinkHtml = 'Like what you see? Visit the ' +\n",
              "            '<a target=\"_blank\" href=https://colab.research.google.com/notebooks/data_table.ipynb>data table notebook</a>'\n",
              "            + ' to learn more about interactive tables.';\n",
              "          element.innerHTML = '';\n",
              "          dataTable['output_type'] = 'display_data';\n",
              "          await google.colab.output.renderOutput(dataTable, element);\n",
              "          const docLink = document.createElement('div');\n",
              "          docLink.innerHTML = docLinkHtml;\n",
              "          element.appendChild(docLink);\n",
              "        }\n",
              "      </script>\n",
              "    </div>\n",
              "  </div>\n",
              "  "
            ]
          },
          "metadata": {},
          "execution_count": 45
        }
      ]
    },
    {
      "cell_type": "markdown",
      "source": [
        "#<font color='red'>Mude para gráfico de barras</font>\n"
      ],
      "metadata": {
        "id": "EXZWkke75XZZ"
      }
    },
    {
      "cell_type": "markdown",
      "source": [
        "> Mesma logica usada anteriormente"
      ],
      "metadata": {
        "id": "zjGIdQiwZ08F"
      }
    },
    {
      "cell_type": "code",
      "source": [
        "fig, ax = plt.subplots(figsize=(16,12))\n",
        "ax = sns.barplot(x = 'Filial', y = 'Total', data = agrupando_Filial_Total , palette = Figura)\n",
        "plt.axhline(y=np.nanmean(df.Total), color='red', linestyle='--', linewidth=3, label='Média')\n",
        "plt.xticks(rotation = 45)"
      ],
      "metadata": {
        "colab": {
          "base_uri": "https://localhost:8080/",
          "height": 751
        },
        "id": "f1MVybV_RHos",
        "outputId": "3b95058a-3ff9-4499-b9de-1efc36bc4758"
      },
      "execution_count": null,
      "outputs": [
        {
          "output_type": "execute_result",
          "data": {
            "text/plain": [
              "(array([0, 1, 2]), [Text(0, 0, 'A'), Text(1, 0, 'B'), Text(2, 0, 'C')])"
            ]
          },
          "metadata": {},
          "execution_count": 46
        },
        {
          "output_type": "display_data",
          "data": {
            "text/plain": [
              "<Figure size 1152x864 with 1 Axes>"
            ],
            "image/png": "[encoded data removed]"
          },
          "metadata": {
            "needs_background": "light"
          }
        }
      ]
    },
    {
      "cell_type": "markdown",
      "source": [
        "#<font color='red'>Explique o gráfico acima</font>\n"
      ],
      "metadata": {
        "id": "Uuh_OrMW5c-I"
      }
    },
    {
      "cell_type": "markdown",
      "source": [
        "O grafico mostra a media dos valorees da coluna total, para cada filial, com a linha vermelha mostrando a media dos valores da coluna total"
      ],
      "metadata": {
        "id": "07uzV5fxZ86q"
      }
    },
    {
      "cell_type": "markdown",
      "source": [
        "# **4 Análise**"
      ],
      "metadata": {
        "id": "-tKwIjRD5ioa"
      }
    },
    {
      "cell_type": "markdown",
      "source": [
        "# <font color='red'>Explique o gráfico a seguir, o que significa?</font>\n"
      ],
      "metadata": {
        "id": "742CNZn7SI4v"
      }
    },
    {
      "cell_type": "markdown",
      "source": [
        "> O grafico mostra a quantidade de produtos levados da mesma linha de produto,onde maior o grafico significa que ouve mais pessoas comprando essa mesma quantidade"
      ],
      "metadata": {
        "id": "u41rJz7zaPH4"
      }
    },
    {
      "cell_type": "code",
      "source": [
        "fig, ax = plt.subplots(figsize=(16,12))\n",
        "ax = sns.boxenplot(y='Linha de produto', x = 'Quantidade', data=df) #Cálculo da distribuição da quantidade em relação a linha de produto"
      ],
      "metadata": {
        "colab": {
          "base_uri": "https://localhost:8080/",
          "height": 730
        },
        "id": "sCD7Ll-ORRFt",
        "outputId": "21721abc-a0da-4547-ec32-0f1962a83b37"
      },
      "execution_count": null,
      "outputs": [
        {
          "output_type": "display_data",
          "data": {
            "text/plain": [
              "<Figure size 1152x864 with 1 Axes>"
            ],
            "image/png": "[encoded data removed]"
          },
          "metadata": {
            "needs_background": "light"
          }
        }
      ]
    },
    {
      "cell_type": "code",
      "source": [
        "df.head()"
      ],
      "metadata": {
        "colab": {
          "base_uri": "https://localhost:8080/",
          "height": 206
        },
        "id": "09KzXFpBTkzn",
        "outputId": "236dbcdb-3300-466a-c998-963a74ea59f9"
      },
      "execution_count": null,
      "outputs": [
        {
          "output_type": "execute_result",
          "data": {
            "text/plain": [
              "  Filial Tipo de Cliente Gênero        Linha de produto  Preço unitário  \\\n",
              "0      A       Associado      F          Saúde e beleza         1120.35   \n",
              "1      C          Normal      F  Acessórios eletrônicos          229.20   \n",
              "2      A          Normal      M   Casa e estilo de vida          694.95   \n",
              "3      A       Associado      M          Saúde e beleza          873.30   \n",
              "4      A          Normal      M      Esportes e viagens         1294.65   \n",
              "\n",
              "   Quantidade    Total       Data Horário          Pagamento       COGS  \\\n",
              "0           7  7842.45    Janeiro   Tarde                PIX  4705.4700   \n",
              "1           5  1146.00      Março   Manhã           Dinheiro  1031.4000   \n",
              "2           7  4864.65      Março   Tarde  Cartão de Crédito  3405.2550   \n",
              "3           8  6986.40    Janeiro   Noite                PIX  4191.8400   \n",
              "4           7  9062.55  Fevereiro   Manhã                PIX  6796.9125   \n",
              "\n",
              "   Avaliação  \n",
              "0         91  \n",
              "1         96  \n",
              "2         74  \n",
              "3         84  \n",
              "4         53  "
            ],
            "text/html": [
              "\n",
              "  <div id=\"df-a4687b1f-a5b3-482a-b407-45d0bee0ce8b\">\n",
              "    <div class=\"colab-df-container\">\n",
              "      <div>\n",
              "<style scoped>\n",
              "    .dataframe tbody tr th:only-of-type {\n",
              "        vertical-align: middle;\n",
              "    }\n",
              "\n",
              "    .dataframe tbody tr th {\n",
              "        vertical-align: top;\n",
              "    }\n",
              "\n",
              "    .dataframe thead th {\n",
              "        text-align: right;\n",
              "    }\n",
              "</style>\n",
              "<table border=\"1\" class=\"dataframe\">\n",
              "  <thead>\n",
              "    <tr style=\"text-align: right;\">\n",
              "      <th></th>\n",
              "      <th>Filial</th>\n",
              "      <th>Tipo de Cliente</th>\n",
              "      <th>Gênero</th>\n",
              "      <th>Linha de produto</th>\n",
              "      <th>Preço unitário</th>\n",
              "      <th>Quantidade</th>\n",
              "      <th>Total</th>\n",
              "      <th>Data</th>\n",
              "      <th>Horário</th>\n",
              "      <th>Pagamento</th>\n",
              "      <th>COGS</th>\n",
              "      <th>Avaliação</th>\n",
              "    </tr>\n",
              "  </thead>\n",
              "  <tbody>\n",
              "    <tr>\n",
              "      <th>0</th>\n",
              "      <td>A</td>\n",
              "      <td>Associado</td>\n",
              "      <td>F</td>\n",
              "      <td>Saúde e beleza</td>\n",
              "      <td>1120.35</td>\n",
              "      <td>7</td>\n",
              "      <td>7842.45</td>\n",
              "      <td>Janeiro</td>\n",
              "      <td>Tarde</td>\n",
              "      <td>PIX</td>\n",
              "      <td>4705.4700</td>\n",
              "      <td>91</td>\n",
              "    </tr>\n",
              "    <tr>\n",
              "      <th>1</th>\n",
              "      <td>C</td>\n",
              "      <td>Normal</td>\n",
              "      <td>F</td>\n",
              "      <td>Acessórios eletrônicos</td>\n",
              "      <td>229.20</td>\n",
              "      <td>5</td>\n",
              "      <td>1146.00</td>\n",
              "      <td>Março</td>\n",
              "      <td>Manhã</td>\n",
              "      <td>Dinheiro</td>\n",
              "      <td>1031.4000</td>\n",
              "      <td>96</td>\n",
              "    </tr>\n",
              "    <tr>\n",
              "      <th>2</th>\n",
              "      <td>A</td>\n",
              "      <td>Normal</td>\n",
              "      <td>M</td>\n",
              "      <td>Casa e estilo de vida</td>\n",
              "      <td>694.95</td>\n",
              "      <td>7</td>\n",
              "      <td>4864.65</td>\n",
              "      <td>Março</td>\n",
              "      <td>Tarde</td>\n",
              "      <td>Cartão de Crédito</td>\n",
              "      <td>3405.2550</td>\n",
              "      <td>74</td>\n",
              "    </tr>\n",
              "    <tr>\n",
              "      <th>3</th>\n",
              "      <td>A</td>\n",
              "      <td>Associado</td>\n",
              "      <td>M</td>\n",
              "      <td>Saúde e beleza</td>\n",
              "      <td>873.30</td>\n",
              "      <td>8</td>\n",
              "      <td>6986.40</td>\n",
              "      <td>Janeiro</td>\n",
              "      <td>Noite</td>\n",
              "      <td>PIX</td>\n",
              "      <td>4191.8400</td>\n",
              "      <td>84</td>\n",
              "    </tr>\n",
              "    <tr>\n",
              "      <th>4</th>\n",
              "      <td>A</td>\n",
              "      <td>Normal</td>\n",
              "      <td>M</td>\n",
              "      <td>Esportes e viagens</td>\n",
              "      <td>1294.65</td>\n",
              "      <td>7</td>\n",
              "      <td>9062.55</td>\n",
              "      <td>Fevereiro</td>\n",
              "      <td>Manhã</td>\n",
              "      <td>PIX</td>\n",
              "      <td>6796.9125</td>\n",
              "      <td>53</td>\n",
              "    </tr>\n",
              "  </tbody>\n",
              "</table>\n",
              "</div>\n",
              "      <button class=\"colab-df-convert\" onclick=\"convertToInteractive('df-a4687b1f-a5b3-482a-b407-45d0bee0ce8b')\"\n",
              "              title=\"Convert this dataframe to an interactive table.\"\n",
              "              style=\"display:none;\">\n",
              "        \n",
              "  <svg xmlns=\"http://www.w3.org/2000/svg\" height=\"24px\"viewBox=\"0 0 24 24\"\n",
              "       width=\"24px\">\n",
              "    <path d=\"M0 0h24v24H0V0z\" fill=\"none\"/>\n",
              "    <path d=\"M18.56 5.44l.94 2.06.94-2.06 2.06-.94-2.06-.94-.94-2.06-.94 2.06-2.06.94zm-11 1L8.5 8.5l.94-2.06 2.06-.94-2.06-.94L8.5 2.5l-.94 2.06-2.06.94zm10 10l.94 2.06.94-2.06 2.06-.94-2.06-.94-.94-2.06-.94 2.06-2.06.94z\"/><path d=\"M17.41 7.96l-1.37-1.37c-.4-.4-.92-.59-1.43-.59-.52 0-1.04.2-1.43.59L10.3 9.45l-7.72 7.72c-.78.78-.78 2.05 0 2.83L4 21.41c.39.39.9.59 1.41.59.51 0 1.02-.2 1.41-.59l7.78-7.78 2.81-2.81c.8-.78.8-2.07 0-2.86zM5.41 20L4 18.59l7.72-7.72 1.47 1.35L5.41 20z\"/>\n",
              "  </svg>\n",
              "      </button>\n",
              "      \n",
              "  <style>\n",
              "    .colab-df-container {\n",
              "      display:flex;\n",
              "      flex-wrap:wrap;\n",
              "      gap: 12px;\n",
              "    }\n",
              "\n",
              "    .colab-df-convert {\n",
              "      background-color: #E8F0FE;\n",
              "      border: none;\n",
              "      border-radius: 50%;\n",
              "      cursor: pointer;\n",
              "      display: none;\n",
              "      fill: #1967D2;\n",
              "      height: 32px;\n",
              "      padding: 0 0 0 0;\n",
              "      width: 32px;\n",
              "    }\n",
              "\n",
              "    .colab-df-convert:hover {\n",
              "      background-color: #E2EBFA;\n",
              "      box-shadow: 0px 1px 2px rgba(60, 64, 67, 0.3), 0px 1px 3px 1px rgba(60, 64, 67, 0.15);\n",
              "      fill: #174EA6;\n",
              "    }\n",
              "\n",
              "    [theme=dark] .colab-df-convert {\n",
              "      background-color: #3B4455;\n",
              "      fill: #D2E3FC;\n",
              "    }\n",
              "\n",
              "    [theme=dark] .colab-df-convert:hover {\n",
              "      background-color: #434B5C;\n",
              "      box-shadow: 0px 1px 3px 1px rgba(0, 0, 0, 0.15);\n",
              "      filter: drop-shadow(0px 1px 2px rgba(0, 0, 0, 0.3));\n",
              "      fill: #FFFFFF;\n",
              "    }\n",
              "  </style>\n",
              "\n",
              "      <script>\n",
              "        const buttonEl =\n",
              "          document.querySelector('#df-a4687b1f-a5b3-482a-b407-45d0bee0ce8b button.colab-df-convert');\n",
              "        buttonEl.style.display =\n",
              "          google.colab.kernel.accessAllowed ? 'block' : 'none';\n",
              "\n",
              "        async function convertToInteractive(key) {\n",
              "          const element = document.querySelector('#df-a4687b1f-a5b3-482a-b407-45d0bee0ce8b');\n",
              "          const dataTable =\n",
              "            await google.colab.kernel.invokeFunction('convertToInteractive',\n",
              "                                                     [key], {});\n",
              "          if (!dataTable) return;\n",
              "\n",
              "          const docLinkHtml = 'Like what you see? Visit the ' +\n",
              "            '<a target=\"_blank\" href=https://colab.research.google.com/notebooks/data_table.ipynb>data table notebook</a>'\n",
              "            + ' to learn more about interactive tables.';\n",
              "          element.innerHTML = '';\n",
              "          dataTable['output_type'] = 'display_data';\n",
              "          await google.colab.output.renderOutput(dataTable, element);\n",
              "          const docLink = document.createElement('div');\n",
              "          docLink.innerHTML = docLinkHtml;\n",
              "          element.appendChild(docLink);\n",
              "        }\n",
              "      </script>\n",
              "    </div>\n",
              "  </div>\n",
              "  "
            ]
          },
          "metadata": {},
          "execution_count": 48
        }
      ]
    },
    {
      "cell_type": "markdown",
      "source": [
        "# **5 Análise**"
      ],
      "metadata": {
        "id": "9J2PONzt6qde"
      }
    },
    {
      "cell_type": "markdown",
      "source": [
        "# <font color='red'>Por que 'Quantidade' está acompanhado sum()?</font>\n",
        "\n"
      ],
      "metadata": {
        "id": "kRJ4opKZV1fm"
      }
    },
    {
      "cell_type": "markdown",
      "source": [
        ">É usado para somar os valores da quantidade para cada grupo de data, calculando seu total de produto vendidos por data"
      ],
      "metadata": {
        "id": "yjHX6JjqayXe"
      }
    },
    {
      "cell_type": "code",
      "source": [
        "Agrupando_Data_Quantidade = df.groupby('Data')['Quantidade'].sum().reset_index(drop=False)"
      ],
      "metadata": {
        "id": "9n8n8KnuWOPN"
      },
      "execution_count": null,
      "outputs": []
    },
    {
      "cell_type": "code",
      "source": [
        "fig, ax = plt.subplots(figsize=(16,12))\n",
        "ax = sns.lineplot(x = 'Data', y ='Quantidade', data = Agrupando_Data_Quantidade, marker='o', markersize=10)"
      ],
      "metadata": {
        "colab": {
          "base_uri": "https://localhost:8080/",
          "height": 730
        },
        "id": "CCXG8hACVnLt",
        "outputId": "8a53ccd7-ebf2-48f9-93f4-b19bfd3414e4"
      },
      "execution_count": null,
      "outputs": [
        {
          "output_type": "display_data",
          "data": {
            "text/plain": [
              "<Figure size 1152x864 with 1 Axes>"
            ],
            "image/png": "[encoded data removed]"
          },
          "metadata": {
            "needs_background": "light"
          }
        }
      ]
    },
    {
      "cell_type": "markdown",
      "source": [
        "# <font color='red'>Explique o gráfico acima, o que significa?</font>\n"
      ],
      "metadata": {
        "id": "hv-u-7Np6y6R"
      }
    },
    {
      "cell_type": "markdown",
      "source": [
        "> O grafico acima significa que a quantidade vendida em fevereiro foi a menor de todas, janeiro foi o mes que mais vendeu, e março ficou no meio na quantidade de vendas"
      ],
      "metadata": {
        "id": "PnQzqf7kbMcd"
      }
    },
    {
      "cell_type": "code",
      "source": [
        "Agrupando_Data_Quantidade"
      ],
      "metadata": {
        "colab": {
          "base_uri": "https://localhost:8080/",
          "height": 143
        },
        "id": "7jGPCkqtWi6n",
        "outputId": "aa6224ed-4af2-4ee0-9070-3a90dd5cd3eb"
      },
      "execution_count": null,
      "outputs": [
        {
          "output_type": "execute_result",
          "data": {
            "text/plain": [
              "        Data  Quantidade\n",
              "0  Fevereiro        1654\n",
              "1    Janeiro        1965\n",
              "2      Março        1891"
            ],
            "text/html": [
              "\n",
              "  <div id=\"df-c420aa7d-1837-452b-8aaa-de6727113899\">\n",
              "    <div class=\"colab-df-container\">\n",
              "      <div>\n",
              "<style scoped>\n",
              "    .dataframe tbody tr th:only-of-type {\n",
              "        vertical-align: middle;\n",
              "    }\n",
              "\n",
              "    .dataframe tbody tr th {\n",
              "        vertical-align: top;\n",
              "    }\n",
              "\n",
              "    .dataframe thead th {\n",
              "        text-align: right;\n",
              "    }\n",
              "</style>\n",
              "<table border=\"1\" class=\"dataframe\">\n",
              "  <thead>\n",
              "    <tr style=\"text-align: right;\">\n",
              "      <th></th>\n",
              "      <th>Data</th>\n",
              "      <th>Quantidade</th>\n",
              "    </tr>\n",
              "  </thead>\n",
              "  <tbody>\n",
              "    <tr>\n",
              "      <th>0</th>\n",
              "      <td>Fevereiro</td>\n",
              "      <td>1654</td>\n",
              "    </tr>\n",
              "    <tr>\n",
              "      <th>1</th>\n",
              "      <td>Janeiro</td>\n",
              "      <td>1965</td>\n",
              "    </tr>\n",
              "    <tr>\n",
              "      <th>2</th>\n",
              "      <td>Março</td>\n",
              "      <td>1891</td>\n",
              "    </tr>\n",
              "  </tbody>\n",
              "</table>\n",
              "</div>\n",
              "      <button class=\"colab-df-convert\" onclick=\"convertToInteractive('df-c420aa7d-1837-452b-8aaa-de6727113899')\"\n",
              "              title=\"Convert this dataframe to an interactive table.\"\n",
              "              style=\"display:none;\">\n",
              "        \n",
              "  <svg xmlns=\"http://www.w3.org/2000/svg\" height=\"24px\"viewBox=\"0 0 24 24\"\n",
              "       width=\"24px\">\n",
              "    <path d=\"M0 0h24v24H0V0z\" fill=\"none\"/>\n",
              "    <path d=\"M18.56 5.44l.94 2.06.94-2.06 2.06-.94-2.06-.94-.94-2.06-.94 2.06-2.06.94zm-11 1L8.5 8.5l.94-2.06 2.06-.94-2.06-.94L8.5 2.5l-.94 2.06-2.06.94zm10 10l.94 2.06.94-2.06 2.06-.94-2.06-.94-.94-2.06-.94 2.06-2.06.94z\"/><path d=\"M17.41 7.96l-1.37-1.37c-.4-.4-.92-.59-1.43-.59-.52 0-1.04.2-1.43.59L10.3 9.45l-7.72 7.72c-.78.78-.78 2.05 0 2.83L4 21.41c.39.39.9.59 1.41.59.51 0 1.02-.2 1.41-.59l7.78-7.78 2.81-2.81c.8-.78.8-2.07 0-2.86zM5.41 20L4 18.59l7.72-7.72 1.47 1.35L5.41 20z\"/>\n",
              "  </svg>\n",
              "      </button>\n",
              "      \n",
              "  <style>\n",
              "    .colab-df-container {\n",
              "      display:flex;\n",
              "      flex-wrap:wrap;\n",
              "      gap: 12px;\n",
              "    }\n",
              "\n",
              "    .colab-df-convert {\n",
              "      background-color: #E8F0FE;\n",
              "      border: none;\n",
              "      border-radius: 50%;\n",
              "      cursor: pointer;\n",
              "      display: none;\n",
              "      fill: #1967D2;\n",
              "      height: 32px;\n",
              "      padding: 0 0 0 0;\n",
              "      width: 32px;\n",
              "    }\n",
              "\n",
              "    .colab-df-convert:hover {\n",
              "      background-color: #E2EBFA;\n",
              "      box-shadow: 0px 1px 2px rgba(60, 64, 67, 0.3), 0px 1px 3px 1px rgba(60, 64, 67, 0.15);\n",
              "      fill: #174EA6;\n",
              "    }\n",
              "\n",
              "    [theme=dark] .colab-df-convert {\n",
              "      background-color: #3B4455;\n",
              "      fill: #D2E3FC;\n",
              "    }\n",
              "\n",
              "    [theme=dark] .colab-df-convert:hover {\n",
              "      background-color: #434B5C;\n",
              "      box-shadow: 0px 1px 3px 1px rgba(0, 0, 0, 0.15);\n",
              "      filter: drop-shadow(0px 1px 2px rgba(0, 0, 0, 0.3));\n",
              "      fill: #FFFFFF;\n",
              "    }\n",
              "  </style>\n",
              "\n",
              "      <script>\n",
              "        const buttonEl =\n",
              "          document.querySelector('#df-c420aa7d-1837-452b-8aaa-de6727113899 button.colab-df-convert');\n",
              "        buttonEl.style.display =\n",
              "          google.colab.kernel.accessAllowed ? 'block' : 'none';\n",
              "\n",
              "        async function convertToInteractive(key) {\n",
              "          const element = document.querySelector('#df-c420aa7d-1837-452b-8aaa-de6727113899');\n",
              "          const dataTable =\n",
              "            await google.colab.kernel.invokeFunction('convertToInteractive',\n",
              "                                                     [key], {});\n",
              "          if (!dataTable) return;\n",
              "\n",
              "          const docLinkHtml = 'Like what you see? Visit the ' +\n",
              "            '<a target=\"_blank\" href=https://colab.research.google.com/notebooks/data_table.ipynb>data table notebook</a>'\n",
              "            + ' to learn more about interactive tables.';\n",
              "          element.innerHTML = '';\n",
              "          dataTable['output_type'] = 'display_data';\n",
              "          await google.colab.output.renderOutput(dataTable, element);\n",
              "          const docLink = document.createElement('div');\n",
              "          docLink.innerHTML = docLinkHtml;\n",
              "          element.appendChild(docLink);\n",
              "        }\n",
              "      </script>\n",
              "    </div>\n",
              "  </div>\n",
              "  "
            ]
          },
          "metadata": {},
          "execution_count": 51
        }
      ]
    },
    {
      "cell_type": "code",
      "source": [
        "new_index = [1,0,2] #Alterando a ordem dos meses"
      ],
      "metadata": {
        "id": "-qHItx9SYBz9"
      },
      "execution_count": null,
      "outputs": []
    },
    {
      "cell_type": "code",
      "source": [
        "Agrupando_Data_Quantidade = Agrupando_Data_Quantidade.reindex(new_index) # salvando"
      ],
      "metadata": {
        "id": "mzS0AGHFYSf1"
      },
      "execution_count": null,
      "outputs": []
    },
    {
      "cell_type": "markdown",
      "source": [
        "# <font color='red'>Explique o código acima:</font>\n"
      ],
      "metadata": {
        "id": "Uotpai_G7JOi"
      }
    },
    {
      "cell_type": "markdown",
      "source": [
        "> Foi feito a reodenação da Data, para que fique Janeiro,Fevereiro, Març, e salvado na função"
      ],
      "metadata": {
        "id": "hZdyh7ggbfcW"
      }
    },
    {
      "cell_type": "code",
      "source": [
        "df.head()"
      ],
      "metadata": {
        "colab": {
          "base_uri": "https://localhost:8080/",
          "height": 206
        },
        "id": "pOFC8WAMYYcY",
        "outputId": "6a79bdcd-bff2-49ab-f927-e7ef36f3721f"
      },
      "execution_count": null,
      "outputs": [
        {
          "output_type": "execute_result",
          "data": {
            "text/plain": [
              "  Filial Tipo de Cliente Gênero        Linha de produto  Preço unitário  \\\n",
              "0      A       Associado      F          Saúde e beleza         1120.35   \n",
              "1      C          Normal      F  Acessórios eletrônicos          229.20   \n",
              "2      A          Normal      M   Casa e estilo de vida          694.95   \n",
              "3      A       Associado      M          Saúde e beleza          873.30   \n",
              "4      A          Normal      M      Esportes e viagens         1294.65   \n",
              "\n",
              "   Quantidade    Total       Data Horário          Pagamento       COGS  \\\n",
              "0           7  7842.45    Janeiro   Tarde                PIX  4705.4700   \n",
              "1           5  1146.00      Março   Manhã           Dinheiro  1031.4000   \n",
              "2           7  4864.65      Março   Tarde  Cartão de Crédito  3405.2550   \n",
              "3           8  6986.40    Janeiro   Noite                PIX  4191.8400   \n",
              "4           7  9062.55  Fevereiro   Manhã                PIX  6796.9125   \n",
              "\n",
              "   Avaliação  \n",
              "0         91  \n",
              "1         96  \n",
              "2         74  \n",
              "3         84  \n",
              "4         53  "
            ],
            "text/html": [
              "\n",
              "  <div id=\"df-f3bc9a8a-4498-45f0-9690-cbd93823fc8a\">\n",
              "    <div class=\"colab-df-container\">\n",
              "      <div>\n",
              "<style scoped>\n",
              "    .dataframe tbody tr th:only-of-type {\n",
              "        vertical-align: middle;\n",
              "    }\n",
              "\n",
              "    .dataframe tbody tr th {\n",
              "        vertical-align: top;\n",
              "    }\n",
              "\n",
              "    .dataframe thead th {\n",
              "        text-align: right;\n",
              "    }\n",
              "</style>\n",
              "<table border=\"1\" class=\"dataframe\">\n",
              "  <thead>\n",
              "    <tr style=\"text-align: right;\">\n",
              "      <th></th>\n",
              "      <th>Filial</th>\n",
              "      <th>Tipo de Cliente</th>\n",
              "      <th>Gênero</th>\n",
              "      <th>Linha de produto</th>\n",
              "      <th>Preço unitário</th>\n",
              "      <th>Quantidade</th>\n",
              "      <th>Total</th>\n",
              "      <th>Data</th>\n",
              "      <th>Horário</th>\n",
              "      <th>Pagamento</th>\n",
              "      <th>COGS</th>\n",
              "      <th>Avaliação</th>\n",
              "    </tr>\n",
              "  </thead>\n",
              "  <tbody>\n",
              "    <tr>\n",
              "      <th>0</th>\n",
              "      <td>A</td>\n",
              "      <td>Associado</td>\n",
              "      <td>F</td>\n",
              "      <td>Saúde e beleza</td>\n",
              "      <td>1120.35</td>\n",
              "      <td>7</td>\n",
              "      <td>7842.45</td>\n",
              "      <td>Janeiro</td>\n",
              "      <td>Tarde</td>\n",
              "      <td>PIX</td>\n",
              "      <td>4705.4700</td>\n",
              "      <td>91</td>\n",
              "    </tr>\n",
              "    <tr>\n",
              "      <th>1</th>\n",
              "      <td>C</td>\n",
              "      <td>Normal</td>\n",
              "      <td>F</td>\n",
              "      <td>Acessórios eletrônicos</td>\n",
              "      <td>229.20</td>\n",
              "      <td>5</td>\n",
              "      <td>1146.00</td>\n",
              "      <td>Março</td>\n",
              "      <td>Manhã</td>\n",
              "      <td>Dinheiro</td>\n",
              "      <td>1031.4000</td>\n",
              "      <td>96</td>\n",
              "    </tr>\n",
              "    <tr>\n",
              "      <th>2</th>\n",
              "      <td>A</td>\n",
              "      <td>Normal</td>\n",
              "      <td>M</td>\n",
              "      <td>Casa e estilo de vida</td>\n",
              "      <td>694.95</td>\n",
              "      <td>7</td>\n",
              "      <td>4864.65</td>\n",
              "      <td>Março</td>\n",
              "      <td>Tarde</td>\n",
              "      <td>Cartão de Crédito</td>\n",
              "      <td>3405.2550</td>\n",
              "      <td>74</td>\n",
              "    </tr>\n",
              "    <tr>\n",
              "      <th>3</th>\n",
              "      <td>A</td>\n",
              "      <td>Associado</td>\n",
              "      <td>M</td>\n",
              "      <td>Saúde e beleza</td>\n",
              "      <td>873.30</td>\n",
              "      <td>8</td>\n",
              "      <td>6986.40</td>\n",
              "      <td>Janeiro</td>\n",
              "      <td>Noite</td>\n",
              "      <td>PIX</td>\n",
              "      <td>4191.8400</td>\n",
              "      <td>84</td>\n",
              "    </tr>\n",
              "    <tr>\n",
              "      <th>4</th>\n",
              "      <td>A</td>\n",
              "      <td>Normal</td>\n",
              "      <td>M</td>\n",
              "      <td>Esportes e viagens</td>\n",
              "      <td>1294.65</td>\n",
              "      <td>7</td>\n",
              "      <td>9062.55</td>\n",
              "      <td>Fevereiro</td>\n",
              "      <td>Manhã</td>\n",
              "      <td>PIX</td>\n",
              "      <td>6796.9125</td>\n",
              "      <td>53</td>\n",
              "    </tr>\n",
              "  </tbody>\n",
              "</table>\n",
              "</div>\n",
              "      <button class=\"colab-df-convert\" onclick=\"convertToInteractive('df-f3bc9a8a-4498-45f0-9690-cbd93823fc8a')\"\n",
              "              title=\"Convert this dataframe to an interactive table.\"\n",
              "              style=\"display:none;\">\n",
              "        \n",
              "  <svg xmlns=\"http://www.w3.org/2000/svg\" height=\"24px\"viewBox=\"0 0 24 24\"\n",
              "       width=\"24px\">\n",
              "    <path d=\"M0 0h24v24H0V0z\" fill=\"none\"/>\n",
              "    <path d=\"M18.56 5.44l.94 2.06.94-2.06 2.06-.94-2.06-.94-.94-2.06-.94 2.06-2.06.94zm-11 1L8.5 8.5l.94-2.06 2.06-.94-2.06-.94L8.5 2.5l-.94 2.06-2.06.94zm10 10l.94 2.06.94-2.06 2.06-.94-2.06-.94-.94-2.06-.94 2.06-2.06.94z\"/><path d=\"M17.41 7.96l-1.37-1.37c-.4-.4-.92-.59-1.43-.59-.52 0-1.04.2-1.43.59L10.3 9.45l-7.72 7.72c-.78.78-.78 2.05 0 2.83L4 21.41c.39.39.9.59 1.41.59.51 0 1.02-.2 1.41-.59l7.78-7.78 2.81-2.81c.8-.78.8-2.07 0-2.86zM5.41 20L4 18.59l7.72-7.72 1.47 1.35L5.41 20z\"/>\n",
              "  </svg>\n",
              "      </button>\n",
              "      \n",
              "  <style>\n",
              "    .colab-df-container {\n",
              "      display:flex;\n",
              "      flex-wrap:wrap;\n",
              "      gap: 12px;\n",
              "    }\n",
              "\n",
              "    .colab-df-convert {\n",
              "      background-color: #E8F0FE;\n",
              "      border: none;\n",
              "      border-radius: 50%;\n",
              "      cursor: pointer;\n",
              "      display: none;\n",
              "      fill: #1967D2;\n",
              "      height: 32px;\n",
              "      padding: 0 0 0 0;\n",
              "      width: 32px;\n",
              "    }\n",
              "\n",
              "    .colab-df-convert:hover {\n",
              "      background-color: #E2EBFA;\n",
              "      box-shadow: 0px 1px 2px rgba(60, 64, 67, 0.3), 0px 1px 3px 1px rgba(60, 64, 67, 0.15);\n",
              "      fill: #174EA6;\n",
              "    }\n",
              "\n",
              "    [theme=dark] .colab-df-convert {\n",
              "      background-color: #3B4455;\n",
              "      fill: #D2E3FC;\n",
              "    }\n",
              "\n",
              "    [theme=dark] .colab-df-convert:hover {\n",
              "      background-color: #434B5C;\n",
              "      box-shadow: 0px 1px 3px 1px rgba(0, 0, 0, 0.15);\n",
              "      filter: drop-shadow(0px 1px 2px rgba(0, 0, 0, 0.3));\n",
              "      fill: #FFFFFF;\n",
              "    }\n",
              "  </style>\n",
              "\n",
              "      <script>\n",
              "        const buttonEl =\n",
              "          document.querySelector('#df-f3bc9a8a-4498-45f0-9690-cbd93823fc8a button.colab-df-convert');\n",
              "        buttonEl.style.display =\n",
              "          google.colab.kernel.accessAllowed ? 'block' : 'none';\n",
              "\n",
              "        async function convertToInteractive(key) {\n",
              "          const element = document.querySelector('#df-f3bc9a8a-4498-45f0-9690-cbd93823fc8a');\n",
              "          const dataTable =\n",
              "            await google.colab.kernel.invokeFunction('convertToInteractive',\n",
              "                                                     [key], {});\n",
              "          if (!dataTable) return;\n",
              "\n",
              "          const docLinkHtml = 'Like what you see? Visit the ' +\n",
              "            '<a target=\"_blank\" href=https://colab.research.google.com/notebooks/data_table.ipynb>data table notebook</a>'\n",
              "            + ' to learn more about interactive tables.';\n",
              "          element.innerHTML = '';\n",
              "          dataTable['output_type'] = 'display_data';\n",
              "          await google.colab.output.renderOutput(dataTable, element);\n",
              "          const docLink = document.createElement('div');\n",
              "          docLink.innerHTML = docLinkHtml;\n",
              "          element.appendChild(docLink);\n",
              "        }\n",
              "      </script>\n",
              "    </div>\n",
              "  </div>\n",
              "  "
            ]
          },
          "metadata": {},
          "execution_count": 54
        }
      ]
    },
    {
      "cell_type": "markdown",
      "source": [
        "# **6 Análise**"
      ],
      "metadata": {
        "id": "L7cbAJX37NNn"
      }
    },
    {
      "cell_type": "markdown",
      "source": [
        "# <font color='red'>Explique detalhamente o código abaixo:</font>\n"
      ],
      "metadata": {
        "id": "LlehlLUjgfzr"
      }
    },
    {
      "cell_type": "markdown",
      "source": [
        ">Primeiro é definido o estilo classico,e a paleta de cores do grafico. Apos isso é feito um agrupamento da coluna Tipo de cliente retornando o numero de ocorrencia para cada categoria de total, apos isso é feito a montagem do grafico, definindo que sera um grafico de pizza, com uma desimal,seu tamanho, se deve ser criado com subplots separados, e a largura de cada \"fatia\""
      ],
      "metadata": {
        "id": "i1Pbd0dybz14"
      }
    },
    {
      "cell_type": "code",
      "source": [
        "plt.style.use('classic') #Gráfico Clássico\n",
        "plt.style.use('bmh') #estilo cores\n",
        "df.groupby('Tipo de Cliente').count()['Total'].plot(kind='pie', autopct='%.1f', figsize=(16,12), subplots=True, wedgeprops=dict(width=0.20))"
      ],
      "metadata": {
        "colab": {
          "base_uri": "https://localhost:8080/",
          "height": 818
        },
        "id": "1De4LQKQgWhz",
        "outputId": "8f26716e-2554-4d87-df90-ea51dc29486a"
      },
      "execution_count": null,
      "outputs": [
        {
          "output_type": "execute_result",
          "data": {
            "text/plain": [
              "array([<Axes: ylabel='Total'>], dtype=object)"
            ]
          },
          "metadata": {},
          "execution_count": 55
        },
        {
          "output_type": "display_data",
          "data": {
            "text/plain": [
              "<Figure size 1280x960 with 1 Axes>"
            ],
            "image/png": "[encoded data removed]"
          },
          "metadata": {}
        }
      ]
    },
    {
      "cell_type": "code",
      "source": [
        "df.groupby('Tipo de Cliente').count()['Total']"
      ],
      "metadata": {
        "colab": {
          "base_uri": "https://localhost:8080/"
        },
        "id": "WH7JaBIl6eea",
        "outputId": "ed5ace75-380b-4fe2-c7d8-8c7947aae246"
      },
      "execution_count": null,
      "outputs": [
        {
          "output_type": "execute_result",
          "data": {
            "text/plain": [
              "Tipo de Cliente\n",
              "Associado    501\n",
              "Normal       499\n",
              "Name: Total, dtype: int64"
            ]
          },
          "metadata": {},
          "execution_count": 56
        }
      ]
    },
    {
      "cell_type": "markdown",
      "source": [
        "# <font color='red'>Está coerente o gráfico acima?</font>\n"
      ],
      "metadata": {
        "id": "fS5VeFO47jcC"
      }
    },
    {
      "cell_type": "markdown",
      "source": [
        "Sim, os dados apresentados fazem sentido ao olhar o grafico feito"
      ],
      "metadata": {
        "id": "N5KLeegSeCyE"
      }
    },
    {
      "cell_type": "markdown",
      "source": [
        "# **7 Análise**"
      ],
      "metadata": {
        "id": "6z8MwOsX7tjX"
      }
    },
    {
      "cell_type": "markdown",
      "source": [
        "# <font color='red'>Explique o código abaixo:</font>\n",
        "\n",
        "\n",
        "\n",
        "\n"
      ],
      "metadata": {
        "id": "QVRMUmoclN3T"
      }
    },
    {
      "cell_type": "markdown",
      "source": [
        ">O codigo abaixo é o mesmo utilizado anteriormente a unica diferenta em que inves da coluna tipo de cliente está sendo utlizado a coluna pagamento retornar o numero de ocorrencias para cada categoria de total."
      ],
      "metadata": {
        "id": "k9dMDemgeaOu"
      }
    },
    {
      "cell_type": "code",
      "source": [
        "plt.style.use('classic')\n",
        "plt.style.use('bmh')\n",
        "df.groupby('Pagamento').count()['Total'].plot(kind='pie', autopct='%.1f', figsize=(16,12), subplots=True, wedgeprops=dict(width=0.20))"
      ],
      "metadata": {
        "colab": {
          "base_uri": "https://localhost:8080/",
          "height": 818
        },
        "id": "ecKmLi2gk1nN",
        "outputId": "27d7b4e4-2254-4744-b088-3395d58c65e2"
      },
      "execution_count": null,
      "outputs": [
        {
          "output_type": "execute_result",
          "data": {
            "text/plain": [
              "array([<Axes: ylabel='Total'>], dtype=object)"
            ]
          },
          "metadata": {},
          "execution_count": 57
        },
        {
          "output_type": "display_data",
          "data": {
            "text/plain": [
              "<Figure size 1280x960 with 1 Axes>"
            ],
            "image/png": "[encoded data removed]"
          },
          "metadata": {}
        }
      ]
    },
    {
      "cell_type": "markdown",
      "source": [
        "# <font color='red'>O que significa o gráfico acima? Monte uma hipótese para esse resultado?</font>\n"
      ],
      "metadata": {
        "id": "BCDmMXEZ8Inb"
      }
    },
    {
      "cell_type": "markdown",
      "source": [
        "> O grafico acima significa que o metodo mais utilizado de pagamento é o pix, apos o dinheiro, e cartão respectivamente, uma hipótese para isso vem da facilidade de usar o pix, e pelo costume de usar o dinheiro, o cartão está em utilmo deve se dar pelo fato de entre usar o cartão ou o pix as pessoas optão pelo pix que é mais facil."
      ],
      "metadata": {
        "id": "wuXzCv3OfHi-"
      }
    },
    {
      "cell_type": "markdown",
      "source": [
        "# **8 Análise**"
      ],
      "metadata": {
        "id": "2xvaUhNf8oRe"
      }
    },
    {
      "cell_type": "markdown",
      "source": [
        "# <font color='red'>Explique o código a seguir?</font>\n"
      ],
      "metadata": {
        "id": "vEYuHZH8nl4J"
      }
    },
    {
      "cell_type": "markdown",
      "source": [
        "> Codigo já usado anteriormente que  calcula a media da coluna total para cada linha da coluna Horário"
      ],
      "metadata": {
        "id": "RbXjsThif6K9"
      }
    },
    {
      "cell_type": "code",
      "source": [
        "agrupamento_horario_total = df.groupby('Horário')['Total'].mean().reset_index(drop=False)"
      ],
      "metadata": {
        "id": "qouaFOFrnp8s"
      },
      "execution_count": null,
      "outputs": []
    },
    {
      "cell_type": "code",
      "source": [
        "agrupamento_horario_total"
      ],
      "metadata": {
        "colab": {
          "base_uri": "https://localhost:8080/",
          "height": 143
        },
        "id": "fY4Sj-ytoAgg",
        "outputId": "80bdb5a3-1a26-4ef1-de6e-a0e0cad7394a"
      },
      "execution_count": null,
      "outputs": [
        {
          "output_type": "execute_result",
          "data": {
            "text/plain": [
              "  Horário        Total\n",
              "0   Manhã  4077.974464\n",
              "1   Noite  4196.399202\n",
              "2   Tarde  4218.379511"
            ],
            "text/html": [
              "\n",
              "  <div id=\"df-7a023364-3684-40d2-a08e-ba546cba04da\">\n",
              "    <div class=\"colab-df-container\">\n",
              "      <div>\n",
              "<style scoped>\n",
              "    .dataframe tbody tr th:only-of-type {\n",
              "        vertical-align: middle;\n",
              "    }\n",
              "\n",
              "    .dataframe tbody tr th {\n",
              "        vertical-align: top;\n",
              "    }\n",
              "\n",
              "    .dataframe thead th {\n",
              "        text-align: right;\n",
              "    }\n",
              "</style>\n",
              "<table border=\"1\" class=\"dataframe\">\n",
              "  <thead>\n",
              "    <tr style=\"text-align: right;\">\n",
              "      <th></th>\n",
              "      <th>Horário</th>\n",
              "      <th>Total</th>\n",
              "    </tr>\n",
              "  </thead>\n",
              "  <tbody>\n",
              "    <tr>\n",
              "      <th>0</th>\n",
              "      <td>Manhã</td>\n",
              "      <td>4077.974464</td>\n",
              "    </tr>\n",
              "    <tr>\n",
              "      <th>1</th>\n",
              "      <td>Noite</td>\n",
              "      <td>4196.399202</td>\n",
              "    </tr>\n",
              "    <tr>\n",
              "      <th>2</th>\n",
              "      <td>Tarde</td>\n",
              "      <td>4218.379511</td>\n",
              "    </tr>\n",
              "  </tbody>\n",
              "</table>\n",
              "</div>\n",
              "      <button class=\"colab-df-convert\" onclick=\"convertToInteractive('df-7a023364-3684-40d2-a08e-ba546cba04da')\"\n",
              "              title=\"Convert this dataframe to an interactive table.\"\n",
              "              style=\"display:none;\">\n",
              "        \n",
              "  <svg xmlns=\"http://www.w3.org/2000/svg\" height=\"24px\"viewBox=\"0 0 24 24\"\n",
              "       width=\"24px\">\n",
              "    <path d=\"M0 0h24v24H0V0z\" fill=\"none\"/>\n",
              "    <path d=\"M18.56 5.44l.94 2.06.94-2.06 2.06-.94-2.06-.94-.94-2.06-.94 2.06-2.06.94zm-11 1L8.5 8.5l.94-2.06 2.06-.94-2.06-.94L8.5 2.5l-.94 2.06-2.06.94zm10 10l.94 2.06.94-2.06 2.06-.94-2.06-.94-.94-2.06-.94 2.06-2.06.94z\"/><path d=\"M17.41 7.96l-1.37-1.37c-.4-.4-.92-.59-1.43-.59-.52 0-1.04.2-1.43.59L10.3 9.45l-7.72 7.72c-.78.78-.78 2.05 0 2.83L4 21.41c.39.39.9.59 1.41.59.51 0 1.02-.2 1.41-.59l7.78-7.78 2.81-2.81c.8-.78.8-2.07 0-2.86zM5.41 20L4 18.59l7.72-7.72 1.47 1.35L5.41 20z\"/>\n",
              "  </svg>\n",
              "      </button>\n",
              "      \n",
              "  <style>\n",
              "    .colab-df-container {\n",
              "      display:flex;\n",
              "      flex-wrap:wrap;\n",
              "      gap: 12px;\n",
              "    }\n",
              "\n",
              "    .colab-df-convert {\n",
              "      background-color: #E8F0FE;\n",
              "      border: none;\n",
              "      border-radius: 50%;\n",
              "      cursor: pointer;\n",
              "      display: none;\n",
              "      fill: #1967D2;\n",
              "      height: 32px;\n",
              "      padding: 0 0 0 0;\n",
              "      width: 32px;\n",
              "    }\n",
              "\n",
              "    .colab-df-convert:hover {\n",
              "      background-color: #E2EBFA;\n",
              "      box-shadow: 0px 1px 2px rgba(60, 64, 67, 0.3), 0px 1px 3px 1px rgba(60, 64, 67, 0.15);\n",
              "      fill: #174EA6;\n",
              "    }\n",
              "\n",
              "    [theme=dark] .colab-df-convert {\n",
              "      background-color: #3B4455;\n",
              "      fill: #D2E3FC;\n",
              "    }\n",
              "\n",
              "    [theme=dark] .colab-df-convert:hover {\n",
              "      background-color: #434B5C;\n",
              "      box-shadow: 0px 1px 3px 1px rgba(0, 0, 0, 0.15);\n",
              "      filter: drop-shadow(0px 1px 2px rgba(0, 0, 0, 0.3));\n",
              "      fill: #FFFFFF;\n",
              "    }\n",
              "  </style>\n",
              "\n",
              "      <script>\n",
              "        const buttonEl =\n",
              "          document.querySelector('#df-7a023364-3684-40d2-a08e-ba546cba04da button.colab-df-convert');\n",
              "        buttonEl.style.display =\n",
              "          google.colab.kernel.accessAllowed ? 'block' : 'none';\n",
              "\n",
              "        async function convertToInteractive(key) {\n",
              "          const element = document.querySelector('#df-7a023364-3684-40d2-a08e-ba546cba04da');\n",
              "          const dataTable =\n",
              "            await google.colab.kernel.invokeFunction('convertToInteractive',\n",
              "                                                     [key], {});\n",
              "          if (!dataTable) return;\n",
              "\n",
              "          const docLinkHtml = 'Like what you see? Visit the ' +\n",
              "            '<a target=\"_blank\" href=https://colab.research.google.com/notebooks/data_table.ipynb>data table notebook</a>'\n",
              "            + ' to learn more about interactive tables.';\n",
              "          element.innerHTML = '';\n",
              "          dataTable['output_type'] = 'display_data';\n",
              "          await google.colab.output.renderOutput(dataTable, element);\n",
              "          const docLink = document.createElement('div');\n",
              "          docLink.innerHTML = docLinkHtml;\n",
              "          element.appendChild(docLink);\n",
              "        }\n",
              "      </script>\n",
              "    </div>\n",
              "  </div>\n",
              "  "
            ]
          },
          "metadata": {},
          "execution_count": 59
        }
      ]
    },
    {
      "cell_type": "code",
      "source": [
        "sns.lineplot(x = 'Horário', y = 'Total', data = agrupamento_horario_total, marker='o', markersize=12, linewidth=2)"
      ],
      "metadata": {
        "colab": {
          "base_uri": "https://localhost:8080/",
          "height": 478
        },
        "id": "3FL7plpioD_L",
        "outputId": "0496a495-1e3c-46df-e176-57f64fa75583"
      },
      "execution_count": null,
      "outputs": [
        {
          "output_type": "execute_result",
          "data": {
            "text/plain": [
              "<Axes: xlabel='Horário', ylabel='Total'>"
            ]
          },
          "metadata": {},
          "execution_count": 60
        },
        {
          "output_type": "display_data",
          "data": {
            "text/plain": [
              "<Figure size 640x480 with 1 Axes>"
            ],
            "image/png": "[encoded data removed]"
          },
          "metadata": {}
        }
      ]
    },
    {
      "cell_type": "markdown",
      "source": [
        "# <font color='red'>Qual sua hipótese em relação ao gráfico acima:</font>\n"
      ],
      "metadata": {
        "id": "ABKCTLoi8-7p"
      }
    },
    {
      "cell_type": "markdown",
      "source": [
        "Como não se sabe o hórario que as filiais são aberta e fechadas, mas uma hipotese para isso é que a maior parte das pessoas saem para fazer compras no perio da tarde, e levando em conta o horario normal de trabalho, tambem fazem mais compras ao sair do trabalho, ao inves de acordar mais cedo para fazer as compras"
      ],
      "metadata": {
        "id": "BA5NLbOSggeQ"
      }
    },
    {
      "cell_type": "markdown",
      "source": [
        "# 9 Análise"
      ],
      "metadata": {
        "id": "lCOaoQs_9K-c"
      }
    },
    {
      "cell_type": "code",
      "source": [
        "df['Lucro'] = df['Total'] - df['COGS']"
      ],
      "metadata": {
        "id": "UxRzhcVAqxFL"
      },
      "execution_count": null,
      "outputs": []
    },
    {
      "cell_type": "code",
      "source": [
        "df"
      ],
      "metadata": {
        "id": "z1ZzCF35rv9E",
        "outputId": "bcdb10b1-ca80-4060-c698-5c39c9659c41",
        "colab": {
          "base_uri": "https://localhost:8080/",
          "height": 424
        }
      },
      "execution_count": null,
      "outputs": [
        {
          "output_type": "execute_result",
          "data": {
            "text/plain": [
              "    Filial Tipo de Cliente Gênero        Linha de produto  Preço unitário  \\\n",
              "0        A       Associado      F          Saúde e beleza         1120.35   \n",
              "1        C          Normal      F  Acessórios eletrônicos          229.20   \n",
              "2        A          Normal      M   Casa e estilo de vida          694.95   \n",
              "3        A       Associado      M          Saúde e beleza          873.30   \n",
              "4        A          Normal      M      Esportes e viagens         1294.65   \n",
              "..     ...             ...    ...                     ...             ...   \n",
              "995      C          Normal      M          Saúde e beleza          605.25   \n",
              "996      B          Normal      F   Casa e estilo de vida         1460.70   \n",
              "997      A       Associado      M        Comida e bebidas          477.60   \n",
              "998      A          Normal      M   Casa e estilo de vida          987.30   \n",
              "999      A       Associado      F     Acessórios fashions         1325.10   \n",
              "\n",
              "     Quantidade     Total       Data Horário          Pagamento        COGS  \\\n",
              "0             7   7842.45    Janeiro   Tarde                PIX   4705.4700   \n",
              "1             5   1146.00      Março   Manhã           Dinheiro   1031.4000   \n",
              "2             7   4864.65      Março   Tarde  Cartão de Crédito   3405.2550   \n",
              "3             8   6986.40    Janeiro   Noite                PIX   4191.8400   \n",
              "4             7   9062.55  Fevereiro   Manhã                PIX   6796.9125   \n",
              "..          ...       ...        ...     ...                ...         ...   \n",
              "995           1    605.25    Janeiro   Tarde                PIX    363.1500   \n",
              "996          10  14607.00      Março   Tarde                PIX  10224.9000   \n",
              "997           1    477.60  Fevereiro   Tarde           Dinheiro    405.9600   \n",
              "998           1    987.30  Fevereiro   Tarde           Dinheiro    691.1100   \n",
              "999           7   9275.70  Fevereiro   Tarde           Dinheiro   6956.7750   \n",
              "\n",
              "     Avaliação      Lucro  \n",
              "0           91  3136.9800  \n",
              "1           96   114.6000  \n",
              "2           74  1459.3950  \n",
              "3           84  2794.5600  \n",
              "4           53  2265.6375  \n",
              "..         ...        ...  \n",
              "995         62   242.1000  \n",
              "996         44  4382.1000  \n",
              "997         77    71.6400  \n",
              "998         41   296.1900  \n",
              "999         66  2318.9250  \n",
              "\n",
              "[1000 rows x 13 columns]"
            ],
            "text/html": [
              "\n",
              "  <div id=\"df-aa468872-7c6d-44be-ba68-c9e16612c1f3\">\n",
              "    <div class=\"colab-df-container\">\n",
              "      <div>\n",
              "<style scoped>\n",
              "    .dataframe tbody tr th:only-of-type {\n",
              "        vertical-align: middle;\n",
              "    }\n",
              "\n",
              "    .dataframe tbody tr th {\n",
              "        vertical-align: top;\n",
              "    }\n",
              "\n",
              "    .dataframe thead th {\n",
              "        text-align: right;\n",
              "    }\n",
              "</style>\n",
              "<table border=\"1\" class=\"dataframe\">\n",
              "  <thead>\n",
              "    <tr style=\"text-align: right;\">\n",
              "      <th></th>\n",
              "      <th>Filial</th>\n",
              "      <th>Tipo de Cliente</th>\n",
              "      <th>Gênero</th>\n",
              "      <th>Linha de produto</th>\n",
              "      <th>Preço unitário</th>\n",
              "      <th>Quantidade</th>\n",
              "      <th>Total</th>\n",
              "      <th>Data</th>\n",
              "      <th>Horário</th>\n",
              "      <th>Pagamento</th>\n",
              "      <th>COGS</th>\n",
              "      <th>Avaliação</th>\n",
              "      <th>Lucro</th>\n",
              "    </tr>\n",
              "  </thead>\n",
              "  <tbody>\n",
              "    <tr>\n",
              "      <th>0</th>\n",
              "      <td>A</td>\n",
              "      <td>Associado</td>\n",
              "      <td>F</td>\n",
              "      <td>Saúde e beleza</td>\n",
              "      <td>1120.35</td>\n",
              "      <td>7</td>\n",
              "      <td>7842.45</td>\n",
              "      <td>Janeiro</td>\n",
              "      <td>Tarde</td>\n",
              "      <td>PIX</td>\n",
              "      <td>4705.4700</td>\n",
              "      <td>91</td>\n",
              "      <td>3136.9800</td>\n",
              "    </tr>\n",
              "    <tr>\n",
              "      <th>1</th>\n",
              "      <td>C</td>\n",
              "      <td>Normal</td>\n",
              "      <td>F</td>\n",
              "      <td>Acessórios eletrônicos</td>\n",
              "      <td>229.20</td>\n",
              "      <td>5</td>\n",
              "      <td>1146.00</td>\n",
              "      <td>Março</td>\n",
              "      <td>Manhã</td>\n",
              "      <td>Dinheiro</td>\n",
              "      <td>1031.4000</td>\n",
              "      <td>96</td>\n",
              "      <td>114.6000</td>\n",
              "    </tr>\n",
              "    <tr>\n",
              "      <th>2</th>\n",
              "      <td>A</td>\n",
              "      <td>Normal</td>\n",
              "      <td>M</td>\n",
              "      <td>Casa e estilo de vida</td>\n",
              "      <td>694.95</td>\n",
              "      <td>7</td>\n",
              "      <td>4864.65</td>\n",
              "      <td>Março</td>\n",
              "      <td>Tarde</td>\n",
              "      <td>Cartão de Crédito</td>\n",
              "      <td>3405.2550</td>\n",
              "      <td>74</td>\n",
              "      <td>1459.3950</td>\n",
              "    </tr>\n",
              "    <tr>\n",
              "      <th>3</th>\n",
              "      <td>A</td>\n",
              "      <td>Associado</td>\n",
              "      <td>M</td>\n",
              "      <td>Saúde e beleza</td>\n",
              "      <td>873.30</td>\n",
              "      <td>8</td>\n",
              "      <td>6986.40</td>\n",
              "      <td>Janeiro</td>\n",
              "      <td>Noite</td>\n",
              "      <td>PIX</td>\n",
              "      <td>4191.8400</td>\n",
              "      <td>84</td>\n",
              "      <td>2794.5600</td>\n",
              "    </tr>\n",
              "    <tr>\n",
              "      <th>4</th>\n",
              "      <td>A</td>\n",
              "      <td>Normal</td>\n",
              "      <td>M</td>\n",
              "      <td>Esportes e viagens</td>\n",
              "      <td>1294.65</td>\n",
              "      <td>7</td>\n",
              "      <td>9062.55</td>\n",
              "      <td>Fevereiro</td>\n",
              "      <td>Manhã</td>\n",
              "      <td>PIX</td>\n",
              "      <td>6796.9125</td>\n",
              "      <td>53</td>\n",
              "      <td>2265.6375</td>\n",
              "    </tr>\n",
              "    <tr>\n",
              "      <th>...</th>\n",
              "      <td>...</td>\n",
              "      <td>...</td>\n",
              "      <td>...</td>\n",
              "      <td>...</td>\n",
              "      <td>...</td>\n",
              "      <td>...</td>\n",
              "      <td>...</td>\n",
              "      <td>...</td>\n",
              "      <td>...</td>\n",
              "      <td>...</td>\n",
              "      <td>...</td>\n",
              "      <td>...</td>\n",
              "      <td>...</td>\n",
              "    </tr>\n",
              "    <tr>\n",
              "      <th>995</th>\n",
              "      <td>C</td>\n",
              "      <td>Normal</td>\n",
              "      <td>M</td>\n",
              "      <td>Saúde e beleza</td>\n",
              "      <td>605.25</td>\n",
              "      <td>1</td>\n",
              "      <td>605.25</td>\n",
              "      <td>Janeiro</td>\n",
              "      <td>Tarde</td>\n",
              "      <td>PIX</td>\n",
              "      <td>363.1500</td>\n",
              "      <td>62</td>\n",
              "      <td>242.1000</td>\n",
              "    </tr>\n",
              "    <tr>\n",
              "      <th>996</th>\n",
              "      <td>B</td>\n",
              "      <td>Normal</td>\n",
              "      <td>F</td>\n",
              "      <td>Casa e estilo de vida</td>\n",
              "      <td>1460.70</td>\n",
              "      <td>10</td>\n",
              "      <td>14607.00</td>\n",
              "      <td>Março</td>\n",
              "      <td>Tarde</td>\n",
              "      <td>PIX</td>\n",
              "      <td>10224.9000</td>\n",
              "      <td>44</td>\n",
              "      <td>4382.1000</td>\n",
              "    </tr>\n",
              "    <tr>\n",
              "      <th>997</th>\n",
              "      <td>A</td>\n",
              "      <td>Associado</td>\n",
              "      <td>M</td>\n",
              "      <td>Comida e bebidas</td>\n",
              "      <td>477.60</td>\n",
              "      <td>1</td>\n",
              "      <td>477.60</td>\n",
              "      <td>Fevereiro</td>\n",
              "      <td>Tarde</td>\n",
              "      <td>Dinheiro</td>\n",
              "      <td>405.9600</td>\n",
              "      <td>77</td>\n",
              "      <td>71.6400</td>\n",
              "    </tr>\n",
              "    <tr>\n",
              "      <th>998</th>\n",
              "      <td>A</td>\n",
              "      <td>Normal</td>\n",
              "      <td>M</td>\n",
              "      <td>Casa e estilo de vida</td>\n",
              "      <td>987.30</td>\n",
              "      <td>1</td>\n",
              "      <td>987.30</td>\n",
              "      <td>Fevereiro</td>\n",
              "      <td>Tarde</td>\n",
              "      <td>Dinheiro</td>\n",
              "      <td>691.1100</td>\n",
              "      <td>41</td>\n",
              "      <td>296.1900</td>\n",
              "    </tr>\n",
              "    <tr>\n",
              "      <th>999</th>\n",
              "      <td>A</td>\n",
              "      <td>Associado</td>\n",
              "      <td>F</td>\n",
              "      <td>Acessórios fashions</td>\n",
              "      <td>1325.10</td>\n",
              "      <td>7</td>\n",
              "      <td>9275.70</td>\n",
              "      <td>Fevereiro</td>\n",
              "      <td>Tarde</td>\n",
              "      <td>Dinheiro</td>\n",
              "      <td>6956.7750</td>\n",
              "      <td>66</td>\n",
              "      <td>2318.9250</td>\n",
              "    </tr>\n",
              "  </tbody>\n",
              "</table>\n",
              "<p>1000 rows × 13 columns</p>\n",
              "</div>\n",
              "      <button class=\"colab-df-convert\" onclick=\"convertToInteractive('df-aa468872-7c6d-44be-ba68-c9e16612c1f3')\"\n",
              "              title=\"Convert this dataframe to an interactive table.\"\n",
              "              style=\"display:none;\">\n",
              "        \n",
              "  <svg xmlns=\"http://www.w3.org/2000/svg\" height=\"24px\"viewBox=\"0 0 24 24\"\n",
              "       width=\"24px\">\n",
              "    <path d=\"M0 0h24v24H0V0z\" fill=\"none\"/>\n",
              "    <path d=\"M18.56 5.44l.94 2.06.94-2.06 2.06-.94-2.06-.94-.94-2.06-.94 2.06-2.06.94zm-11 1L8.5 8.5l.94-2.06 2.06-.94-2.06-.94L8.5 2.5l-.94 2.06-2.06.94zm10 10l.94 2.06.94-2.06 2.06-.94-2.06-.94-.94-2.06-.94 2.06-2.06.94z\"/><path d=\"M17.41 7.96l-1.37-1.37c-.4-.4-.92-.59-1.43-.59-.52 0-1.04.2-1.43.59L10.3 9.45l-7.72 7.72c-.78.78-.78 2.05 0 2.83L4 21.41c.39.39.9.59 1.41.59.51 0 1.02-.2 1.41-.59l7.78-7.78 2.81-2.81c.8-.78.8-2.07 0-2.86zM5.41 20L4 18.59l7.72-7.72 1.47 1.35L5.41 20z\"/>\n",
              "  </svg>\n",
              "      </button>\n",
              "      \n",
              "  <style>\n",
              "    .colab-df-container {\n",
              "      display:flex;\n",
              "      flex-wrap:wrap;\n",
              "      gap: 12px;\n",
              "    }\n",
              "\n",
              "    .colab-df-convert {\n",
              "      background-color: #E8F0FE;\n",
              "      border: none;\n",
              "      border-radius: 50%;\n",
              "      cursor: pointer;\n",
              "      display: none;\n",
              "      fill: #1967D2;\n",
              "      height: 32px;\n",
              "      padding: 0 0 0 0;\n",
              "      width: 32px;\n",
              "    }\n",
              "\n",
              "    .colab-df-convert:hover {\n",
              "      background-color: #E2EBFA;\n",
              "      box-shadow: 0px 1px 2px rgba(60, 64, 67, 0.3), 0px 1px 3px 1px rgba(60, 64, 67, 0.15);\n",
              "      fill: #174EA6;\n",
              "    }\n",
              "\n",
              "    [theme=dark] .colab-df-convert {\n",
              "      background-color: #3B4455;\n",
              "      fill: #D2E3FC;\n",
              "    }\n",
              "\n",
              "    [theme=dark] .colab-df-convert:hover {\n",
              "      background-color: #434B5C;\n",
              "      box-shadow: 0px 1px 3px 1px rgba(0, 0, 0, 0.15);\n",
              "      filter: drop-shadow(0px 1px 2px rgba(0, 0, 0, 0.3));\n",
              "      fill: #FFFFFF;\n",
              "    }\n",
              "  </style>\n",
              "\n",
              "      <script>\n",
              "        const buttonEl =\n",
              "          document.querySelector('#df-aa468872-7c6d-44be-ba68-c9e16612c1f3 button.colab-df-convert');\n",
              "        buttonEl.style.display =\n",
              "          google.colab.kernel.accessAllowed ? 'block' : 'none';\n",
              "\n",
              "        async function convertToInteractive(key) {\n",
              "          const element = document.querySelector('#df-aa468872-7c6d-44be-ba68-c9e16612c1f3');\n",
              "          const dataTable =\n",
              "            await google.colab.kernel.invokeFunction('convertToInteractive',\n",
              "                                                     [key], {});\n",
              "          if (!dataTable) return;\n",
              "\n",
              "          const docLinkHtml = 'Like what you see? Visit the ' +\n",
              "            '<a target=\"_blank\" href=https://colab.research.google.com/notebooks/data_table.ipynb>data table notebook</a>'\n",
              "            + ' to learn more about interactive tables.';\n",
              "          element.innerHTML = '';\n",
              "          dataTable['output_type'] = 'display_data';\n",
              "          await google.colab.output.renderOutput(dataTable, element);\n",
              "          const docLink = document.createElement('div');\n",
              "          docLink.innerHTML = docLinkHtml;\n",
              "          element.appendChild(docLink);\n",
              "        }\n",
              "      </script>\n",
              "    </div>\n",
              "  </div>\n",
              "  "
            ]
          },
          "metadata": {},
          "execution_count": 62
        }
      ]
    },
    {
      "cell_type": "markdown",
      "source": [
        "# <font color='red'>Reorganize a coluna Lucro antes de Avaliação?</font>\n"
      ],
      "metadata": {
        "id": "DX7nn4V19Qwl"
      }
    },
    {
      "cell_type": "code",
      "source": [
        "df = df[['Filial', 'Tipo de Cliente', 'Gênero', 'Linha de produto', 'Preço unitário', 'Quantidade', 'Total', 'Data', 'Horário', 'Pagamento', 'COGS', 'Lucro', 'Avaliação']]"
      ],
      "metadata": {
        "id": "5iU8M-QSi_DW"
      },
      "execution_count": null,
      "outputs": []
    },
    {
      "cell_type": "code",
      "source": [
        "df"
      ],
      "metadata": {
        "colab": {
          "base_uri": "https://localhost:8080/",
          "height": 424
        },
        "id": "9rip7LNHjE0G",
        "outputId": "e5a2212d-e4a9-49dc-e291-5174b0613a06"
      },
      "execution_count": null,
      "outputs": [
        {
          "output_type": "execute_result",
          "data": {
            "text/plain": [
              "    Filial Tipo de Cliente Gênero        Linha de produto  Preço unitário  \\\n",
              "0        A       Associado      F          Saúde e beleza         1120.35   \n",
              "1        C          Normal      F  Acessórios eletrônicos          229.20   \n",
              "2        A          Normal      M   Casa e estilo de vida          694.95   \n",
              "3        A       Associado      M          Saúde e beleza          873.30   \n",
              "4        A          Normal      M      Esportes e viagens         1294.65   \n",
              "..     ...             ...    ...                     ...             ...   \n",
              "995      C          Normal      M          Saúde e beleza          605.25   \n",
              "996      B          Normal      F   Casa e estilo de vida         1460.70   \n",
              "997      A       Associado      M        Comida e bebidas          477.60   \n",
              "998      A          Normal      M   Casa e estilo de vida          987.30   \n",
              "999      A       Associado      F     Acessórios fashions         1325.10   \n",
              "\n",
              "     Quantidade     Total       Data Horário          Pagamento        COGS  \\\n",
              "0             7   7842.45    Janeiro   Tarde                PIX   4705.4700   \n",
              "1             5   1146.00      Março   Manhã           Dinheiro   1031.4000   \n",
              "2             7   4864.65      Março   Tarde  Cartão de Crédito   3405.2550   \n",
              "3             8   6986.40    Janeiro   Noite                PIX   4191.8400   \n",
              "4             7   9062.55  Fevereiro   Manhã                PIX   6796.9125   \n",
              "..          ...       ...        ...     ...                ...         ...   \n",
              "995           1    605.25    Janeiro   Tarde                PIX    363.1500   \n",
              "996          10  14607.00      Março   Tarde                PIX  10224.9000   \n",
              "997           1    477.60  Fevereiro   Tarde           Dinheiro    405.9600   \n",
              "998           1    987.30  Fevereiro   Tarde           Dinheiro    691.1100   \n",
              "999           7   9275.70  Fevereiro   Tarde           Dinheiro   6956.7750   \n",
              "\n",
              "         Lucro  Avaliação  \n",
              "0    3136.9800         91  \n",
              "1     114.6000         96  \n",
              "2    1459.3950         74  \n",
              "3    2794.5600         84  \n",
              "4    2265.6375         53  \n",
              "..         ...        ...  \n",
              "995   242.1000         62  \n",
              "996  4382.1000         44  \n",
              "997    71.6400         77  \n",
              "998   296.1900         41  \n",
              "999  2318.9250         66  \n",
              "\n",
              "[1000 rows x 13 columns]"
            ],
            "text/html": [
              "\n",
              "  <div id=\"df-4099ab53-c977-4bd0-9452-a238542ff778\">\n",
              "    <div class=\"colab-df-container\">\n",
              "      <div>\n",
              "<style scoped>\n",
              "    .dataframe tbody tr th:only-of-type {\n",
              "        vertical-align: middle;\n",
              "    }\n",
              "\n",
              "    .dataframe tbody tr th {\n",
              "        vertical-align: top;\n",
              "    }\n",
              "\n",
              "    .dataframe thead th {\n",
              "        text-align: right;\n",
              "    }\n",
              "</style>\n",
              "<table border=\"1\" class=\"dataframe\">\n",
              "  <thead>\n",
              "    <tr style=\"text-align: right;\">\n",
              "      <th></th>\n",
              "      <th>Filial</th>\n",
              "      <th>Tipo de Cliente</th>\n",
              "      <th>Gênero</th>\n",
              "      <th>Linha de produto</th>\n",
              "      <th>Preço unitário</th>\n",
              "      <th>Quantidade</th>\n",
              "      <th>Total</th>\n",
              "      <th>Data</th>\n",
              "      <th>Horário</th>\n",
              "      <th>Pagamento</th>\n",
              "      <th>COGS</th>\n",
              "      <th>Lucro</th>\n",
              "      <th>Avaliação</th>\n",
              "    </tr>\n",
              "  </thead>\n",
              "  <tbody>\n",
              "    <tr>\n",
              "      <th>0</th>\n",
              "      <td>A</td>\n",
              "      <td>Associado</td>\n",
              "      <td>F</td>\n",
              "      <td>Saúde e beleza</td>\n",
              "      <td>1120.35</td>\n",
              "      <td>7</td>\n",
              "      <td>7842.45</td>\n",
              "      <td>Janeiro</td>\n",
              "      <td>Tarde</td>\n",
              "      <td>PIX</td>\n",
              "      <td>4705.4700</td>\n",
              "      <td>3136.9800</td>\n",
              "      <td>91</td>\n",
              "    </tr>\n",
              "    <tr>\n",
              "      <th>1</th>\n",
              "      <td>C</td>\n",
              "      <td>Normal</td>\n",
              "      <td>F</td>\n",
              "      <td>Acessórios eletrônicos</td>\n",
              "      <td>229.20</td>\n",
              "      <td>5</td>\n",
              "      <td>1146.00</td>\n",
              "      <td>Março</td>\n",
              "      <td>Manhã</td>\n",
              "      <td>Dinheiro</td>\n",
              "      <td>1031.4000</td>\n",
              "      <td>114.6000</td>\n",
              "      <td>96</td>\n",
              "    </tr>\n",
              "    <tr>\n",
              "      <th>2</th>\n",
              "      <td>A</td>\n",
              "      <td>Normal</td>\n",
              "      <td>M</td>\n",
              "      <td>Casa e estilo de vida</td>\n",
              "      <td>694.95</td>\n",
              "      <td>7</td>\n",
              "      <td>4864.65</td>\n",
              "      <td>Março</td>\n",
              "      <td>Tarde</td>\n",
              "      <td>Cartão de Crédito</td>\n",
              "      <td>3405.2550</td>\n",
              "      <td>1459.3950</td>\n",
              "      <td>74</td>\n",
              "    </tr>\n",
              "    <tr>\n",
              "      <th>3</th>\n",
              "      <td>A</td>\n",
              "      <td>Associado</td>\n",
              "      <td>M</td>\n",
              "      <td>Saúde e beleza</td>\n",
              "      <td>873.30</td>\n",
              "      <td>8</td>\n",
              "      <td>6986.40</td>\n",
              "      <td>Janeiro</td>\n",
              "      <td>Noite</td>\n",
              "      <td>PIX</td>\n",
              "      <td>4191.8400</td>\n",
              "      <td>2794.5600</td>\n",
              "      <td>84</td>\n",
              "    </tr>\n",
              "    <tr>\n",
              "      <th>4</th>\n",
              "      <td>A</td>\n",
              "      <td>Normal</td>\n",
              "      <td>M</td>\n",
              "      <td>Esportes e viagens</td>\n",
              "      <td>1294.65</td>\n",
              "      <td>7</td>\n",
              "      <td>9062.55</td>\n",
              "      <td>Fevereiro</td>\n",
              "      <td>Manhã</td>\n",
              "      <td>PIX</td>\n",
              "      <td>6796.9125</td>\n",
              "      <td>2265.6375</td>\n",
              "      <td>53</td>\n",
              "    </tr>\n",
              "    <tr>\n",
              "      <th>...</th>\n",
              "      <td>...</td>\n",
              "      <td>...</td>\n",
              "      <td>...</td>\n",
              "      <td>...</td>\n",
              "      <td>...</td>\n",
              "      <td>...</td>\n",
              "      <td>...</td>\n",
              "      <td>...</td>\n",
              "      <td>...</td>\n",
              "      <td>...</td>\n",
              "      <td>...</td>\n",
              "      <td>...</td>\n",
              "      <td>...</td>\n",
              "    </tr>\n",
              "    <tr>\n",
              "      <th>995</th>\n",
              "      <td>C</td>\n",
              "      <td>Normal</td>\n",
              "      <td>M</td>\n",
              "      <td>Saúde e beleza</td>\n",
              "      <td>605.25</td>\n",
              "      <td>1</td>\n",
              "      <td>605.25</td>\n",
              "      <td>Janeiro</td>\n",
              "      <td>Tarde</td>\n",
              "      <td>PIX</td>\n",
              "      <td>363.1500</td>\n",
              "      <td>242.1000</td>\n",
              "      <td>62</td>\n",
              "    </tr>\n",
              "    <tr>\n",
              "      <th>996</th>\n",
              "      <td>B</td>\n",
              "      <td>Normal</td>\n",
              "      <td>F</td>\n",
              "      <td>Casa e estilo de vida</td>\n",
              "      <td>1460.70</td>\n",
              "      <td>10</td>\n",
              "      <td>14607.00</td>\n",
              "      <td>Março</td>\n",
              "      <td>Tarde</td>\n",
              "      <td>PIX</td>\n",
              "      <td>10224.9000</td>\n",
              "      <td>4382.1000</td>\n",
              "      <td>44</td>\n",
              "    </tr>\n",
              "    <tr>\n",
              "      <th>997</th>\n",
              "      <td>A</td>\n",
              "      <td>Associado</td>\n",
              "      <td>M</td>\n",
              "      <td>Comida e bebidas</td>\n",
              "      <td>477.60</td>\n",
              "      <td>1</td>\n",
              "      <td>477.60</td>\n",
              "      <td>Fevereiro</td>\n",
              "      <td>Tarde</td>\n",
              "      <td>Dinheiro</td>\n",
              "      <td>405.9600</td>\n",
              "      <td>71.6400</td>\n",
              "      <td>77</td>\n",
              "    </tr>\n",
              "    <tr>\n",
              "      <th>998</th>\n",
              "      <td>A</td>\n",
              "      <td>Normal</td>\n",
              "      <td>M</td>\n",
              "      <td>Casa e estilo de vida</td>\n",
              "      <td>987.30</td>\n",
              "      <td>1</td>\n",
              "      <td>987.30</td>\n",
              "      <td>Fevereiro</td>\n",
              "      <td>Tarde</td>\n",
              "      <td>Dinheiro</td>\n",
              "      <td>691.1100</td>\n",
              "      <td>296.1900</td>\n",
              "      <td>41</td>\n",
              "    </tr>\n",
              "    <tr>\n",
              "      <th>999</th>\n",
              "      <td>A</td>\n",
              "      <td>Associado</td>\n",
              "      <td>F</td>\n",
              "      <td>Acessórios fashions</td>\n",
              "      <td>1325.10</td>\n",
              "      <td>7</td>\n",
              "      <td>9275.70</td>\n",
              "      <td>Fevereiro</td>\n",
              "      <td>Tarde</td>\n",
              "      <td>Dinheiro</td>\n",
              "      <td>6956.7750</td>\n",
              "      <td>2318.9250</td>\n",
              "      <td>66</td>\n",
              "    </tr>\n",
              "  </tbody>\n",
              "</table>\n",
              "<p>1000 rows × 13 columns</p>\n",
              "</div>\n",
              "      <button class=\"colab-df-convert\" onclick=\"convertToInteractive('df-4099ab53-c977-4bd0-9452-a238542ff778')\"\n",
              "              title=\"Convert this dataframe to an interactive table.\"\n",
              "              style=\"display:none;\">\n",
              "        \n",
              "  <svg xmlns=\"http://www.w3.org/2000/svg\" height=\"24px\"viewBox=\"0 0 24 24\"\n",
              "       width=\"24px\">\n",
              "    <path d=\"M0 0h24v24H0V0z\" fill=\"none\"/>\n",
              "    <path d=\"M18.56 5.44l.94 2.06.94-2.06 2.06-.94-2.06-.94-.94-2.06-.94 2.06-2.06.94zm-11 1L8.5 8.5l.94-2.06 2.06-.94-2.06-.94L8.5 2.5l-.94 2.06-2.06.94zm10 10l.94 2.06.94-2.06 2.06-.94-2.06-.94-.94-2.06-.94 2.06-2.06.94z\"/><path d=\"M17.41 7.96l-1.37-1.37c-.4-.4-.92-.59-1.43-.59-.52 0-1.04.2-1.43.59L10.3 9.45l-7.72 7.72c-.78.78-.78 2.05 0 2.83L4 21.41c.39.39.9.59 1.41.59.51 0 1.02-.2 1.41-.59l7.78-7.78 2.81-2.81c.8-.78.8-2.07 0-2.86zM5.41 20L4 18.59l7.72-7.72 1.47 1.35L5.41 20z\"/>\n",
              "  </svg>\n",
              "      </button>\n",
              "      \n",
              "  <style>\n",
              "    .colab-df-container {\n",
              "      display:flex;\n",
              "      flex-wrap:wrap;\n",
              "      gap: 12px;\n",
              "    }\n",
              "\n",
              "    .colab-df-convert {\n",
              "      background-color: #E8F0FE;\n",
              "      border: none;\n",
              "      border-radius: 50%;\n",
              "      cursor: pointer;\n",
              "      display: none;\n",
              "      fill: #1967D2;\n",
              "      height: 32px;\n",
              "      padding: 0 0 0 0;\n",
              "      width: 32px;\n",
              "    }\n",
              "\n",
              "    .colab-df-convert:hover {\n",
              "      background-color: #E2EBFA;\n",
              "      box-shadow: 0px 1px 2px rgba(60, 64, 67, 0.3), 0px 1px 3px 1px rgba(60, 64, 67, 0.15);\n",
              "      fill: #174EA6;\n",
              "    }\n",
              "\n",
              "    [theme=dark] .colab-df-convert {\n",
              "      background-color: #3B4455;\n",
              "      fill: #D2E3FC;\n",
              "    }\n",
              "\n",
              "    [theme=dark] .colab-df-convert:hover {\n",
              "      background-color: #434B5C;\n",
              "      box-shadow: 0px 1px 3px 1px rgba(0, 0, 0, 0.15);\n",
              "      filter: drop-shadow(0px 1px 2px rgba(0, 0, 0, 0.3));\n",
              "      fill: #FFFFFF;\n",
              "    }\n",
              "  </style>\n",
              "\n",
              "      <script>\n",
              "        const buttonEl =\n",
              "          document.querySelector('#df-4099ab53-c977-4bd0-9452-a238542ff778 button.colab-df-convert');\n",
              "        buttonEl.style.display =\n",
              "          google.colab.kernel.accessAllowed ? 'block' : 'none';\n",
              "\n",
              "        async function convertToInteractive(key) {\n",
              "          const element = document.querySelector('#df-4099ab53-c977-4bd0-9452-a238542ff778');\n",
              "          const dataTable =\n",
              "            await google.colab.kernel.invokeFunction('convertToInteractive',\n",
              "                                                     [key], {});\n",
              "          if (!dataTable) return;\n",
              "\n",
              "          const docLinkHtml = 'Like what you see? Visit the ' +\n",
              "            '<a target=\"_blank\" href=https://colab.research.google.com/notebooks/data_table.ipynb>data table notebook</a>'\n",
              "            + ' to learn more about interactive tables.';\n",
              "          element.innerHTML = '';\n",
              "          dataTable['output_type'] = 'display_data';\n",
              "          await google.colab.output.renderOutput(dataTable, element);\n",
              "          const docLink = document.createElement('div');\n",
              "          docLink.innerHTML = docLinkHtml;\n",
              "          element.appendChild(docLink);\n",
              "        }\n",
              "      </script>\n",
              "    </div>\n",
              "  </div>\n",
              "  "
            ]
          },
          "metadata": {},
          "execution_count": 64
        }
      ]
    },
    {
      "cell_type": "markdown",
      "source": [
        "# <font color='red'>Qual linha de produto da mais lucro?</font>\n"
      ],
      "metadata": {
        "id": "P02VQKXj9cjb"
      }
    },
    {
      "cell_type": "code",
      "source": [
        "agrupamento_Linha_lucro = df.groupby('Linha de produto')['Lucro'].mean().reset_index(drop=False)"
      ],
      "metadata": {
        "id": "jDI4e33vrws_"
      },
      "execution_count": null,
      "outputs": []
    },
    {
      "cell_type": "code",
      "source": [
        "agrupamento_Linha_lucro"
      ],
      "metadata": {
        "colab": {
          "base_uri": "https://localhost:8080/",
          "height": 238
        },
        "id": "HplUC0GIk22u",
        "outputId": "a3a3e1ee-784f-42a8-fb75-279caf82beab"
      },
      "execution_count": null,
      "outputs": [
        {
          "output_type": "execute_result",
          "data": {
            "text/plain": [
              "         Linha de produto        Lucro\n",
              "0  Acessórios eletrônicos   427.857353\n",
              "1     Acessórios fashions  1010.823034\n",
              "2   Casa e estilo de vida  1336.791938\n",
              "3        Comida e bebidas   586.947802\n",
              "4      Esportes e viagens  1087.958358\n",
              "5          Saúde e beleza  1609.607368"
            ],
            "text/html": [
              "\n",
              "  <div id=\"df-f24b5e64-a82a-4866-b0b0-631b5bba01c3\">\n",
              "    <div class=\"colab-df-container\">\n",
              "      <div>\n",
              "<style scoped>\n",
              "    .dataframe tbody tr th:only-of-type {\n",
              "        vertical-align: middle;\n",
              "    }\n",
              "\n",
              "    .dataframe tbody tr th {\n",
              "        vertical-align: top;\n",
              "    }\n",
              "\n",
              "    .dataframe thead th {\n",
              "        text-align: right;\n",
              "    }\n",
              "</style>\n",
              "<table border=\"1\" class=\"dataframe\">\n",
              "  <thead>\n",
              "    <tr style=\"text-align: right;\">\n",
              "      <th></th>\n",
              "      <th>Linha de produto</th>\n",
              "      <th>Lucro</th>\n",
              "    </tr>\n",
              "  </thead>\n",
              "  <tbody>\n",
              "    <tr>\n",
              "      <th>0</th>\n",
              "      <td>Acessórios eletrônicos</td>\n",
              "      <td>427.857353</td>\n",
              "    </tr>\n",
              "    <tr>\n",
              "      <th>1</th>\n",
              "      <td>Acessórios fashions</td>\n",
              "      <td>1010.823034</td>\n",
              "    </tr>\n",
              "    <tr>\n",
              "      <th>2</th>\n",
              "      <td>Casa e estilo de vida</td>\n",
              "      <td>1336.791938</td>\n",
              "    </tr>\n",
              "    <tr>\n",
              "      <th>3</th>\n",
              "      <td>Comida e bebidas</td>\n",
              "      <td>586.947802</td>\n",
              "    </tr>\n",
              "    <tr>\n",
              "      <th>4</th>\n",
              "      <td>Esportes e viagens</td>\n",
              "      <td>1087.958358</td>\n",
              "    </tr>\n",
              "    <tr>\n",
              "      <th>5</th>\n",
              "      <td>Saúde e beleza</td>\n",
              "      <td>1609.607368</td>\n",
              "    </tr>\n",
              "  </tbody>\n",
              "</table>\n",
              "</div>\n",
              "      <button class=\"colab-df-convert\" onclick=\"convertToInteractive('df-f24b5e64-a82a-4866-b0b0-631b5bba01c3')\"\n",
              "              title=\"Convert this dataframe to an interactive table.\"\n",
              "              style=\"display:none;\">\n",
              "        \n",
              "  <svg xmlns=\"http://www.w3.org/2000/svg\" height=\"24px\"viewBox=\"0 0 24 24\"\n",
              "       width=\"24px\">\n",
              "    <path d=\"M0 0h24v24H0V0z\" fill=\"none\"/>\n",
              "    <path d=\"M18.56 5.44l.94 2.06.94-2.06 2.06-.94-2.06-.94-.94-2.06-.94 2.06-2.06.94zm-11 1L8.5 8.5l.94-2.06 2.06-.94-2.06-.94L8.5 2.5l-.94 2.06-2.06.94zm10 10l.94 2.06.94-2.06 2.06-.94-2.06-.94-.94-2.06-.94 2.06-2.06.94z\"/><path d=\"M17.41 7.96l-1.37-1.37c-.4-.4-.92-.59-1.43-.59-.52 0-1.04.2-1.43.59L10.3 9.45l-7.72 7.72c-.78.78-.78 2.05 0 2.83L4 21.41c.39.39.9.59 1.41.59.51 0 1.02-.2 1.41-.59l7.78-7.78 2.81-2.81c.8-.78.8-2.07 0-2.86zM5.41 20L4 18.59l7.72-7.72 1.47 1.35L5.41 20z\"/>\n",
              "  </svg>\n",
              "      </button>\n",
              "      \n",
              "  <style>\n",
              "    .colab-df-container {\n",
              "      display:flex;\n",
              "      flex-wrap:wrap;\n",
              "      gap: 12px;\n",
              "    }\n",
              "\n",
              "    .colab-df-convert {\n",
              "      background-color: #E8F0FE;\n",
              "      border: none;\n",
              "      border-radius: 50%;\n",
              "      cursor: pointer;\n",
              "      display: none;\n",
              "      fill: #1967D2;\n",
              "      height: 32px;\n",
              "      padding: 0 0 0 0;\n",
              "      width: 32px;\n",
              "    }\n",
              "\n",
              "    .colab-df-convert:hover {\n",
              "      background-color: #E2EBFA;\n",
              "      box-shadow: 0px 1px 2px rgba(60, 64, 67, 0.3), 0px 1px 3px 1px rgba(60, 64, 67, 0.15);\n",
              "      fill: #174EA6;\n",
              "    }\n",
              "\n",
              "    [theme=dark] .colab-df-convert {\n",
              "      background-color: #3B4455;\n",
              "      fill: #D2E3FC;\n",
              "    }\n",
              "\n",
              "    [theme=dark] .colab-df-convert:hover {\n",
              "      background-color: #434B5C;\n",
              "      box-shadow: 0px 1px 3px 1px rgba(0, 0, 0, 0.15);\n",
              "      filter: drop-shadow(0px 1px 2px rgba(0, 0, 0, 0.3));\n",
              "      fill: #FFFFFF;\n",
              "    }\n",
              "  </style>\n",
              "\n",
              "      <script>\n",
              "        const buttonEl =\n",
              "          document.querySelector('#df-f24b5e64-a82a-4866-b0b0-631b5bba01c3 button.colab-df-convert');\n",
              "        buttonEl.style.display =\n",
              "          google.colab.kernel.accessAllowed ? 'block' : 'none';\n",
              "\n",
              "        async function convertToInteractive(key) {\n",
              "          const element = document.querySelector('#df-f24b5e64-a82a-4866-b0b0-631b5bba01c3');\n",
              "          const dataTable =\n",
              "            await google.colab.kernel.invokeFunction('convertToInteractive',\n",
              "                                                     [key], {});\n",
              "          if (!dataTable) return;\n",
              "\n",
              "          const docLinkHtml = 'Like what you see? Visit the ' +\n",
              "            '<a target=\"_blank\" href=https://colab.research.google.com/notebooks/data_table.ipynb>data table notebook</a>'\n",
              "            + ' to learn more about interactive tables.';\n",
              "          element.innerHTML = '';\n",
              "          dataTable['output_type'] = 'display_data';\n",
              "          await google.colab.output.renderOutput(dataTable, element);\n",
              "          const docLink = document.createElement('div');\n",
              "          docLink.innerHTML = docLinkHtml;\n",
              "          element.appendChild(docLink);\n",
              "        }\n",
              "      </script>\n",
              "    </div>\n",
              "  </div>\n",
              "  "
            ]
          },
          "metadata": {},
          "execution_count": 66
        }
      ]
    },
    {
      "cell_type": "code",
      "source": [
        "agrupamento_Linha_lucro = agrupamento_Linha_lucro.round(1)"
      ],
      "metadata": {
        "id": "Gh3yvq9llr6K"
      },
      "execution_count": null,
      "outputs": []
    },
    {
      "cell_type": "code",
      "source": [
        "agrupamento_Linha_lucro"
      ],
      "metadata": {
        "colab": {
          "base_uri": "https://localhost:8080/",
          "height": 238
        },
        "id": "mwq3cEJOlUe2",
        "outputId": "9e9245d9-6dbf-4d62-a021-9f4316282f52"
      },
      "execution_count": null,
      "outputs": [
        {
          "output_type": "execute_result",
          "data": {
            "text/plain": [
              "         Linha de produto   Lucro\n",
              "0  Acessórios eletrônicos   427.9\n",
              "1     Acessórios fashions  1010.8\n",
              "2   Casa e estilo de vida  1336.8\n",
              "3        Comida e bebidas   586.9\n",
              "4      Esportes e viagens  1088.0\n",
              "5          Saúde e beleza  1609.6"
            ],
            "text/html": [
              "\n",
              "  <div id=\"df-0c0dc90a-08d1-4208-b36b-f15d3d1a817e\">\n",
              "    <div class=\"colab-df-container\">\n",
              "      <div>\n",
              "<style scoped>\n",
              "    .dataframe tbody tr th:only-of-type {\n",
              "        vertical-align: middle;\n",
              "    }\n",
              "\n",
              "    .dataframe tbody tr th {\n",
              "        vertical-align: top;\n",
              "    }\n",
              "\n",
              "    .dataframe thead th {\n",
              "        text-align: right;\n",
              "    }\n",
              "</style>\n",
              "<table border=\"1\" class=\"dataframe\">\n",
              "  <thead>\n",
              "    <tr style=\"text-align: right;\">\n",
              "      <th></th>\n",
              "      <th>Linha de produto</th>\n",
              "      <th>Lucro</th>\n",
              "    </tr>\n",
              "  </thead>\n",
              "  <tbody>\n",
              "    <tr>\n",
              "      <th>0</th>\n",
              "      <td>Acessórios eletrônicos</td>\n",
              "      <td>427.9</td>\n",
              "    </tr>\n",
              "    <tr>\n",
              "      <th>1</th>\n",
              "      <td>Acessórios fashions</td>\n",
              "      <td>1010.8</td>\n",
              "    </tr>\n",
              "    <tr>\n",
              "      <th>2</th>\n",
              "      <td>Casa e estilo de vida</td>\n",
              "      <td>1336.8</td>\n",
              "    </tr>\n",
              "    <tr>\n",
              "      <th>3</th>\n",
              "      <td>Comida e bebidas</td>\n",
              "      <td>586.9</td>\n",
              "    </tr>\n",
              "    <tr>\n",
              "      <th>4</th>\n",
              "      <td>Esportes e viagens</td>\n",
              "      <td>1088.0</td>\n",
              "    </tr>\n",
              "    <tr>\n",
              "      <th>5</th>\n",
              "      <td>Saúde e beleza</td>\n",
              "      <td>1609.6</td>\n",
              "    </tr>\n",
              "  </tbody>\n",
              "</table>\n",
              "</div>\n",
              "      <button class=\"colab-df-convert\" onclick=\"convertToInteractive('df-0c0dc90a-08d1-4208-b36b-f15d3d1a817e')\"\n",
              "              title=\"Convert this dataframe to an interactive table.\"\n",
              "              style=\"display:none;\">\n",
              "        \n",
              "  <svg xmlns=\"http://www.w3.org/2000/svg\" height=\"24px\"viewBox=\"0 0 24 24\"\n",
              "       width=\"24px\">\n",
              "    <path d=\"M0 0h24v24H0V0z\" fill=\"none\"/>\n",
              "    <path d=\"M18.56 5.44l.94 2.06.94-2.06 2.06-.94-2.06-.94-.94-2.06-.94 2.06-2.06.94zm-11 1L8.5 8.5l.94-2.06 2.06-.94-2.06-.94L8.5 2.5l-.94 2.06-2.06.94zm10 10l.94 2.06.94-2.06 2.06-.94-2.06-.94-.94-2.06-.94 2.06-2.06.94z\"/><path d=\"M17.41 7.96l-1.37-1.37c-.4-.4-.92-.59-1.43-.59-.52 0-1.04.2-1.43.59L10.3 9.45l-7.72 7.72c-.78.78-.78 2.05 0 2.83L4 21.41c.39.39.9.59 1.41.59.51 0 1.02-.2 1.41-.59l7.78-7.78 2.81-2.81c.8-.78.8-2.07 0-2.86zM5.41 20L4 18.59l7.72-7.72 1.47 1.35L5.41 20z\"/>\n",
              "  </svg>\n",
              "      </button>\n",
              "      \n",
              "  <style>\n",
              "    .colab-df-container {\n",
              "      display:flex;\n",
              "      flex-wrap:wrap;\n",
              "      gap: 12px;\n",
              "    }\n",
              "\n",
              "    .colab-df-convert {\n",
              "      background-color: #E8F0FE;\n",
              "      border: none;\n",
              "      border-radius: 50%;\n",
              "      cursor: pointer;\n",
              "      display: none;\n",
              "      fill: #1967D2;\n",
              "      height: 32px;\n",
              "      padding: 0 0 0 0;\n",
              "      width: 32px;\n",
              "    }\n",
              "\n",
              "    .colab-df-convert:hover {\n",
              "      background-color: #E2EBFA;\n",
              "      box-shadow: 0px 1px 2px rgba(60, 64, 67, 0.3), 0px 1px 3px 1px rgba(60, 64, 67, 0.15);\n",
              "      fill: #174EA6;\n",
              "    }\n",
              "\n",
              "    [theme=dark] .colab-df-convert {\n",
              "      background-color: #3B4455;\n",
              "      fill: #D2E3FC;\n",
              "    }\n",
              "\n",
              "    [theme=dark] .colab-df-convert:hover {\n",
              "      background-color: #434B5C;\n",
              "      box-shadow: 0px 1px 3px 1px rgba(0, 0, 0, 0.15);\n",
              "      filter: drop-shadow(0px 1px 2px rgba(0, 0, 0, 0.3));\n",
              "      fill: #FFFFFF;\n",
              "    }\n",
              "  </style>\n",
              "\n",
              "      <script>\n",
              "        const buttonEl =\n",
              "          document.querySelector('#df-0c0dc90a-08d1-4208-b36b-f15d3d1a817e button.colab-df-convert');\n",
              "        buttonEl.style.display =\n",
              "          google.colab.kernel.accessAllowed ? 'block' : 'none';\n",
              "\n",
              "        async function convertToInteractive(key) {\n",
              "          const element = document.querySelector('#df-0c0dc90a-08d1-4208-b36b-f15d3d1a817e');\n",
              "          const dataTable =\n",
              "            await google.colab.kernel.invokeFunction('convertToInteractive',\n",
              "                                                     [key], {});\n",
              "          if (!dataTable) return;\n",
              "\n",
              "          const docLinkHtml = 'Like what you see? Visit the ' +\n",
              "            '<a target=\"_blank\" href=https://colab.research.google.com/notebooks/data_table.ipynb>data table notebook</a>'\n",
              "            + ' to learn more about interactive tables.';\n",
              "          element.innerHTML = '';\n",
              "          dataTable['output_type'] = 'display_data';\n",
              "          await google.colab.output.renderOutput(dataTable, element);\n",
              "          const docLink = document.createElement('div');\n",
              "          docLink.innerHTML = docLinkHtml;\n",
              "          element.appendChild(docLink);\n",
              "        }\n",
              "      </script>\n",
              "    </div>\n",
              "  </div>\n",
              "  "
            ]
          },
          "metadata": {},
          "execution_count": 68
        }
      ]
    },
    {
      "cell_type": "code",
      "source": [
        "fig, ax = plt.subplots(figsize=(16,12))\n",
        "ax = sns.barplot(x = 'Linha de produto', y = 'Lucro', data = agrupamento_Linha_lucro , palette = Figura)\n",
        "plt.axhline(y=np.nanmean(df.Lucro), color='red', linestyle='--', linewidth=3, label='Média')\n",
        "plt.xticks(rotation = 45)"
      ],
      "metadata": {
        "colab": {
          "base_uri": "https://localhost:8080/",
          "height": 1000
        },
        "id": "MlQlrgVIoWA9",
        "outputId": "fd01c9ba-a191-4536-ea30-6bb07b1a6d64"
      },
      "execution_count": null,
      "outputs": [
        {
          "output_type": "execute_result",
          "data": {
            "text/plain": [
              "(array([0, 1, 2, 3, 4, 5]),\n",
              " [Text(0, 0, 'Acessórios eletrônicos'),\n",
              "  Text(1, 0, 'Acessórios fashions'),\n",
              "  Text(2, 0, 'Casa e estilo de vida'),\n",
              "  Text(3, 0, 'Comida e bebidas'),\n",
              "  Text(4, 0, 'Esportes e viagens'),\n",
              "  Text(5, 0, 'Saúde e beleza')])"
            ]
          },
          "metadata": {},
          "execution_count": 70
        },
        {
          "output_type": "display_data",
          "data": {
            "text/plain": [
              "<Figure size 1280x960 with 1 Axes>"
            ],
            "image/png": "[encoded data removed]"
          },
          "metadata": {}
        }
      ]
    },
    {
      "cell_type": "markdown",
      "source": [
        "> A linha de produto que mais está dando lucro é Saúde e beleza"
      ],
      "metadata": {
        "id": "4b3Waaebo2em"
      }
    }
  ]
}